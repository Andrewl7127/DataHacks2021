{
 "cells": [
  {
   "cell_type": "code",
   "execution_count": null,
   "id": "advanced-purchase",
   "metadata": {},
   "outputs": [],
   "source": [
    "import xgboost as xgb"
   ]
  },
  {
   "cell_type": "code",
   "execution_count": null,
   "id": "bibliographic-italic",
   "metadata": {},
   "outputs": [],
   "source": [
    "#load model and predict\n",
    "loaded_model = xgb.Booster()\n",
    "loaded_model.load_model(\"overall_rookie.model\")\n",
    "\n",
    "# X_test is the data thrown in\n",
    "predictions = [round(i) for i in loaded_model.predict(xgb.DMatrix(X_test))]\n",
    "predictions"
   ]
  },
  {
   "cell_type": "code",
   "execution_count": null,
   "id": "inside-dealing",
   "metadata": {},
   "outputs": [],
   "source": [
    "data = pd.DataFrame(np.column_stack([predictions, y_test]), columns = ['predictions','y_test'])"
   ]
  },
  {
   "cell_type": "code",
   "execution_count": null,
   "id": "vocal-outreach",
   "metadata": {},
   "outputs": [],
   "source": [
    "data['index'] = data.index"
   ]
  },
  {
   "cell_type": "code",
   "execution_count": null,
   "id": "peaceful-sphere",
   "metadata": {},
   "outputs": [],
   "source": [
    "import plotly.express as px\n",
    "import plotly.graph_objects as go\n",
    "\n",
    "fig = go.Figure()\n",
    "fig.add_trace(go.Scatter(x=data['index'], y=data['predictions'],\n",
    "                    mode='lines',\n",
    "                    name='predicted'))\n",
    "\n",
    "fig.add_trace(go.Scatter(x=data['index'], y=data['y_test'],\n",
    "                    mode='lines',\n",
    "                    name='observed'))\n",
    "\n",
    "\n",
    "fig.show()"
   ]
  }
 ],
 "metadata": {
  "kernelspec": {
   "display_name": "Python 3",
   "language": "python",
   "name": "python3"
  },
  "language_info": {
   "codemirror_mode": {
    "name": "ipython",
    "version": 3
   },
   "file_extension": ".py",
   "mimetype": "text/x-python",
   "name": "python",
   "nbconvert_exporter": "python",
   "pygments_lexer": "ipython3",
   "version": "3.8.8"
  }
 },
 "nbformat": 4,
 "nbformat_minor": 5
}
