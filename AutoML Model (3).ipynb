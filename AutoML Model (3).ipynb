{
 "cells": [
  {
   "cell_type": "code",
   "execution_count": 77,
   "metadata": {},
   "outputs": [],
   "source": [
    "import pandas as pd\n",
    "\n",
    "df = pd.read_csv('busi_train.csv')\n",
    "df = df.drop(['Unnamed: 0'], axis = 1)"
   ]
  },
  {
   "cell_type": "code",
   "execution_count": 78,
   "metadata": {},
   "outputs": [
    {
     "name": "stdout",
     "output_type": "stream",
     "text": [
      "Dataset has 1192 entries and 30 features\n"
     ]
    }
   ],
   "source": [
    "print(\"Dataset has {} entries and {} features\".format(*df.shape))"
   ]
  },
  {
   "cell_type": "code",
   "execution_count": 79,
   "metadata": {},
   "outputs": [
    {
     "data": {
      "text/html": [
       "<div>\n",
       "<style scoped>\n",
       "    .dataframe tbody tr th:only-of-type {\n",
       "        vertical-align: middle;\n",
       "    }\n",
       "\n",
       "    .dataframe tbody tr th {\n",
       "        vertical-align: top;\n",
       "    }\n",
       "\n",
       "    .dataframe thead th {\n",
       "        text-align: right;\n",
       "    }\n",
       "</style>\n",
       "<table border=\"1\" class=\"dataframe\">\n",
       "  <thead>\n",
       "    <tr style=\"text-align: right;\">\n",
       "      <th></th>\n",
       "      <th>percent_missing</th>\n",
       "    </tr>\n",
       "  </thead>\n",
       "  <tbody>\n",
       "    <tr>\n",
       "      <th>country</th>\n",
       "      <td>0.0</td>\n",
       "    </tr>\n",
       "    <tr>\n",
       "      <th>isonum</th>\n",
       "      <td>0.0</td>\n",
       "    </tr>\n",
       "    <tr>\n",
       "      <th>isocode</th>\n",
       "      <td>0.0</td>\n",
       "    </tr>\n",
       "    <tr>\n",
       "      <th>year</th>\n",
       "      <td>0.0</td>\n",
       "    </tr>\n",
       "    <tr>\n",
       "      <th>rank_busi</th>\n",
       "      <td>0.0</td>\n",
       "    </tr>\n",
       "    <tr>\n",
       "      <th>busi</th>\n",
       "      <td>0.0</td>\n",
       "    </tr>\n",
       "    <tr>\n",
       "      <th>start</th>\n",
       "      <td>0.0</td>\n",
       "    </tr>\n",
       "    <tr>\n",
       "      <th>start_year</th>\n",
       "      <td>0.0</td>\n",
       "    </tr>\n",
       "    <tr>\n",
       "      <th>ahead</th>\n",
       "      <td>0.0</td>\n",
       "    </tr>\n",
       "    <tr>\n",
       "      <th>ahead_year</th>\n",
       "      <td>0.0</td>\n",
       "    </tr>\n",
       "    <tr>\n",
       "      <th>logis</th>\n",
       "      <td>0.0</td>\n",
       "    </tr>\n",
       "    <tr>\n",
       "      <th>logis_year</th>\n",
       "      <td>0.0</td>\n",
       "    </tr>\n",
       "    <tr>\n",
       "      <th>bband</th>\n",
       "      <td>0.0</td>\n",
       "    </tr>\n",
       "    <tr>\n",
       "      <th>bband_year</th>\n",
       "      <td>0.0</td>\n",
       "    </tr>\n",
       "    <tr>\n",
       "      <th>redu</th>\n",
       "      <td>0.0</td>\n",
       "    </tr>\n",
       "    <tr>\n",
       "      <th>redu_year</th>\n",
       "      <td>0.0</td>\n",
       "    </tr>\n",
       "    <tr>\n",
       "      <th>hifi</th>\n",
       "      <td>0.0</td>\n",
       "    </tr>\n",
       "    <tr>\n",
       "      <th>hifi_year</th>\n",
       "      <td>0.0</td>\n",
       "    </tr>\n",
       "    <tr>\n",
       "      <th>affs</th>\n",
       "      <td>0.0</td>\n",
       "    </tr>\n",
       "    <tr>\n",
       "      <th>affs_year</th>\n",
       "      <td>0.0</td>\n",
       "    </tr>\n",
       "    <tr>\n",
       "      <th>ippr</th>\n",
       "      <td>0.0</td>\n",
       "    </tr>\n",
       "    <tr>\n",
       "      <th>ippr_year</th>\n",
       "      <td>0.0</td>\n",
       "    </tr>\n",
       "    <tr>\n",
       "      <th>insdtf</th>\n",
       "      <td>0.0</td>\n",
       "    </tr>\n",
       "    <tr>\n",
       "      <th>insdtf_year</th>\n",
       "      <td>0.0</td>\n",
       "    </tr>\n",
       "    <tr>\n",
       "      <th>creddtf</th>\n",
       "      <td>0.0</td>\n",
       "    </tr>\n",
       "    <tr>\n",
       "      <th>creddtf_year</th>\n",
       "      <td>0.0</td>\n",
       "    </tr>\n",
       "    <tr>\n",
       "      <th>elcostlnl</th>\n",
       "      <td>0.0</td>\n",
       "    </tr>\n",
       "    <tr>\n",
       "      <th>elcostlnl_year</th>\n",
       "      <td>0.0</td>\n",
       "    </tr>\n",
       "    <tr>\n",
       "      <th>stardtf</th>\n",
       "      <td>0.0</td>\n",
       "    </tr>\n",
       "    <tr>\n",
       "      <th>stardtf_year</th>\n",
       "      <td>0.0</td>\n",
       "    </tr>\n",
       "  </tbody>\n",
       "</table>\n",
       "</div>"
      ],
      "text/plain": [
       "                percent_missing\n",
       "country                     0.0\n",
       "isonum                      0.0\n",
       "isocode                     0.0\n",
       "year                        0.0\n",
       "rank_busi                   0.0\n",
       "busi                        0.0\n",
       "start                       0.0\n",
       "start_year                  0.0\n",
       "ahead                       0.0\n",
       "ahead_year                  0.0\n",
       "logis                       0.0\n",
       "logis_year                  0.0\n",
       "bband                       0.0\n",
       "bband_year                  0.0\n",
       "redu                        0.0\n",
       "redu_year                   0.0\n",
       "hifi                        0.0\n",
       "hifi_year                   0.0\n",
       "affs                        0.0\n",
       "affs_year                   0.0\n",
       "ippr                        0.0\n",
       "ippr_year                   0.0\n",
       "insdtf                      0.0\n",
       "insdtf_year                 0.0\n",
       "creddtf                     0.0\n",
       "creddtf_year                0.0\n",
       "elcostlnl                   0.0\n",
       "elcostlnl_year              0.0\n",
       "stardtf                     0.0\n",
       "stardtf_year                0.0"
      ]
     },
     "execution_count": 79,
     "metadata": {},
     "output_type": "execute_result"
    }
   ],
   "source": [
    "percent_missing = df.isnull().sum() * 100 / len(df)\n",
    "missing_value_df = pd.DataFrame({'percent_missing': percent_missing})\n",
    "missing_value_df"
   ]
  },
  {
   "cell_type": "code",
   "execution_count": 80,
   "metadata": {},
   "outputs": [],
   "source": [
    "df = df.drop(['start', 'ahead'], axis = 1)\n",
    "y = df['busi']\n",
    "df = df.drop(['rank_busi', 'busi'], axis = 1)\n",
    "X = df"
   ]
  },
  {
   "cell_type": "code",
   "execution_count": null,
   "metadata": {},
   "outputs": [],
   "source": [
    "from featuretools.selection import remove_low_information_features, remove_highly_null_features, remove_single_value_features, remove_highly_correlated_features\n",
    "\n",
    "df = remove_low_information_features(df)\n",
    "\n",
    "df = remove_highly_null_features(df)\n",
    "\n",
    "df = remove_single_value_features(df)\n",
    "\n",
    "df = remove_highly_correlated_features(df)"
   ]
  },
  {
   "cell_type": "code",
   "execution_count": 81,
   "metadata": {},
   "outputs": [
    {
     "name": "stdout",
     "output_type": "stream",
     "text": [
      "Using default limit of max_batches=1.\n",
      "\n",
      "Generating pipelines to search over...\n",
      "*****************************\n",
      "* Beginning pipeline search *\n",
      "*****************************\n",
      "\n",
      "Optimizing for Root Mean Squared Error. \n",
      "Lower score is better.\n",
      "\n",
      "Using SequentialEngine to train and score pipelines.\n",
      "Searching up to 1 batches for a total of 9 pipelines. \n",
      "Allowed model families: linear_model, decision_tree, extra_trees, random_forest, xgboost, lightgbm, catboost\n",
      "\n"
     ]
    },
    {
     "data": {
      "application/vnd.jupyter.widget-view+json": {
       "model_id": "01c80ff18e794867bcb2a18cc11f466d",
       "version_major": 2,
       "version_minor": 0
      },
      "text/plain": [
       "FigureWidget({\n",
       "    'data': [{'mode': 'lines+markers',\n",
       "              'name': 'Best Score',\n",
       "              'type'…"
      ]
     },
     "metadata": {},
     "output_type": "display_data"
    },
    {
     "name": "stdout",
     "output_type": "stream",
     "text": [
      "Batch 1: (1/9) Mean Baseline Regression Pipeline        Elapsed:00:00\n",
      "\tStarting cross validation\n",
      "\tFinished cross validation - mean Root Mean Squared Error: 11.333\n",
      "Batch 1: (2/9) Decision Tree Regressor w/ Imputer + ... Elapsed:00:00\n",
      "\tStarting cross validation\n",
      "\tFinished cross validation - mean Root Mean Squared Error: 3.137\n",
      "Batch 1: (3/9) Extra Trees Regressor w/ Imputer + On... Elapsed:00:01\n",
      "\tStarting cross validation\n",
      "\tFinished cross validation - mean Root Mean Squared Error: 2.171\n",
      "Batch 1: (4/9) XGBoost Regressor w/ Imputer + One Ho... Elapsed:00:02\n",
      "\tStarting cross validation\n",
      "\tFinished cross validation - mean Root Mean Squared Error: 1.413\n",
      "Batch 1: (5/9) CatBoost Regressor w/ Imputer            Elapsed:00:04\n",
      "\tStarting cross validation\n",
      "\tFinished cross validation - mean Root Mean Squared Error: 9.164\n",
      "Batch 1: (6/9) Random Forest Regressor w/ Imputer + ... Elapsed:00:05\n",
      "\tStarting cross validation\n",
      "\tFinished cross validation - mean Root Mean Squared Error: 2.156\n",
      "Batch 1: (7/9) LightGBM Regressor w/ Imputer + One H... Elapsed:00:07\n",
      "\tStarting cross validation\n",
      "\tFinished cross validation - mean Root Mean Squared Error: 2.604\n",
      "Batch 1: (8/9) Linear Regressor w/ Imputer + One Hot... Elapsed:00:09\n",
      "\tStarting cross validation\n",
      "\tFinished cross validation - mean Root Mean Squared Error: 45526095728.482\n",
      "High coefficient of variation (cv >= 0.2) within cross validation scores. Linear Regressor w/ Imputer + One Hot Encoder + Standard Scaler may not perform as estimated on unseen data.\n",
      "Batch 1: (9/9) Elastic Net Regressor w/ Imputer + On... Elapsed:00:10\n",
      "\tStarting cross validation\n",
      "\tFinished cross validation - mean Root Mean Squared Error: 2.081\n",
      "\n",
      "Search finished after 00:12            \n",
      "Best pipeline: XGBoost Regressor w/ Imputer + One Hot Encoder\n",
      "Best pipeline Root Mean Squared Error: 1.413381\n"
     ]
    }
   ],
   "source": [
    "import evalml\n",
    "import woodwork as ww\n",
    "\n",
    "problem_type = 'regression'\n",
    "objective =  'auto'\n",
    "\n",
    "from sklearn.model_selection import train_test_split\n",
    "X_train, X_test, y_train, y_test = train_test_split(X, y, test_size=0.25, random_state=42)\n",
    "\n",
    "\n",
    "automl = evalml.automl.AutoMLSearch(X_train, y_train, problem_type=problem_type, objective = objective)\n",
    "automl.search()\n",
    "\n",
    "best_pipeline = automl.best_pipeline"
   ]
  },
  {
   "cell_type": "code",
   "execution_count": 82,
   "metadata": {},
   "outputs": [
    {
     "data": {
      "text/html": [
       "<div>\n",
       "<style scoped>\n",
       "    .dataframe tbody tr th:only-of-type {\n",
       "        vertical-align: middle;\n",
       "    }\n",
       "\n",
       "    .dataframe tbody tr th {\n",
       "        vertical-align: top;\n",
       "    }\n",
       "\n",
       "    .dataframe thead th {\n",
       "        text-align: right;\n",
       "    }\n",
       "</style>\n",
       "<table border=\"1\" class=\"dataframe\">\n",
       "  <thead>\n",
       "    <tr style=\"text-align: right;\">\n",
       "      <th></th>\n",
       "      <th>id</th>\n",
       "      <th>pipeline_name</th>\n",
       "      <th>score</th>\n",
       "      <th>validation_score</th>\n",
       "      <th>percent_better_than_baseline</th>\n",
       "      <th>high_variance_cv</th>\n",
       "      <th>parameters</th>\n",
       "    </tr>\n",
       "  </thead>\n",
       "  <tbody>\n",
       "    <tr>\n",
       "      <th>0</th>\n",
       "      <td>3</td>\n",
       "      <td>XGBoost Regressor w/ Imputer + One Hot Encoder</td>\n",
       "      <td>1.413381e+00</td>\n",
       "      <td>1.389759</td>\n",
       "      <td>8.752902e+01</td>\n",
       "      <td>False</td>\n",
       "      <td>{'Imputer': {'categorical_impute_strategy': 'm...</td>\n",
       "    </tr>\n",
       "    <tr>\n",
       "      <th>1</th>\n",
       "      <td>8</td>\n",
       "      <td>Elastic Net Regressor w/ Imputer + One Hot Enc...</td>\n",
       "      <td>2.081045e+00</td>\n",
       "      <td>2.000506</td>\n",
       "      <td>8.163787e+01</td>\n",
       "      <td>False</td>\n",
       "      <td>{'Imputer': {'categorical_impute_strategy': 'm...</td>\n",
       "    </tr>\n",
       "    <tr>\n",
       "      <th>2</th>\n",
       "      <td>5</td>\n",
       "      <td>Random Forest Regressor w/ Imputer + One Hot E...</td>\n",
       "      <td>2.155953e+00</td>\n",
       "      <td>2.172131</td>\n",
       "      <td>8.097693e+01</td>\n",
       "      <td>False</td>\n",
       "      <td>{'Imputer': {'categorical_impute_strategy': 'm...</td>\n",
       "    </tr>\n",
       "    <tr>\n",
       "      <th>3</th>\n",
       "      <td>2</td>\n",
       "      <td>Extra Trees Regressor w/ Imputer + One Hot Enc...</td>\n",
       "      <td>2.170560e+00</td>\n",
       "      <td>2.043977</td>\n",
       "      <td>8.084804e+01</td>\n",
       "      <td>False</td>\n",
       "      <td>{'Imputer': {'categorical_impute_strategy': 'm...</td>\n",
       "    </tr>\n",
       "    <tr>\n",
       "      <th>4</th>\n",
       "      <td>6</td>\n",
       "      <td>LightGBM Regressor w/ Imputer + One Hot Encoder</td>\n",
       "      <td>2.603983e+00</td>\n",
       "      <td>2.597782</td>\n",
       "      <td>7.702373e+01</td>\n",
       "      <td>False</td>\n",
       "      <td>{'Imputer': {'categorical_impute_strategy': 'm...</td>\n",
       "    </tr>\n",
       "    <tr>\n",
       "      <th>5</th>\n",
       "      <td>1</td>\n",
       "      <td>Decision Tree Regressor w/ Imputer + One Hot E...</td>\n",
       "      <td>3.137064e+00</td>\n",
       "      <td>3.030957</td>\n",
       "      <td>7.232008e+01</td>\n",
       "      <td>False</td>\n",
       "      <td>{'Imputer': {'categorical_impute_strategy': 'm...</td>\n",
       "    </tr>\n",
       "    <tr>\n",
       "      <th>6</th>\n",
       "      <td>4</td>\n",
       "      <td>CatBoost Regressor w/ Imputer</td>\n",
       "      <td>9.164201e+00</td>\n",
       "      <td>9.226536</td>\n",
       "      <td>1.913956e+01</td>\n",
       "      <td>False</td>\n",
       "      <td>{'Imputer': {'categorical_impute_strategy': 'm...</td>\n",
       "    </tr>\n",
       "    <tr>\n",
       "      <th>7</th>\n",
       "      <td>0</td>\n",
       "      <td>Mean Baseline Regression Pipeline</td>\n",
       "      <td>1.133336e+01</td>\n",
       "      <td>11.399235</td>\n",
       "      <td>0.000000e+00</td>\n",
       "      <td>False</td>\n",
       "      <td>{'Baseline Regressor': {'strategy': 'mean'}}</td>\n",
       "    </tr>\n",
       "    <tr>\n",
       "      <th>8</th>\n",
       "      <td>7</td>\n",
       "      <td>Linear Regressor w/ Imputer + One Hot Encoder ...</td>\n",
       "      <td>4.552610e+10</td>\n",
       "      <td>1.633455</td>\n",
       "      <td>-4.017001e+11</td>\n",
       "      <td>True</td>\n",
       "      <td>{'Imputer': {'categorical_impute_strategy': 'm...</td>\n",
       "    </tr>\n",
       "  </tbody>\n",
       "</table>\n",
       "</div>"
      ],
      "text/plain": [
       "   id                                      pipeline_name         score  \\\n",
       "0   3     XGBoost Regressor w/ Imputer + One Hot Encoder  1.413381e+00   \n",
       "1   8  Elastic Net Regressor w/ Imputer + One Hot Enc...  2.081045e+00   \n",
       "2   5  Random Forest Regressor w/ Imputer + One Hot E...  2.155953e+00   \n",
       "3   2  Extra Trees Regressor w/ Imputer + One Hot Enc...  2.170560e+00   \n",
       "4   6    LightGBM Regressor w/ Imputer + One Hot Encoder  2.603983e+00   \n",
       "5   1  Decision Tree Regressor w/ Imputer + One Hot E...  3.137064e+00   \n",
       "6   4                      CatBoost Regressor w/ Imputer  9.164201e+00   \n",
       "7   0                  Mean Baseline Regression Pipeline  1.133336e+01   \n",
       "8   7  Linear Regressor w/ Imputer + One Hot Encoder ...  4.552610e+10   \n",
       "\n",
       "   validation_score  percent_better_than_baseline  high_variance_cv  \\\n",
       "0          1.389759                  8.752902e+01             False   \n",
       "1          2.000506                  8.163787e+01             False   \n",
       "2          2.172131                  8.097693e+01             False   \n",
       "3          2.043977                  8.084804e+01             False   \n",
       "4          2.597782                  7.702373e+01             False   \n",
       "5          3.030957                  7.232008e+01             False   \n",
       "6          9.226536                  1.913956e+01             False   \n",
       "7         11.399235                  0.000000e+00             False   \n",
       "8          1.633455                 -4.017001e+11              True   \n",
       "\n",
       "                                          parameters  \n",
       "0  {'Imputer': {'categorical_impute_strategy': 'm...  \n",
       "1  {'Imputer': {'categorical_impute_strategy': 'm...  \n",
       "2  {'Imputer': {'categorical_impute_strategy': 'm...  \n",
       "3  {'Imputer': {'categorical_impute_strategy': 'm...  \n",
       "4  {'Imputer': {'categorical_impute_strategy': 'm...  \n",
       "5  {'Imputer': {'categorical_impute_strategy': 'm...  \n",
       "6  {'Imputer': {'categorical_impute_strategy': 'm...  \n",
       "7       {'Baseline Regressor': {'strategy': 'mean'}}  \n",
       "8  {'Imputer': {'categorical_impute_strategy': 'm...  "
      ]
     },
     "execution_count": 82,
     "metadata": {},
     "output_type": "execute_result"
    }
   ],
   "source": [
    "automl.rankings"
   ]
  },
  {
   "cell_type": "code",
   "execution_count": 83,
   "metadata": {},
   "outputs": [
    {
     "data": {
      "image/svg+xml": [
       "<?xml version=\"1.0\" encoding=\"UTF-8\" standalone=\"no\"?>\r\n",
       "<!DOCTYPE svg PUBLIC \"-//W3C//DTD SVG 1.1//EN\"\r\n",
       " \"http://www.w3.org/Graphics/SVG/1.1/DTD/svg11.dtd\">\r\n",
       "<!-- Generated by graphviz version 2.38.0 (20140413.2041)\r\n",
       " -->\r\n",
       "<!-- Title: %3 Pages: 1 -->\r\n",
       "<svg width=\"643pt\" height=\"130pt\"\r\n",
       " viewBox=\"0.00 0.00 643.00 130.00\" xmlns=\"http://www.w3.org/2000/svg\" xmlns:xlink=\"http://www.w3.org/1999/xlink\">\r\n",
       "<g id=\"graph0\" class=\"graph\" transform=\"scale(1 1) rotate(0) translate(4 126)\">\r\n",
       "<title>%3</title>\r\n",
       "<polygon fill=\"white\" stroke=\"none\" points=\"-4,4 -4,-126 639,-126 639,4 -4,4\"/>\r\n",
       "<!-- Imputer -->\r\n",
       "<g id=\"node1\" class=\"node\"><title>Imputer</title>\r\n",
       "<polygon fill=\"none\" stroke=\"black\" points=\"0,-15.5 0,-106.5 264,-106.5 264,-15.5 0,-15.5\"/>\r\n",
       "<text text-anchor=\"middle\" x=\"132\" y=\"-91.3\" font-family=\"Times New Roman,serif\" font-size=\"14.00\">Imputer</text>\r\n",
       "<polyline fill=\"none\" stroke=\"black\" points=\"0,-83.5 264,-83.5 \"/>\r\n",
       "<text text-anchor=\"start\" x=\"8\" y=\"-68.3\" font-family=\"Times New Roman,serif\" font-size=\"14.00\">categorical_impute_strategy : most_frequent</text>\r\n",
       "<text text-anchor=\"start\" x=\"8\" y=\"-53.3\" font-family=\"Times New Roman,serif\" font-size=\"14.00\">numeric_impute_strategy : mean</text>\r\n",
       "<text text-anchor=\"start\" x=\"8\" y=\"-38.3\" font-family=\"Times New Roman,serif\" font-size=\"14.00\">categorical_fill_value : None</text>\r\n",
       "<text text-anchor=\"start\" x=\"8\" y=\"-23.3\" font-family=\"Times New Roman,serif\" font-size=\"14.00\">numeric_fill_value : None</text>\r\n",
       "</g>\r\n",
       "<!-- One Hot Encoder -->\r\n",
       "<g id=\"node2\" class=\"node\"><title>One Hot Encoder</title>\r\n",
       "<polygon fill=\"none\" stroke=\"black\" points=\"300,-0.5 300,-121.5 467,-121.5 467,-0.5 300,-0.5\"/>\r\n",
       "<text text-anchor=\"middle\" x=\"383.5\" y=\"-106.3\" font-family=\"Times New Roman,serif\" font-size=\"14.00\">One Hot Encoder</text>\r\n",
       "<polyline fill=\"none\" stroke=\"black\" points=\"300,-98.5 467,-98.5 \"/>\r\n",
       "<text text-anchor=\"start\" x=\"308\" y=\"-83.3\" font-family=\"Times New Roman,serif\" font-size=\"14.00\">top_n : 10</text>\r\n",
       "<text text-anchor=\"start\" x=\"308\" y=\"-68.3\" font-family=\"Times New Roman,serif\" font-size=\"14.00\">features_to_encode : None</text>\r\n",
       "<text text-anchor=\"start\" x=\"308\" y=\"-53.3\" font-family=\"Times New Roman,serif\" font-size=\"14.00\">categories : None</text>\r\n",
       "<text text-anchor=\"start\" x=\"308\" y=\"-38.3\" font-family=\"Times New Roman,serif\" font-size=\"14.00\">drop : None</text>\r\n",
       "<text text-anchor=\"start\" x=\"308\" y=\"-23.3\" font-family=\"Times New Roman,serif\" font-size=\"14.00\">handle_unknown : ignore</text>\r\n",
       "<text text-anchor=\"start\" x=\"308\" y=\"-8.3\" font-family=\"Times New Roman,serif\" font-size=\"14.00\">handle_missing : error</text>\r\n",
       "</g>\r\n",
       "<!-- Imputer&#45;&gt;One Hot Encoder -->\r\n",
       "<g id=\"edge1\" class=\"edge\"><title>Imputer&#45;&gt;One Hot Encoder</title>\r\n",
       "<path fill=\"none\" stroke=\"black\" d=\"M264.011,-61C264.011,-61 289.957,-61 289.957,-61\"/>\r\n",
       "<polygon fill=\"black\" stroke=\"black\" points=\"289.957,-64.5001 299.957,-61 289.957,-57.5001 289.957,-64.5001\"/>\r\n",
       "</g>\r\n",
       "<!-- XGBoost Regressor -->\r\n",
       "<g id=\"node3\" class=\"node\"><title>XGBoost Regressor</title>\r\n",
       "<polygon fill=\"none\" stroke=\"black\" points=\"503,-15.5 503,-106.5 635,-106.5 635,-15.5 503,-15.5\"/>\r\n",
       "<text text-anchor=\"middle\" x=\"569\" y=\"-91.3\" font-family=\"Times New Roman,serif\" font-size=\"14.00\">XGBoost Regressor</text>\r\n",
       "<polyline fill=\"none\" stroke=\"black\" points=\"503,-83.5 635,-83.5 \"/>\r\n",
       "<text text-anchor=\"start\" x=\"511\" y=\"-68.3\" font-family=\"Times New Roman,serif\" font-size=\"14.00\">eta : 0.10</text>\r\n",
       "<text text-anchor=\"start\" x=\"511\" y=\"-53.3\" font-family=\"Times New Roman,serif\" font-size=\"14.00\">max_depth : 6</text>\r\n",
       "<text text-anchor=\"start\" x=\"511\" y=\"-38.3\" font-family=\"Times New Roman,serif\" font-size=\"14.00\">min_child_weight : 1</text>\r\n",
       "<text text-anchor=\"start\" x=\"511\" y=\"-23.3\" font-family=\"Times New Roman,serif\" font-size=\"14.00\">n_estimators : 100</text>\r\n",
       "</g>\r\n",
       "<!-- One Hot Encoder&#45;&gt;XGBoost Regressor -->\r\n",
       "<g id=\"edge2\" class=\"edge\"><title>One Hot Encoder&#45;&gt;XGBoost Regressor</title>\r\n",
       "<path fill=\"none\" stroke=\"black\" d=\"M467.025,-61C467.025,-61 492.895,-61 492.895,-61\"/>\r\n",
       "<polygon fill=\"black\" stroke=\"black\" points=\"492.895,-64.5001 502.895,-61 492.894,-57.5001 492.895,-64.5001\"/>\r\n",
       "</g>\r\n",
       "</g>\r\n",
       "</svg>\r\n"
      ],
      "text/plain": [
       "<graphviz.dot.Digraph at 0x1d6ead4a910>"
      ]
     },
     "execution_count": 83,
     "metadata": {},
     "output_type": "execute_result"
    }
   ],
   "source": [
    "best_pipeline.graph()"
   ]
  },
  {
   "cell_type": "code",
   "execution_count": 84,
   "metadata": {},
   "outputs": [
    {
     "data": {
      "text/html": [
       "<div>\n",
       "<style scoped>\n",
       "    .dataframe tbody tr th:only-of-type {\n",
       "        vertical-align: middle;\n",
       "    }\n",
       "\n",
       "    .dataframe tbody tr th {\n",
       "        vertical-align: top;\n",
       "    }\n",
       "\n",
       "    .dataframe thead th {\n",
       "        text-align: right;\n",
       "    }\n",
       "</style>\n",
       "<table border=\"1\" class=\"dataframe\">\n",
       "  <thead>\n",
       "    <tr style=\"text-align: right;\">\n",
       "      <th></th>\n",
       "      <th>feature</th>\n",
       "      <th>importance</th>\n",
       "    </tr>\n",
       "  </thead>\n",
       "  <tbody>\n",
       "    <tr>\n",
       "      <th>0</th>\n",
       "      <td>ippr</td>\n",
       "      <td>0.337235</td>\n",
       "    </tr>\n",
       "    <tr>\n",
       "      <th>1</th>\n",
       "      <td>logis</td>\n",
       "      <td>0.217539</td>\n",
       "    </tr>\n",
       "    <tr>\n",
       "      <th>2</th>\n",
       "      <td>creddtf</td>\n",
       "      <td>0.145753</td>\n",
       "    </tr>\n",
       "    <tr>\n",
       "      <th>3</th>\n",
       "      <td>insdtf</td>\n",
       "      <td>0.077318</td>\n",
       "    </tr>\n",
       "    <tr>\n",
       "      <th>4</th>\n",
       "      <td>stardtf</td>\n",
       "      <td>0.067019</td>\n",
       "    </tr>\n",
       "    <tr>\n",
       "      <th>...</th>\n",
       "      <td>...</td>\n",
       "      <td>...</td>\n",
       "    </tr>\n",
       "    <tr>\n",
       "      <th>84</th>\n",
       "      <td>ippr_year_2007</td>\n",
       "      <td>0.000000</td>\n",
       "    </tr>\n",
       "    <tr>\n",
       "      <th>85</th>\n",
       "      <td>ippr_year_2008</td>\n",
       "      <td>0.000000</td>\n",
       "    </tr>\n",
       "    <tr>\n",
       "      <th>86</th>\n",
       "      <td>ippr_year_2012</td>\n",
       "      <td>0.000000</td>\n",
       "    </tr>\n",
       "    <tr>\n",
       "      <th>87</th>\n",
       "      <td>ippr_year_2013</td>\n",
       "      <td>0.000000</td>\n",
       "    </tr>\n",
       "    <tr>\n",
       "      <th>88</th>\n",
       "      <td>ippr_year_2014</td>\n",
       "      <td>0.000000</td>\n",
       "    </tr>\n",
       "  </tbody>\n",
       "</table>\n",
       "<p>89 rows × 2 columns</p>\n",
       "</div>"
      ],
      "text/plain": [
       "           feature  importance\n",
       "0             ippr    0.337235\n",
       "1            logis    0.217539\n",
       "2          creddtf    0.145753\n",
       "3           insdtf    0.077318\n",
       "4          stardtf    0.067019\n",
       "..             ...         ...\n",
       "84  ippr_year_2007    0.000000\n",
       "85  ippr_year_2008    0.000000\n",
       "86  ippr_year_2012    0.000000\n",
       "87  ippr_year_2013    0.000000\n",
       "88  ippr_year_2014    0.000000\n",
       "\n",
       "[89 rows x 2 columns]"
      ]
     },
     "execution_count": 84,
     "metadata": {},
     "output_type": "execute_result"
    }
   ],
   "source": [
    "best_pipeline.feature_importance"
   ]
  },
  {
   "cell_type": "code",
   "execution_count": 85,
   "metadata": {},
   "outputs": [
    {
     "data": {
      "application/vnd.plotly.v1+json": {
       "config": {
        "plotlyServerURL": "https://plot.ly"
       },
       "data": [
        {
         "orientation": "h",
         "type": "bar",
         "x": [
          0,
          0,
          0,
          0,
          0,
          0,
          0,
          0,
          0,
          0,
          0,
          0,
          0,
          0,
          0,
          0,
          0,
          0,
          0,
          0,
          0,
          0,
          0,
          0,
          0,
          0,
          0,
          0,
          0,
          0,
          0,
          0,
          0,
          0,
          0,
          0,
          0,
          0,
          0,
          0,
          5.301949931890704e-05,
          8.008965232875198e-05,
          0.00012364055146463215,
          0.0001389644166920334,
          0.0001505915861343965,
          0.00015362068370450288,
          0.00015922938473522663,
          0.00015975849237293005,
          0.00017632126400712878,
          0.00020764581859111786,
          0.0002212755789514631,
          0.00025543157244101167,
          0.0002811514714267105,
          0.0002907979942392558,
          0.0003387134347576648,
          0.00034822235465981066,
          0.00035469012800604105,
          0.0003642758238129318,
          0.0004070493741892278,
          0.00043378418195061386,
          0.0005919610266573727,
          0.0005951683269813657,
          0.0006002749432809651,
          0.0006024519097991288,
          0.0006345332367345691,
          0.0006810064660385251,
          0.0007648183382116258,
          0.0009108277736231685,
          0.0012155466247349977,
          0.0012742618564516306,
          0.0013188960729166865,
          0.0016899524489417672,
          0.002038144739344716,
          0.002145016100257635,
          0.0021925237961113453,
          0.0027796642389148474,
          0.0028725466690957546,
          0.006409033667296171,
          0.0064748371951282024,
          0.008749686181545258,
          0.010204708203673363,
          0.02319907769560814,
          0.030279068276286125,
          0.04221446439623833,
          0.06701885163784027,
          0.07731811702251434,
          0.14575275778770447,
          0.21753887832164764,
          0.33723458647727966
         ],
         "y": [
          "ippr_year_2014",
          "ippr_year_2013",
          "ippr_year_2012",
          "ippr_year_2008",
          "ippr_year_2007",
          "ippr_year_--",
          "affs_year_2014",
          "affs_year_2013",
          "affs_year_2012",
          "affs_year_2011",
          "affs_year_--",
          "hifi_year_2013",
          "hifi_year_2011",
          "hifi_year_2010",
          "hifi_year_2008",
          "hifi_year_--",
          "redu_year_2013",
          "redu_year_2011",
          "bband_year_2006",
          "bband_year_--",
          "start_year_--",
          "isocode_THA",
          "isocode_SGP",
          "isocode_PER",
          "isocode_NZL",
          "isocode_MLI",
          "isocode_KOR",
          "isocode_ITA",
          "isocode_HKG",
          "isocode_DNK",
          "isocode_BHR",
          "country_Thailand",
          "country_South Korea",
          "country_Singapore",
          "country_New Zealand",
          "country_Netherlands",
          "country_Denmark",
          "stardtf_year",
          "elcostlnl_year",
          "creddtf_year",
          "redu_year_2008",
          "redu_year_2009",
          "redu_year_2010",
          "bband_year_2012",
          "bband_year_2008",
          "bband_year_2007",
          "bband_year_2009",
          "bband_year_2014",
          "ippr_year_2009",
          "bband_year_2013",
          "hifi_year_2014",
          "bband_year_2011",
          "bband_year_2010",
          "country_Peru",
          "redu_year_2014",
          "redu_year_2012",
          "logis_year_2010",
          "logis_year_2012",
          "start_year_2013",
          "logis_year_2014",
          "hifi_year_2007",
          "affs_year_2010",
          "hifi_year_2009",
          "logis_year_--",
          "country_Greece",
          "redu_year_2007",
          "isonum",
          "ippr_year_2011",
          "hifi_year_2012",
          "country_Hong Kong",
          "country_Italy",
          "hifi",
          "year",
          "ahead_year",
          "insdtf_year",
          "start_year_2014",
          "start_year_2012",
          "bband",
          "logis_year_2007",
          "redu_year_--",
          "redu",
          "start_year_2011",
          "affs",
          "elcostlnl",
          "stardtf",
          "insdtf",
          "creddtf",
          "logis",
          "ippr"
         ]
        }
       ],
       "layout": {
        "height": 800,
        "template": {
         "data": {
          "bar": [
           {
            "error_x": {
             "color": "#2a3f5f"
            },
            "error_y": {
             "color": "#2a3f5f"
            },
            "marker": {
             "line": {
              "color": "#E5ECF6",
              "width": 0.5
             }
            },
            "type": "bar"
           }
          ],
          "barpolar": [
           {
            "marker": {
             "line": {
              "color": "#E5ECF6",
              "width": 0.5
             }
            },
            "type": "barpolar"
           }
          ],
          "carpet": [
           {
            "aaxis": {
             "endlinecolor": "#2a3f5f",
             "gridcolor": "white",
             "linecolor": "white",
             "minorgridcolor": "white",
             "startlinecolor": "#2a3f5f"
            },
            "baxis": {
             "endlinecolor": "#2a3f5f",
             "gridcolor": "white",
             "linecolor": "white",
             "minorgridcolor": "white",
             "startlinecolor": "#2a3f5f"
            },
            "type": "carpet"
           }
          ],
          "choropleth": [
           {
            "colorbar": {
             "outlinewidth": 0,
             "ticks": ""
            },
            "type": "choropleth"
           }
          ],
          "contour": [
           {
            "colorbar": {
             "outlinewidth": 0,
             "ticks": ""
            },
            "colorscale": [
             [
              0,
              "#0d0887"
             ],
             [
              0.1111111111111111,
              "#46039f"
             ],
             [
              0.2222222222222222,
              "#7201a8"
             ],
             [
              0.3333333333333333,
              "#9c179e"
             ],
             [
              0.4444444444444444,
              "#bd3786"
             ],
             [
              0.5555555555555556,
              "#d8576b"
             ],
             [
              0.6666666666666666,
              "#ed7953"
             ],
             [
              0.7777777777777778,
              "#fb9f3a"
             ],
             [
              0.8888888888888888,
              "#fdca26"
             ],
             [
              1,
              "#f0f921"
             ]
            ],
            "type": "contour"
           }
          ],
          "contourcarpet": [
           {
            "colorbar": {
             "outlinewidth": 0,
             "ticks": ""
            },
            "type": "contourcarpet"
           }
          ],
          "heatmap": [
           {
            "colorbar": {
             "outlinewidth": 0,
             "ticks": ""
            },
            "colorscale": [
             [
              0,
              "#0d0887"
             ],
             [
              0.1111111111111111,
              "#46039f"
             ],
             [
              0.2222222222222222,
              "#7201a8"
             ],
             [
              0.3333333333333333,
              "#9c179e"
             ],
             [
              0.4444444444444444,
              "#bd3786"
             ],
             [
              0.5555555555555556,
              "#d8576b"
             ],
             [
              0.6666666666666666,
              "#ed7953"
             ],
             [
              0.7777777777777778,
              "#fb9f3a"
             ],
             [
              0.8888888888888888,
              "#fdca26"
             ],
             [
              1,
              "#f0f921"
             ]
            ],
            "type": "heatmap"
           }
          ],
          "heatmapgl": [
           {
            "colorbar": {
             "outlinewidth": 0,
             "ticks": ""
            },
            "colorscale": [
             [
              0,
              "#0d0887"
             ],
             [
              0.1111111111111111,
              "#46039f"
             ],
             [
              0.2222222222222222,
              "#7201a8"
             ],
             [
              0.3333333333333333,
              "#9c179e"
             ],
             [
              0.4444444444444444,
              "#bd3786"
             ],
             [
              0.5555555555555556,
              "#d8576b"
             ],
             [
              0.6666666666666666,
              "#ed7953"
             ],
             [
              0.7777777777777778,
              "#fb9f3a"
             ],
             [
              0.8888888888888888,
              "#fdca26"
             ],
             [
              1,
              "#f0f921"
             ]
            ],
            "type": "heatmapgl"
           }
          ],
          "histogram": [
           {
            "marker": {
             "colorbar": {
              "outlinewidth": 0,
              "ticks": ""
             }
            },
            "type": "histogram"
           }
          ],
          "histogram2d": [
           {
            "colorbar": {
             "outlinewidth": 0,
             "ticks": ""
            },
            "colorscale": [
             [
              0,
              "#0d0887"
             ],
             [
              0.1111111111111111,
              "#46039f"
             ],
             [
              0.2222222222222222,
              "#7201a8"
             ],
             [
              0.3333333333333333,
              "#9c179e"
             ],
             [
              0.4444444444444444,
              "#bd3786"
             ],
             [
              0.5555555555555556,
              "#d8576b"
             ],
             [
              0.6666666666666666,
              "#ed7953"
             ],
             [
              0.7777777777777778,
              "#fb9f3a"
             ],
             [
              0.8888888888888888,
              "#fdca26"
             ],
             [
              1,
              "#f0f921"
             ]
            ],
            "type": "histogram2d"
           }
          ],
          "histogram2dcontour": [
           {
            "colorbar": {
             "outlinewidth": 0,
             "ticks": ""
            },
            "colorscale": [
             [
              0,
              "#0d0887"
             ],
             [
              0.1111111111111111,
              "#46039f"
             ],
             [
              0.2222222222222222,
              "#7201a8"
             ],
             [
              0.3333333333333333,
              "#9c179e"
             ],
             [
              0.4444444444444444,
              "#bd3786"
             ],
             [
              0.5555555555555556,
              "#d8576b"
             ],
             [
              0.6666666666666666,
              "#ed7953"
             ],
             [
              0.7777777777777778,
              "#fb9f3a"
             ],
             [
              0.8888888888888888,
              "#fdca26"
             ],
             [
              1,
              "#f0f921"
             ]
            ],
            "type": "histogram2dcontour"
           }
          ],
          "mesh3d": [
           {
            "colorbar": {
             "outlinewidth": 0,
             "ticks": ""
            },
            "type": "mesh3d"
           }
          ],
          "parcoords": [
           {
            "line": {
             "colorbar": {
              "outlinewidth": 0,
              "ticks": ""
             }
            },
            "type": "parcoords"
           }
          ],
          "pie": [
           {
            "automargin": true,
            "type": "pie"
           }
          ],
          "scatter": [
           {
            "marker": {
             "colorbar": {
              "outlinewidth": 0,
              "ticks": ""
             }
            },
            "type": "scatter"
           }
          ],
          "scatter3d": [
           {
            "line": {
             "colorbar": {
              "outlinewidth": 0,
              "ticks": ""
             }
            },
            "marker": {
             "colorbar": {
              "outlinewidth": 0,
              "ticks": ""
             }
            },
            "type": "scatter3d"
           }
          ],
          "scattercarpet": [
           {
            "marker": {
             "colorbar": {
              "outlinewidth": 0,
              "ticks": ""
             }
            },
            "type": "scattercarpet"
           }
          ],
          "scattergeo": [
           {
            "marker": {
             "colorbar": {
              "outlinewidth": 0,
              "ticks": ""
             }
            },
            "type": "scattergeo"
           }
          ],
          "scattergl": [
           {
            "marker": {
             "colorbar": {
              "outlinewidth": 0,
              "ticks": ""
             }
            },
            "type": "scattergl"
           }
          ],
          "scattermapbox": [
           {
            "marker": {
             "colorbar": {
              "outlinewidth": 0,
              "ticks": ""
             }
            },
            "type": "scattermapbox"
           }
          ],
          "scatterpolar": [
           {
            "marker": {
             "colorbar": {
              "outlinewidth": 0,
              "ticks": ""
             }
            },
            "type": "scatterpolar"
           }
          ],
          "scatterpolargl": [
           {
            "marker": {
             "colorbar": {
              "outlinewidth": 0,
              "ticks": ""
             }
            },
            "type": "scatterpolargl"
           }
          ],
          "scatterternary": [
           {
            "marker": {
             "colorbar": {
              "outlinewidth": 0,
              "ticks": ""
             }
            },
            "type": "scatterternary"
           }
          ],
          "surface": [
           {
            "colorbar": {
             "outlinewidth": 0,
             "ticks": ""
            },
            "colorscale": [
             [
              0,
              "#0d0887"
             ],
             [
              0.1111111111111111,
              "#46039f"
             ],
             [
              0.2222222222222222,
              "#7201a8"
             ],
             [
              0.3333333333333333,
              "#9c179e"
             ],
             [
              0.4444444444444444,
              "#bd3786"
             ],
             [
              0.5555555555555556,
              "#d8576b"
             ],
             [
              0.6666666666666666,
              "#ed7953"
             ],
             [
              0.7777777777777778,
              "#fb9f3a"
             ],
             [
              0.8888888888888888,
              "#fdca26"
             ],
             [
              1,
              "#f0f921"
             ]
            ],
            "type": "surface"
           }
          ],
          "table": [
           {
            "cells": {
             "fill": {
              "color": "#EBF0F8"
             },
             "line": {
              "color": "white"
             }
            },
            "header": {
             "fill": {
              "color": "#C8D4E3"
             },
             "line": {
              "color": "white"
             }
            },
            "type": "table"
           }
          ]
         },
         "layout": {
          "annotationdefaults": {
           "arrowcolor": "#2a3f5f",
           "arrowhead": 0,
           "arrowwidth": 1
          },
          "autotypenumbers": "strict",
          "coloraxis": {
           "colorbar": {
            "outlinewidth": 0,
            "ticks": ""
           }
          },
          "colorscale": {
           "diverging": [
            [
             0,
             "#8e0152"
            ],
            [
             0.1,
             "#c51b7d"
            ],
            [
             0.2,
             "#de77ae"
            ],
            [
             0.3,
             "#f1b6da"
            ],
            [
             0.4,
             "#fde0ef"
            ],
            [
             0.5,
             "#f7f7f7"
            ],
            [
             0.6,
             "#e6f5d0"
            ],
            [
             0.7,
             "#b8e186"
            ],
            [
             0.8,
             "#7fbc41"
            ],
            [
             0.9,
             "#4d9221"
            ],
            [
             1,
             "#276419"
            ]
           ],
           "sequential": [
            [
             0,
             "#0d0887"
            ],
            [
             0.1111111111111111,
             "#46039f"
            ],
            [
             0.2222222222222222,
             "#7201a8"
            ],
            [
             0.3333333333333333,
             "#9c179e"
            ],
            [
             0.4444444444444444,
             "#bd3786"
            ],
            [
             0.5555555555555556,
             "#d8576b"
            ],
            [
             0.6666666666666666,
             "#ed7953"
            ],
            [
             0.7777777777777778,
             "#fb9f3a"
            ],
            [
             0.8888888888888888,
             "#fdca26"
            ],
            [
             1,
             "#f0f921"
            ]
           ],
           "sequentialminus": [
            [
             0,
             "#0d0887"
            ],
            [
             0.1111111111111111,
             "#46039f"
            ],
            [
             0.2222222222222222,
             "#7201a8"
            ],
            [
             0.3333333333333333,
             "#9c179e"
            ],
            [
             0.4444444444444444,
             "#bd3786"
            ],
            [
             0.5555555555555556,
             "#d8576b"
            ],
            [
             0.6666666666666666,
             "#ed7953"
            ],
            [
             0.7777777777777778,
             "#fb9f3a"
            ],
            [
             0.8888888888888888,
             "#fdca26"
            ],
            [
             1,
             "#f0f921"
            ]
           ]
          },
          "colorway": [
           "#636efa",
           "#EF553B",
           "#00cc96",
           "#ab63fa",
           "#FFA15A",
           "#19d3f3",
           "#FF6692",
           "#B6E880",
           "#FF97FF",
           "#FECB52"
          ],
          "font": {
           "color": "#2a3f5f"
          },
          "geo": {
           "bgcolor": "white",
           "lakecolor": "white",
           "landcolor": "#E5ECF6",
           "showlakes": true,
           "showland": true,
           "subunitcolor": "white"
          },
          "hoverlabel": {
           "align": "left"
          },
          "hovermode": "closest",
          "mapbox": {
           "style": "light"
          },
          "paper_bgcolor": "white",
          "plot_bgcolor": "#E5ECF6",
          "polar": {
           "angularaxis": {
            "gridcolor": "white",
            "linecolor": "white",
            "ticks": ""
           },
           "bgcolor": "#E5ECF6",
           "radialaxis": {
            "gridcolor": "white",
            "linecolor": "white",
            "ticks": ""
           }
          },
          "scene": {
           "xaxis": {
            "backgroundcolor": "#E5ECF6",
            "gridcolor": "white",
            "gridwidth": 2,
            "linecolor": "white",
            "showbackground": true,
            "ticks": "",
            "zerolinecolor": "white"
           },
           "yaxis": {
            "backgroundcolor": "#E5ECF6",
            "gridcolor": "white",
            "gridwidth": 2,
            "linecolor": "white",
            "showbackground": true,
            "ticks": "",
            "zerolinecolor": "white"
           },
           "zaxis": {
            "backgroundcolor": "#E5ECF6",
            "gridcolor": "white",
            "gridwidth": 2,
            "linecolor": "white",
            "showbackground": true,
            "ticks": "",
            "zerolinecolor": "white"
           }
          },
          "shapedefaults": {
           "line": {
            "color": "#2a3f5f"
           }
          },
          "ternary": {
           "aaxis": {
            "gridcolor": "white",
            "linecolor": "white",
            "ticks": ""
           },
           "baxis": {
            "gridcolor": "white",
            "linecolor": "white",
            "ticks": ""
           },
           "bgcolor": "#E5ECF6",
           "caxis": {
            "gridcolor": "white",
            "linecolor": "white",
            "ticks": ""
           }
          },
          "title": {
           "x": 0.05
          },
          "xaxis": {
           "automargin": true,
           "gridcolor": "white",
           "linecolor": "white",
           "ticks": "",
           "title": {
            "standoff": 15
           },
           "zerolinecolor": "white",
           "zerolinewidth": 2
          },
          "yaxis": {
           "automargin": true,
           "gridcolor": "white",
           "linecolor": "white",
           "ticks": "",
           "title": {
            "standoff": 15
           },
           "zerolinecolor": "white",
           "zerolinewidth": 2
          }
         }
        },
        "title": {
         "text": "Feature Importance<br><sub>May display fewer features due to feature selection</sub>"
        },
        "xaxis": {
         "title": {
          "text": "Feature Importance"
         }
        },
        "yaxis": {
         "title": {
          "text": "Feature"
         },
         "type": "category"
        }
       }
      },
      "text/html": [
       "<div>                            <div id=\"f80676df-f256-4098-b258-3d5e54e01c53\" class=\"plotly-graph-div\" style=\"height:800px; width:100%;\"></div>            <script type=\"text/javascript\">                require([\"plotly\"], function(Plotly) {                    window.PLOTLYENV=window.PLOTLYENV || {};                                    if (document.getElementById(\"f80676df-f256-4098-b258-3d5e54e01c53\")) {                    Plotly.newPlot(                        \"f80676df-f256-4098-b258-3d5e54e01c53\",                        [{\"orientation\": \"h\", \"type\": \"bar\", \"x\": [0.0, 0.0, 0.0, 0.0, 0.0, 0.0, 0.0, 0.0, 0.0, 0.0, 0.0, 0.0, 0.0, 0.0, 0.0, 0.0, 0.0, 0.0, 0.0, 0.0, 0.0, 0.0, 0.0, 0.0, 0.0, 0.0, 0.0, 0.0, 0.0, 0.0, 0.0, 0.0, 0.0, 0.0, 0.0, 0.0, 0.0, 0.0, 0.0, 0.0, 5.301949931890704e-05, 8.008965232875198e-05, 0.00012364055146463215, 0.0001389644166920334, 0.0001505915861343965, 0.00015362068370450288, 0.00015922938473522663, 0.00015975849237293005, 0.00017632126400712878, 0.00020764581859111786, 0.0002212755789514631, 0.00025543157244101167, 0.0002811514714267105, 0.0002907979942392558, 0.0003387134347576648, 0.00034822235465981066, 0.00035469012800604105, 0.0003642758238129318, 0.0004070493741892278, 0.00043378418195061386, 0.0005919610266573727, 0.0005951683269813657, 0.0006002749432809651, 0.0006024519097991288, 0.0006345332367345691, 0.0006810064660385251, 0.0007648183382116258, 0.0009108277736231685, 0.0012155466247349977, 0.0012742618564516306, 0.0013188960729166865, 0.0016899524489417672, 0.002038144739344716, 0.002145016100257635, 0.0021925237961113453, 0.0027796642389148474, 0.0028725466690957546, 0.006409033667296171, 0.0064748371951282024, 0.008749686181545258, 0.010204708203673363, 0.02319907769560814, 0.030279068276286125, 0.04221446439623833, 0.06701885163784027, 0.07731811702251434, 0.14575275778770447, 0.21753887832164764, 0.33723458647727966], \"y\": [\"ippr_year_2014\", \"ippr_year_2013\", \"ippr_year_2012\", \"ippr_year_2008\", \"ippr_year_2007\", \"ippr_year_--\", \"affs_year_2014\", \"affs_year_2013\", \"affs_year_2012\", \"affs_year_2011\", \"affs_year_--\", \"hifi_year_2013\", \"hifi_year_2011\", \"hifi_year_2010\", \"hifi_year_2008\", \"hifi_year_--\", \"redu_year_2013\", \"redu_year_2011\", \"bband_year_2006\", \"bband_year_--\", \"start_year_--\", \"isocode_THA\", \"isocode_SGP\", \"isocode_PER\", \"isocode_NZL\", \"isocode_MLI\", \"isocode_KOR\", \"isocode_ITA\", \"isocode_HKG\", \"isocode_DNK\", \"isocode_BHR\", \"country_Thailand\", \"country_South Korea\", \"country_Singapore\", \"country_New Zealand\", \"country_Netherlands\", \"country_Denmark\", \"stardtf_year\", \"elcostlnl_year\", \"creddtf_year\", \"redu_year_2008\", \"redu_year_2009\", \"redu_year_2010\", \"bband_year_2012\", \"bband_year_2008\", \"bband_year_2007\", \"bband_year_2009\", \"bband_year_2014\", \"ippr_year_2009\", \"bband_year_2013\", \"hifi_year_2014\", \"bband_year_2011\", \"bband_year_2010\", \"country_Peru\", \"redu_year_2014\", \"redu_year_2012\", \"logis_year_2010\", \"logis_year_2012\", \"start_year_2013\", \"logis_year_2014\", \"hifi_year_2007\", \"affs_year_2010\", \"hifi_year_2009\", \"logis_year_--\", \"country_Greece\", \"redu_year_2007\", \"isonum\", \"ippr_year_2011\", \"hifi_year_2012\", \"country_Hong Kong\", \"country_Italy\", \"hifi\", \"year\", \"ahead_year\", \"insdtf_year\", \"start_year_2014\", \"start_year_2012\", \"bband\", \"logis_year_2007\", \"redu_year_--\", \"redu\", \"start_year_2011\", \"affs\", \"elcostlnl\", \"stardtf\", \"insdtf\", \"creddtf\", \"logis\", \"ippr\"]}],                        {\"height\": 800, \"template\": {\"data\": {\"bar\": [{\"error_x\": {\"color\": \"#2a3f5f\"}, \"error_y\": {\"color\": \"#2a3f5f\"}, \"marker\": {\"line\": {\"color\": \"#E5ECF6\", \"width\": 0.5}}, \"type\": \"bar\"}], \"barpolar\": [{\"marker\": {\"line\": {\"color\": \"#E5ECF6\", \"width\": 0.5}}, \"type\": \"barpolar\"}], \"carpet\": [{\"aaxis\": {\"endlinecolor\": \"#2a3f5f\", \"gridcolor\": \"white\", \"linecolor\": \"white\", \"minorgridcolor\": \"white\", \"startlinecolor\": \"#2a3f5f\"}, \"baxis\": {\"endlinecolor\": \"#2a3f5f\", \"gridcolor\": \"white\", \"linecolor\": \"white\", \"minorgridcolor\": \"white\", \"startlinecolor\": \"#2a3f5f\"}, \"type\": \"carpet\"}], \"choropleth\": [{\"colorbar\": {\"outlinewidth\": 0, \"ticks\": \"\"}, \"type\": \"choropleth\"}], \"contour\": [{\"colorbar\": {\"outlinewidth\": 0, \"ticks\": \"\"}, \"colorscale\": [[0.0, \"#0d0887\"], [0.1111111111111111, \"#46039f\"], [0.2222222222222222, \"#7201a8\"], [0.3333333333333333, \"#9c179e\"], [0.4444444444444444, \"#bd3786\"], [0.5555555555555556, \"#d8576b\"], [0.6666666666666666, \"#ed7953\"], [0.7777777777777778, \"#fb9f3a\"], [0.8888888888888888, \"#fdca26\"], [1.0, \"#f0f921\"]], \"type\": \"contour\"}], \"contourcarpet\": [{\"colorbar\": {\"outlinewidth\": 0, \"ticks\": \"\"}, \"type\": \"contourcarpet\"}], \"heatmap\": [{\"colorbar\": {\"outlinewidth\": 0, \"ticks\": \"\"}, \"colorscale\": [[0.0, \"#0d0887\"], [0.1111111111111111, \"#46039f\"], [0.2222222222222222, \"#7201a8\"], [0.3333333333333333, \"#9c179e\"], [0.4444444444444444, \"#bd3786\"], [0.5555555555555556, \"#d8576b\"], [0.6666666666666666, \"#ed7953\"], [0.7777777777777778, \"#fb9f3a\"], [0.8888888888888888, \"#fdca26\"], [1.0, \"#f0f921\"]], \"type\": \"heatmap\"}], \"heatmapgl\": [{\"colorbar\": {\"outlinewidth\": 0, \"ticks\": \"\"}, \"colorscale\": [[0.0, \"#0d0887\"], [0.1111111111111111, \"#46039f\"], [0.2222222222222222, \"#7201a8\"], [0.3333333333333333, \"#9c179e\"], [0.4444444444444444, \"#bd3786\"], [0.5555555555555556, \"#d8576b\"], [0.6666666666666666, \"#ed7953\"], [0.7777777777777778, \"#fb9f3a\"], [0.8888888888888888, \"#fdca26\"], [1.0, \"#f0f921\"]], \"type\": \"heatmapgl\"}], \"histogram\": [{\"marker\": {\"colorbar\": {\"outlinewidth\": 0, \"ticks\": \"\"}}, \"type\": \"histogram\"}], \"histogram2d\": [{\"colorbar\": {\"outlinewidth\": 0, \"ticks\": \"\"}, \"colorscale\": [[0.0, \"#0d0887\"], [0.1111111111111111, \"#46039f\"], [0.2222222222222222, \"#7201a8\"], [0.3333333333333333, \"#9c179e\"], [0.4444444444444444, \"#bd3786\"], [0.5555555555555556, \"#d8576b\"], [0.6666666666666666, \"#ed7953\"], [0.7777777777777778, \"#fb9f3a\"], [0.8888888888888888, \"#fdca26\"], [1.0, \"#f0f921\"]], \"type\": \"histogram2d\"}], \"histogram2dcontour\": [{\"colorbar\": {\"outlinewidth\": 0, \"ticks\": \"\"}, \"colorscale\": [[0.0, \"#0d0887\"], [0.1111111111111111, \"#46039f\"], [0.2222222222222222, \"#7201a8\"], [0.3333333333333333, \"#9c179e\"], [0.4444444444444444, \"#bd3786\"], [0.5555555555555556, \"#d8576b\"], [0.6666666666666666, \"#ed7953\"], [0.7777777777777778, \"#fb9f3a\"], [0.8888888888888888, \"#fdca26\"], [1.0, \"#f0f921\"]], \"type\": \"histogram2dcontour\"}], \"mesh3d\": [{\"colorbar\": {\"outlinewidth\": 0, \"ticks\": \"\"}, \"type\": \"mesh3d\"}], \"parcoords\": [{\"line\": {\"colorbar\": {\"outlinewidth\": 0, \"ticks\": \"\"}}, \"type\": \"parcoords\"}], \"pie\": [{\"automargin\": true, \"type\": \"pie\"}], \"scatter\": [{\"marker\": {\"colorbar\": {\"outlinewidth\": 0, \"ticks\": \"\"}}, \"type\": \"scatter\"}], \"scatter3d\": [{\"line\": {\"colorbar\": {\"outlinewidth\": 0, \"ticks\": \"\"}}, \"marker\": {\"colorbar\": {\"outlinewidth\": 0, \"ticks\": \"\"}}, \"type\": \"scatter3d\"}], \"scattercarpet\": [{\"marker\": {\"colorbar\": {\"outlinewidth\": 0, \"ticks\": \"\"}}, \"type\": \"scattercarpet\"}], \"scattergeo\": [{\"marker\": {\"colorbar\": {\"outlinewidth\": 0, \"ticks\": \"\"}}, \"type\": \"scattergeo\"}], \"scattergl\": [{\"marker\": {\"colorbar\": {\"outlinewidth\": 0, \"ticks\": \"\"}}, \"type\": \"scattergl\"}], \"scattermapbox\": [{\"marker\": {\"colorbar\": {\"outlinewidth\": 0, \"ticks\": \"\"}}, \"type\": \"scattermapbox\"}], \"scatterpolar\": [{\"marker\": {\"colorbar\": {\"outlinewidth\": 0, \"ticks\": \"\"}}, \"type\": \"scatterpolar\"}], \"scatterpolargl\": [{\"marker\": {\"colorbar\": {\"outlinewidth\": 0, \"ticks\": \"\"}}, \"type\": \"scatterpolargl\"}], \"scatterternary\": [{\"marker\": {\"colorbar\": {\"outlinewidth\": 0, \"ticks\": \"\"}}, \"type\": \"scatterternary\"}], \"surface\": [{\"colorbar\": {\"outlinewidth\": 0, \"ticks\": \"\"}, \"colorscale\": [[0.0, \"#0d0887\"], [0.1111111111111111, \"#46039f\"], [0.2222222222222222, \"#7201a8\"], [0.3333333333333333, \"#9c179e\"], [0.4444444444444444, \"#bd3786\"], [0.5555555555555556, \"#d8576b\"], [0.6666666666666666, \"#ed7953\"], [0.7777777777777778, \"#fb9f3a\"], [0.8888888888888888, \"#fdca26\"], [1.0, \"#f0f921\"]], \"type\": \"surface\"}], \"table\": [{\"cells\": {\"fill\": {\"color\": \"#EBF0F8\"}, \"line\": {\"color\": \"white\"}}, \"header\": {\"fill\": {\"color\": \"#C8D4E3\"}, \"line\": {\"color\": \"white\"}}, \"type\": \"table\"}]}, \"layout\": {\"annotationdefaults\": {\"arrowcolor\": \"#2a3f5f\", \"arrowhead\": 0, \"arrowwidth\": 1}, \"autotypenumbers\": \"strict\", \"coloraxis\": {\"colorbar\": {\"outlinewidth\": 0, \"ticks\": \"\"}}, \"colorscale\": {\"diverging\": [[0, \"#8e0152\"], [0.1, \"#c51b7d\"], [0.2, \"#de77ae\"], [0.3, \"#f1b6da\"], [0.4, \"#fde0ef\"], [0.5, \"#f7f7f7\"], [0.6, \"#e6f5d0\"], [0.7, \"#b8e186\"], [0.8, \"#7fbc41\"], [0.9, \"#4d9221\"], [1, \"#276419\"]], \"sequential\": [[0.0, \"#0d0887\"], [0.1111111111111111, \"#46039f\"], [0.2222222222222222, \"#7201a8\"], [0.3333333333333333, \"#9c179e\"], [0.4444444444444444, \"#bd3786\"], [0.5555555555555556, \"#d8576b\"], [0.6666666666666666, \"#ed7953\"], [0.7777777777777778, \"#fb9f3a\"], [0.8888888888888888, \"#fdca26\"], [1.0, \"#f0f921\"]], \"sequentialminus\": [[0.0, \"#0d0887\"], [0.1111111111111111, \"#46039f\"], [0.2222222222222222, \"#7201a8\"], [0.3333333333333333, \"#9c179e\"], [0.4444444444444444, \"#bd3786\"], [0.5555555555555556, \"#d8576b\"], [0.6666666666666666, \"#ed7953\"], [0.7777777777777778, \"#fb9f3a\"], [0.8888888888888888, \"#fdca26\"], [1.0, \"#f0f921\"]]}, \"colorway\": [\"#636efa\", \"#EF553B\", \"#00cc96\", \"#ab63fa\", \"#FFA15A\", \"#19d3f3\", \"#FF6692\", \"#B6E880\", \"#FF97FF\", \"#FECB52\"], \"font\": {\"color\": \"#2a3f5f\"}, \"geo\": {\"bgcolor\": \"white\", \"lakecolor\": \"white\", \"landcolor\": \"#E5ECF6\", \"showlakes\": true, \"showland\": true, \"subunitcolor\": \"white\"}, \"hoverlabel\": {\"align\": \"left\"}, \"hovermode\": \"closest\", \"mapbox\": {\"style\": \"light\"}, \"paper_bgcolor\": \"white\", \"plot_bgcolor\": \"#E5ECF6\", \"polar\": {\"angularaxis\": {\"gridcolor\": \"white\", \"linecolor\": \"white\", \"ticks\": \"\"}, \"bgcolor\": \"#E5ECF6\", \"radialaxis\": {\"gridcolor\": \"white\", \"linecolor\": \"white\", \"ticks\": \"\"}}, \"scene\": {\"xaxis\": {\"backgroundcolor\": \"#E5ECF6\", \"gridcolor\": \"white\", \"gridwidth\": 2, \"linecolor\": \"white\", \"showbackground\": true, \"ticks\": \"\", \"zerolinecolor\": \"white\"}, \"yaxis\": {\"backgroundcolor\": \"#E5ECF6\", \"gridcolor\": \"white\", \"gridwidth\": 2, \"linecolor\": \"white\", \"showbackground\": true, \"ticks\": \"\", \"zerolinecolor\": \"white\"}, \"zaxis\": {\"backgroundcolor\": \"#E5ECF6\", \"gridcolor\": \"white\", \"gridwidth\": 2, \"linecolor\": \"white\", \"showbackground\": true, \"ticks\": \"\", \"zerolinecolor\": \"white\"}}, \"shapedefaults\": {\"line\": {\"color\": \"#2a3f5f\"}}, \"ternary\": {\"aaxis\": {\"gridcolor\": \"white\", \"linecolor\": \"white\", \"ticks\": \"\"}, \"baxis\": {\"gridcolor\": \"white\", \"linecolor\": \"white\", \"ticks\": \"\"}, \"bgcolor\": \"#E5ECF6\", \"caxis\": {\"gridcolor\": \"white\", \"linecolor\": \"white\", \"ticks\": \"\"}}, \"title\": {\"x\": 0.05}, \"xaxis\": {\"automargin\": true, \"gridcolor\": \"white\", \"linecolor\": \"white\", \"ticks\": \"\", \"title\": {\"standoff\": 15}, \"zerolinecolor\": \"white\", \"zerolinewidth\": 2}, \"yaxis\": {\"automargin\": true, \"gridcolor\": \"white\", \"linecolor\": \"white\", \"ticks\": \"\", \"title\": {\"standoff\": 15}, \"zerolinecolor\": \"white\", \"zerolinewidth\": 2}}}, \"title\": {\"text\": \"Feature Importance<br><sub>May display fewer features due to feature selection</sub>\"}, \"xaxis\": {\"title\": {\"text\": \"Feature Importance\"}}, \"yaxis\": {\"title\": {\"text\": \"Feature\"}, \"type\": \"category\"}},                        {\"responsive\": true}                    ).then(function(){\n",
       "                            \n",
       "var gd = document.getElementById('f80676df-f256-4098-b258-3d5e54e01c53');\n",
       "var x = new MutationObserver(function (mutations, observer) {{\n",
       "        var display = window.getComputedStyle(gd).display;\n",
       "        if (!display || display === 'none') {{\n",
       "            console.log([gd, 'removed!']);\n",
       "            Plotly.purge(gd);\n",
       "            observer.disconnect();\n",
       "        }}\n",
       "}});\n",
       "\n",
       "// Listen for the removal of the full notebook cells\n",
       "var notebookContainer = gd.closest('#notebook-container');\n",
       "if (notebookContainer) {{\n",
       "    x.observe(notebookContainer, {childList: true});\n",
       "}}\n",
       "\n",
       "// Listen for the clearing of the current output cell\n",
       "var outputEl = gd.closest('.output');\n",
       "if (outputEl) {{\n",
       "    x.observe(outputEl, {childList: true});\n",
       "}}\n",
       "\n",
       "                        })                };                });            </script>        </div>"
      ]
     },
     "metadata": {},
     "output_type": "display_data"
    }
   ],
   "source": [
    "best_pipeline.graph_feature_importance()"
   ]
  },
  {
   "cell_type": "code",
   "execution_count": 86,
   "metadata": {},
   "outputs": [],
   "source": [
    "predictions = best_pipeline.predict(X_test)\n",
    "predictions = predictions.to_series()"
   ]
  },
  {
   "cell_type": "code",
   "execution_count": 87,
   "metadata": {},
   "outputs": [
    {
     "name": "stdout",
     "output_type": "stream",
     "text": [
      "R2: 0.9854992619091882\n",
      "MSE: 1.7111332536110995\n",
      "RMSE: 1.3081029216430562\n",
      "MAE: 0.9346232766273034\n"
     ]
    }
   ],
   "source": [
    "from sklearn.metrics import r2_score\n",
    "from sklearn.metrics import mean_squared_error\n",
    "from sklearn.metrics import mean_absolute_error\n",
    "\n",
    "print('R2: ' + str(r2_score(y_test,  predictions)))\n",
    "print('MSE: ' + str(mean_squared_error(y_test, predictions, squared = True)))\n",
    "print('RMSE: ' + str(mean_squared_error(y_test, predictions, squared = False)))\n",
    "print('MAE: ' + str(mean_absolute_error(y_test, predictions)))"
   ]
  },
  {
   "cell_type": "code",
   "execution_count": 92,
   "metadata": {},
   "outputs": [],
   "source": [
    "best_pipeline.save('test.model')"
   ]
  }
 ],
 "metadata": {
  "kernelspec": {
   "display_name": "Python 3",
   "language": "python",
   "name": "python3"
  },
  "language_info": {
   "codemirror_mode": {
    "name": "ipython",
    "version": 3
   },
   "file_extension": ".py",
   "mimetype": "text/x-python",
   "name": "python",
   "nbconvert_exporter": "python",
   "pygments_lexer": "ipython3",
   "version": "3.8.5"
  }
 },
 "nbformat": 4,
 "nbformat_minor": 4
}
