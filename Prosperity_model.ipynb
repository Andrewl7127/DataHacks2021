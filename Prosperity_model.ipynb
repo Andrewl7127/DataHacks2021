{
 "cells": [
  {
   "cell_type": "code",
   "execution_count": 71,
   "metadata": {},
   "outputs": [],
   "source": [
    "import pandas as pd\n",
    "import evalml\n",
    "import woodwork as ww\n",
    "from sklearn.model_selection import train_test_split\n",
    "from sklearn.metrics import r2_score\n",
    "from sklearn.metrics import mean_squared_error\n",
    "from sklearn.metrics import mean_absolute_error\n",
    "from featuretools.selection import remove_low_information_features, remove_highly_null_features, remove_single_value_features, remove_highly_correlated_features"
   ]
  },
  {
   "cell_type": "code",
   "execution_count": 72,
   "metadata": {},
   "outputs": [
    {
     "data": {
      "text/html": [
       "<div>\n",
       "<style scoped>\n",
       "    .dataframe tbody tr th:only-of-type {\n",
       "        vertical-align: middle;\n",
       "    }\n",
       "\n",
       "    .dataframe tbody tr th {\n",
       "        vertical-align: top;\n",
       "    }\n",
       "\n",
       "    .dataframe thead th {\n",
       "        text-align: right;\n",
       "    }\n",
       "</style>\n",
       "<table border=\"1\" class=\"dataframe\">\n",
       "  <thead>\n",
       "    <tr style=\"text-align: right;\">\n",
       "      <th></th>\n",
       "      <th>country</th>\n",
       "      <th>isonum</th>\n",
       "      <th>isocode</th>\n",
       "      <th>year</th>\n",
       "      <th>rank_educ</th>\n",
       "      <th>educ</th>\n",
       "      <th>qslnl</th>\n",
       "      <th>secvocp</th>\n",
       "      <th>teryrs</th>\n",
       "      <th>edqualsc</th>\n",
       "      <th>...</th>\n",
       "      <th>envi</th>\n",
       "      <th>fwateruse</th>\n",
       "      <th>airpollution</th>\n",
       "      <th>wasterwater</th>\n",
       "      <th>fishstock</th>\n",
       "      <th>marineprotect</th>\n",
       "      <th>improved_drinkwater</th>\n",
       "      <th>pestreg</th>\n",
       "      <th>terrestprotect</th>\n",
       "      <th>prosperity_score</th>\n",
       "    </tr>\n",
       "  </thead>\n",
       "  <tbody>\n",
       "    <tr>\n",
       "      <th>0</th>\n",
       "      <td>Afghanistan</td>\n",
       "      <td>4</td>\n",
       "      <td>AFG</td>\n",
       "      <td>2007</td>\n",
       "      <td>143</td>\n",
       "      <td>22.494400</td>\n",
       "      <td>-7.178585</td>\n",
       "      <td>0.714436</td>\n",
       "      <td>0.207426</td>\n",
       "      <td>337.589355</td>\n",
       "      <td>...</td>\n",
       "      <td>39.293343</td>\n",
       "      <td>43.011665</td>\n",
       "      <td>0.1400</td>\n",
       "      <td>0.000000</td>\n",
       "      <td>35.323078</td>\n",
       "      <td>13.537368</td>\n",
       "      <td>42.6</td>\n",
       "      <td>0</td>\n",
       "      <td>0.366882</td>\n",
       "      <td>37.658975</td>\n",
       "    </tr>\n",
       "    <tr>\n",
       "      <th>1</th>\n",
       "      <td>Angola</td>\n",
       "      <td>24</td>\n",
       "      <td>AGO</td>\n",
       "      <td>2007</td>\n",
       "      <td>125</td>\n",
       "      <td>35.916668</td>\n",
       "      <td>-7.178585</td>\n",
       "      <td>39.072861</td>\n",
       "      <td>0.099019</td>\n",
       "      <td>280.802673</td>\n",
       "      <td>...</td>\n",
       "      <td>47.982162</td>\n",
       "      <td>0.476892</td>\n",
       "      <td>0.0250</td>\n",
       "      <td>0.000000</td>\n",
       "      <td>4.500000</td>\n",
       "      <td>0.066623</td>\n",
       "      <td>46.4</td>\n",
       "      <td>3</td>\n",
       "      <td>12.399823</td>\n",
       "      <td>43.880780</td>\n",
       "    </tr>\n",
       "    <tr>\n",
       "      <th>2</th>\n",
       "      <td>Albania</td>\n",
       "      <td>8</td>\n",
       "      <td>ALB</td>\n",
       "      <td>2007</td>\n",
       "      <td>72</td>\n",
       "      <td>56.318413</td>\n",
       "      <td>-7.178585</td>\n",
       "      <td>7.345947</td>\n",
       "      <td>0.127648</td>\n",
       "      <td>425.420013</td>\n",
       "      <td>...</td>\n",
       "      <td>51.049442</td>\n",
       "      <td>4.873606</td>\n",
       "      <td>0.2750</td>\n",
       "      <td>5.136225</td>\n",
       "      <td>37.099178</td>\n",
       "      <td>1.624084</td>\n",
       "      <td>95.9</td>\n",
       "      <td>5</td>\n",
       "      <td>9.804400</td>\n",
       "      <td>54.893284</td>\n",
       "    </tr>\n",
       "    <tr>\n",
       "      <th>3</th>\n",
       "      <td>United Arab Emirates</td>\n",
       "      <td>784</td>\n",
       "      <td>ARE</td>\n",
       "      <td>2007</td>\n",
       "      <td>52</td>\n",
       "      <td>59.942955</td>\n",
       "      <td>-7.178585</td>\n",
       "      <td>0.494192</td>\n",
       "      <td>0.488107</td>\n",
       "      <td>480.829529</td>\n",
       "      <td>...</td>\n",
       "      <td>62.051479</td>\n",
       "      <td>100.000000</td>\n",
       "      <td>0.1975</td>\n",
       "      <td>61.308900</td>\n",
       "      <td>30.838837</td>\n",
       "      <td>2.571971</td>\n",
       "      <td>99.6</td>\n",
       "      <td>23</td>\n",
       "      <td>5.616998</td>\n",
       "      <td>61.111192</td>\n",
       "    </tr>\n",
       "    <tr>\n",
       "      <th>4</th>\n",
       "      <td>Argentina</td>\n",
       "      <td>32</td>\n",
       "      <td>ARG</td>\n",
       "      <td>2007</td>\n",
       "      <td>92</td>\n",
       "      <td>51.995552</td>\n",
       "      <td>-7.178585</td>\n",
       "      <td>6.997118</td>\n",
       "      <td>0.265608</td>\n",
       "      <td>421.549591</td>\n",
       "      <td>...</td>\n",
       "      <td>64.909729</td>\n",
       "      <td>12.938356</td>\n",
       "      <td>0.0050</td>\n",
       "      <td>18.062500</td>\n",
       "      <td>12.280000</td>\n",
       "      <td>1.103726</td>\n",
       "      <td>97.7</td>\n",
       "      <td>23</td>\n",
       "      <td>5.466403</td>\n",
       "      <td>58.557573</td>\n",
       "    </tr>\n",
       "  </tbody>\n",
       "</table>\n",
       "<p>5 rows × 97 columns</p>\n",
       "</div>"
      ],
      "text/plain": [
       "                country  isonum isocode  year  rank_educ       educ     qslnl  \\\n",
       "0           Afghanistan       4     AFG  2007        143  22.494400 -7.178585   \n",
       "1                Angola      24     AGO  2007        125  35.916668 -7.178585   \n",
       "2               Albania       8     ALB  2007         72  56.318413 -7.178585   \n",
       "3  United Arab Emirates     784     ARE  2007         52  59.942955 -7.178585   \n",
       "4             Argentina      32     ARG  2007         92  51.995552 -7.178585   \n",
       "\n",
       "     secvocp    teryrs    edqualsc  ...       envi   fwateruse  airpollution  \\\n",
       "0   0.714436  0.207426  337.589355  ...  39.293343   43.011665        0.1400   \n",
       "1  39.072861  0.099019  280.802673  ...  47.982162    0.476892        0.0250   \n",
       "2   7.345947  0.127648  425.420013  ...  51.049442    4.873606        0.2750   \n",
       "3   0.494192  0.488107  480.829529  ...  62.051479  100.000000        0.1975   \n",
       "4   6.997118  0.265608  421.549591  ...  64.909729   12.938356        0.0050   \n",
       "\n",
       "   wasterwater  fishstock  marineprotect  improved_drinkwater  pestreg  \\\n",
       "0     0.000000  35.323078      13.537368                 42.6        0   \n",
       "1     0.000000   4.500000       0.066623                 46.4        3   \n",
       "2     5.136225  37.099178       1.624084                 95.9        5   \n",
       "3    61.308900  30.838837       2.571971                 99.6       23   \n",
       "4    18.062500  12.280000       1.103726                 97.7       23   \n",
       "\n",
       "   terrestprotect  prosperity_score  \n",
       "0        0.366882         37.658975  \n",
       "1       12.399823         43.880780  \n",
       "2        9.804400         54.893284  \n",
       "3        5.616998         61.111192  \n",
       "4        5.466403         58.557573  \n",
       "\n",
       "[5 rows x 97 columns]"
      ]
     },
     "execution_count": 72,
     "metadata": {},
     "output_type": "execute_result"
    }
   ],
   "source": [
    "df = pd.read_csv('merged.csv')\n",
    "df = df.drop(['Unnamed: 0'], axis = 1)\n",
    "df.head()"
   ]
  },
  {
   "cell_type": "code",
   "execution_count": 73,
   "metadata": {},
   "outputs": [],
   "source": [
    "metrics = ['educ', 'soci', 'heal', 'pers', 'busi', 'econ', 'safe', 'gove', 'envi']\n",
    "ranks = ['rank_' + metric for metric in metrics]\n",
    "drop = metrics + ranks + ['year', 'prosperity_score']"
   ]
  },
  {
   "cell_type": "code",
   "execution_count": 74,
   "metadata": {},
   "outputs": [],
   "source": [
    "y = df['prosperity_score']\n",
    "\n",
    "df = df.drop(drop, axis = 1)\n",
    "\n",
    "df = remove_low_information_features(df)\n",
    "\n",
    "df = remove_highly_null_features(df)\n",
    "\n",
    "df = remove_single_value_features(df)\n",
    "\n",
    "df = remove_highly_correlated_features(df)\n",
    "\n",
    "X = df"
   ]
  },
  {
   "cell_type": "code",
   "execution_count": 75,
   "metadata": {},
   "outputs": [
    {
     "data": {
      "text/html": [
       "<div>\n",
       "<style scoped>\n",
       "    .dataframe tbody tr th:only-of-type {\n",
       "        vertical-align: middle;\n",
       "    }\n",
       "\n",
       "    .dataframe tbody tr th {\n",
       "        vertical-align: top;\n",
       "    }\n",
       "\n",
       "    .dataframe thead th {\n",
       "        text-align: right;\n",
       "    }\n",
       "</style>\n",
       "<table border=\"1\" class=\"dataframe\">\n",
       "  <thead>\n",
       "    <tr style=\"text-align: right;\">\n",
       "      <th></th>\n",
       "      <th>percent_missing</th>\n",
       "    </tr>\n",
       "  </thead>\n",
       "  <tbody>\n",
       "    <tr>\n",
       "      <th>country</th>\n",
       "      <td>0.0</td>\n",
       "    </tr>\n",
       "    <tr>\n",
       "      <th>isonum</th>\n",
       "      <td>0.0</td>\n",
       "    </tr>\n",
       "    <tr>\n",
       "      <th>isocode</th>\n",
       "      <td>0.0</td>\n",
       "    </tr>\n",
       "    <tr>\n",
       "      <th>qslnl</th>\n",
       "      <td>0.0</td>\n",
       "    </tr>\n",
       "    <tr>\n",
       "      <th>secvocp</th>\n",
       "      <td>0.0</td>\n",
       "    </tr>\n",
       "    <tr>\n",
       "      <th>...</th>\n",
       "      <td>...</td>\n",
       "    </tr>\n",
       "    <tr>\n",
       "      <th>fishstock</th>\n",
       "      <td>0.0</td>\n",
       "    </tr>\n",
       "    <tr>\n",
       "      <th>marineprotect</th>\n",
       "      <td>0.0</td>\n",
       "    </tr>\n",
       "    <tr>\n",
       "      <th>improved_drinkwater</th>\n",
       "      <td>0.0</td>\n",
       "    </tr>\n",
       "    <tr>\n",
       "      <th>pestreg</th>\n",
       "      <td>0.0</td>\n",
       "    </tr>\n",
       "    <tr>\n",
       "      <th>terrestprotect</th>\n",
       "      <td>0.0</td>\n",
       "    </tr>\n",
       "  </tbody>\n",
       "</table>\n",
       "<p>76 rows × 1 columns</p>\n",
       "</div>"
      ],
      "text/plain": [
       "                     percent_missing\n",
       "country                          0.0\n",
       "isonum                           0.0\n",
       "isocode                          0.0\n",
       "qslnl                            0.0\n",
       "secvocp                          0.0\n",
       "...                              ...\n",
       "fishstock                        0.0\n",
       "marineprotect                    0.0\n",
       "improved_drinkwater              0.0\n",
       "pestreg                          0.0\n",
       "terrestprotect                   0.0\n",
       "\n",
       "[76 rows x 1 columns]"
      ]
     },
     "execution_count": 75,
     "metadata": {},
     "output_type": "execute_result"
    }
   ],
   "source": [
    "percent_missing = df.isnull().sum() * 100 / len(df)\n",
    "missing_value_df = pd.DataFrame({'percent_missing': percent_missing})\n",
    "missing_value_df"
   ]
  },
  {
   "cell_type": "code",
   "execution_count": 76,
   "metadata": {},
   "outputs": [
    {
     "name": "stdout",
     "output_type": "stream",
     "text": [
      "Using default limit of max_batches=1.\n",
      "\n",
      "Generating pipelines to search over...\n"
     ]
    }
   ],
   "source": [
    "problem_type = 'regression'\n",
    "objective =  'auto'\n",
    "\n",
    "X_train, X_test, y_train, y_test = train_test_split(X, y, test_size=0.25, random_state=42, stratify = X['country'])\n",
    "\n",
    "\n",
    "automl = evalml.automl.AutoMLSearch(X_train, y_train, problem_type=problem_type, objective = objective)"
   ]
  },
  {
   "cell_type": "code",
   "execution_count": 77,
   "metadata": {},
   "outputs": [
    {
     "name": "stdout",
     "output_type": "stream",
     "text": [
      "*****************************\n",
      "* Beginning pipeline search *\n",
      "*****************************\n",
      "\n",
      "Optimizing for R2. \n",
      "Greater score is better.\n",
      "\n",
      "Using SequentialEngine to train and score pipelines.\n",
      "Searching up to 1 batches for a total of 9 pipelines. \n",
      "Allowed model families: random_forest, lightgbm, linear_model, decision_tree, extra_trees, xgboost, catboost\n",
      "\n"
     ]
    },
    {
     "data": {
      "application/vnd.jupyter.widget-view+json": {
       "model_id": "52a13b28747445daa0b2115ac093914e",
       "version_major": 2,
       "version_minor": 0
      },
      "text/plain": [
       "FigureWidget({\n",
       "    'data': [{'mode': 'lines+markers',\n",
       "              'name': 'Best Score',\n",
       "              'type'…"
      ]
     },
     "metadata": {},
     "output_type": "display_data"
    },
    {
     "name": "stdout",
     "output_type": "stream",
     "text": [
      "Batch 1: (1/9) Mean Baseline Regression Pipeline        Elapsed:00:00\n",
      "\tStarting cross validation\n",
      "\tFinished cross validation - mean R2: -0.002\n",
      "High coefficient of variation (cv >= 0.2) within cross validation scores. Mean Baseline Regression Pipeline may not perform as estimated on unseen data.\n",
      "Batch 1: (2/9) Decision Tree Regressor w/ Imputer + ... Elapsed:00:00\n",
      "\tStarting cross validation\n",
      "\tFinished cross validation - mean R2: 0.949\n",
      "Batch 1: (3/9) Extra Trees Regressor w/ Imputer + On... Elapsed:00:02\n",
      "\tStarting cross validation\n",
      "\tFinished cross validation - mean R2: 0.982\n",
      "Batch 1: (4/9) XGBoost Regressor w/ Imputer + One Ho... Elapsed:00:05\n",
      "\tStarting cross validation\n",
      "\tFinished cross validation - mean R2: 0.988\n",
      "Batch 1: (5/9) CatBoost Regressor w/ Imputer            Elapsed:00:08\n",
      "\tStarting cross validation\n",
      "\tFinished cross validation - mean R2: 0.359\n",
      "Batch 1: (6/9) Random Forest Regressor w/ Imputer + ... Elapsed:00:11\n",
      "\tStarting cross validation\n",
      "\tFinished cross validation - mean R2: 0.977\n",
      "Batch 1: (7/9) LightGBM Regressor w/ Imputer + One H... Elapsed:00:14\n",
      "\tStarting cross validation\n",
      "\tFinished cross validation - mean R2: 0.963\n",
      "Batch 1: (8/9) Linear Regressor w/ Imputer + One Hot... Elapsed:00:17\n",
      "\tStarting cross validation\n",
      "\tFinished cross validation - mean R2: 0.988\n",
      "Batch 1: (9/9) Elastic Net Regressor w/ Imputer + On... Elapsed:00:19\n",
      "\tStarting cross validation\n",
      "\tFinished cross validation - mean R2: 0.978\n",
      "\n",
      "Search finished after 00:22            \n",
      "Best pipeline: Linear Regressor w/ Imputer + One Hot Encoder + Standard Scaler\n",
      "Best pipeline R2: 0.988256\n"
     ]
    }
   ],
   "source": [
    "automl.search()"
   ]
  },
  {
   "cell_type": "code",
   "execution_count": 78,
   "metadata": {},
   "outputs": [
    {
     "data": {
      "text/html": [
       "<div>\n",
       "<style scoped>\n",
       "    .dataframe tbody tr th:only-of-type {\n",
       "        vertical-align: middle;\n",
       "    }\n",
       "\n",
       "    .dataframe tbody tr th {\n",
       "        vertical-align: top;\n",
       "    }\n",
       "\n",
       "    .dataframe thead th {\n",
       "        text-align: right;\n",
       "    }\n",
       "</style>\n",
       "<table border=\"1\" class=\"dataframe\">\n",
       "  <thead>\n",
       "    <tr style=\"text-align: right;\">\n",
       "      <th></th>\n",
       "      <th>id</th>\n",
       "      <th>pipeline_name</th>\n",
       "      <th>score</th>\n",
       "      <th>validation_score</th>\n",
       "      <th>percent_better_than_baseline</th>\n",
       "      <th>high_variance_cv</th>\n",
       "      <th>parameters</th>\n",
       "    </tr>\n",
       "  </thead>\n",
       "  <tbody>\n",
       "    <tr>\n",
       "      <th>0</th>\n",
       "      <td>7</td>\n",
       "      <td>Linear Regressor w/ Imputer + One Hot Encoder ...</td>\n",
       "      <td>0.988256</td>\n",
       "      <td>0.988311</td>\n",
       "      <td>64078.516416</td>\n",
       "      <td>False</td>\n",
       "      <td>{'Imputer': {'categorical_impute_strategy': 'm...</td>\n",
       "    </tr>\n",
       "    <tr>\n",
       "      <th>1</th>\n",
       "      <td>3</td>\n",
       "      <td>XGBoost Regressor w/ Imputer + One Hot Encoder</td>\n",
       "      <td>0.987822</td>\n",
       "      <td>0.990458</td>\n",
       "      <td>64050.424662</td>\n",
       "      <td>False</td>\n",
       "      <td>{'Imputer': {'categorical_impute_strategy': 'm...</td>\n",
       "    </tr>\n",
       "    <tr>\n",
       "      <th>2</th>\n",
       "      <td>2</td>\n",
       "      <td>Extra Trees Regressor w/ Imputer + One Hot Enc...</td>\n",
       "      <td>0.982336</td>\n",
       "      <td>0.984813</td>\n",
       "      <td>63695.316288</td>\n",
       "      <td>False</td>\n",
       "      <td>{'Imputer': {'categorical_impute_strategy': 'm...</td>\n",
       "    </tr>\n",
       "    <tr>\n",
       "      <th>3</th>\n",
       "      <td>8</td>\n",
       "      <td>Elastic Net Regressor w/ Imputer + One Hot Enc...</td>\n",
       "      <td>0.977581</td>\n",
       "      <td>0.980287</td>\n",
       "      <td>63387.484278</td>\n",
       "      <td>False</td>\n",
       "      <td>{'Imputer': {'categorical_impute_strategy': 'm...</td>\n",
       "    </tr>\n",
       "    <tr>\n",
       "      <th>4</th>\n",
       "      <td>5</td>\n",
       "      <td>Random Forest Regressor w/ Imputer + One Hot E...</td>\n",
       "      <td>0.977354</td>\n",
       "      <td>0.984730</td>\n",
       "      <td>63372.741029</td>\n",
       "      <td>False</td>\n",
       "      <td>{'Imputer': {'categorical_impute_strategy': 'm...</td>\n",
       "    </tr>\n",
       "    <tr>\n",
       "      <th>5</th>\n",
       "      <td>6</td>\n",
       "      <td>LightGBM Regressor w/ Imputer + One Hot Encoder</td>\n",
       "      <td>0.963305</td>\n",
       "      <td>0.965734</td>\n",
       "      <td>62463.267444</td>\n",
       "      <td>False</td>\n",
       "      <td>{'Imputer': {'categorical_impute_strategy': 'm...</td>\n",
       "    </tr>\n",
       "    <tr>\n",
       "      <th>6</th>\n",
       "      <td>1</td>\n",
       "      <td>Decision Tree Regressor w/ Imputer + One Hot E...</td>\n",
       "      <td>0.949184</td>\n",
       "      <td>0.954437</td>\n",
       "      <td>61549.044124</td>\n",
       "      <td>False</td>\n",
       "      <td>{'Imputer': {'categorical_impute_strategy': 'm...</td>\n",
       "    </tr>\n",
       "    <tr>\n",
       "      <th>7</th>\n",
       "      <td>4</td>\n",
       "      <td>CatBoost Regressor w/ Imputer</td>\n",
       "      <td>0.358700</td>\n",
       "      <td>0.355857</td>\n",
       "      <td>23321.847482</td>\n",
       "      <td>False</td>\n",
       "      <td>{'Imputer': {'categorical_impute_strategy': 'm...</td>\n",
       "    </tr>\n",
       "    <tr>\n",
       "      <th>8</th>\n",
       "      <td>0</td>\n",
       "      <td>Mean Baseline Regression Pipeline</td>\n",
       "      <td>-0.001545</td>\n",
       "      <td>-0.002994</td>\n",
       "      <td>0.000000</td>\n",
       "      <td>True</td>\n",
       "      <td>{'Baseline Regressor': {'strategy': 'mean'}}</td>\n",
       "    </tr>\n",
       "  </tbody>\n",
       "</table>\n",
       "</div>"
      ],
      "text/plain": [
       "   id                                      pipeline_name     score  \\\n",
       "0   7  Linear Regressor w/ Imputer + One Hot Encoder ...  0.988256   \n",
       "1   3     XGBoost Regressor w/ Imputer + One Hot Encoder  0.987822   \n",
       "2   2  Extra Trees Regressor w/ Imputer + One Hot Enc...  0.982336   \n",
       "3   8  Elastic Net Regressor w/ Imputer + One Hot Enc...  0.977581   \n",
       "4   5  Random Forest Regressor w/ Imputer + One Hot E...  0.977354   \n",
       "5   6    LightGBM Regressor w/ Imputer + One Hot Encoder  0.963305   \n",
       "6   1  Decision Tree Regressor w/ Imputer + One Hot E...  0.949184   \n",
       "7   4                      CatBoost Regressor w/ Imputer  0.358700   \n",
       "8   0                  Mean Baseline Regression Pipeline -0.001545   \n",
       "\n",
       "   validation_score  percent_better_than_baseline  high_variance_cv  \\\n",
       "0          0.988311                  64078.516416             False   \n",
       "1          0.990458                  64050.424662             False   \n",
       "2          0.984813                  63695.316288             False   \n",
       "3          0.980287                  63387.484278             False   \n",
       "4          0.984730                  63372.741029             False   \n",
       "5          0.965734                  62463.267444             False   \n",
       "6          0.954437                  61549.044124             False   \n",
       "7          0.355857                  23321.847482             False   \n",
       "8         -0.002994                      0.000000              True   \n",
       "\n",
       "                                          parameters  \n",
       "0  {'Imputer': {'categorical_impute_strategy': 'm...  \n",
       "1  {'Imputer': {'categorical_impute_strategy': 'm...  \n",
       "2  {'Imputer': {'categorical_impute_strategy': 'm...  \n",
       "3  {'Imputer': {'categorical_impute_strategy': 'm...  \n",
       "4  {'Imputer': {'categorical_impute_strategy': 'm...  \n",
       "5  {'Imputer': {'categorical_impute_strategy': 'm...  \n",
       "6  {'Imputer': {'categorical_impute_strategy': 'm...  \n",
       "7  {'Imputer': {'categorical_impute_strategy': 'm...  \n",
       "8       {'Baseline Regressor': {'strategy': 'mean'}}  "
      ]
     },
     "execution_count": 78,
     "metadata": {},
     "output_type": "execute_result"
    }
   ],
   "source": [
    "automl.rankings"
   ]
  },
  {
   "cell_type": "code",
   "execution_count": 79,
   "metadata": {},
   "outputs": [],
   "source": [
    "best_pipeline = automl.best_pipeline\n",
    "imp = best_pipeline.feature_importance\n",
    "best_pipeline.save('prosperity_best_pipeline')"
   ]
  },
  {
   "cell_type": "code",
   "execution_count": 80,
   "metadata": {},
   "outputs": [],
   "source": [
    "best_pipeline = automl.load('prosperity_best_pipeline')"
   ]
  },
  {
   "cell_type": "code",
   "execution_count": 81,
   "metadata": {},
   "outputs": [
    {
     "data": {
      "image/svg+xml": [
       "<?xml version=\"1.0\" encoding=\"UTF-8\" standalone=\"no\"?>\r\n",
       "<!DOCTYPE svg PUBLIC \"-//W3C//DTD SVG 1.1//EN\"\r\n",
       " \"http://www.w3.org/Graphics/SVG/1.1/DTD/svg11.dtd\">\r\n",
       "<!-- Generated by graphviz version 2.38.0 (20140413.2041)\r\n",
       " -->\r\n",
       "<!-- Title: %3 Pages: 1 -->\r\n",
       "<svg width=\"772pt\" height=\"130pt\"\r\n",
       " viewBox=\"0.00 0.00 772.00 130.00\" xmlns=\"http://www.w3.org/2000/svg\" xmlns:xlink=\"http://www.w3.org/1999/xlink\">\r\n",
       "<g id=\"graph0\" class=\"graph\" transform=\"scale(1 1) rotate(0) translate(4 126)\">\r\n",
       "<title>%3</title>\r\n",
       "<polygon fill=\"white\" stroke=\"none\" points=\"-4,4 -4,-126 768,-126 768,4 -4,4\"/>\r\n",
       "<!-- Imputer -->\r\n",
       "<g id=\"node1\" class=\"node\"><title>Imputer</title>\r\n",
       "<polygon fill=\"none\" stroke=\"black\" points=\"0,-15.5 0,-106.5 264,-106.5 264,-15.5 0,-15.5\"/>\r\n",
       "<text text-anchor=\"middle\" x=\"132\" y=\"-91.3\" font-family=\"Times New Roman,serif\" font-size=\"14.00\">Imputer</text>\r\n",
       "<polyline fill=\"none\" stroke=\"black\" points=\"0,-83.5 264,-83.5 \"/>\r\n",
       "<text text-anchor=\"start\" x=\"8\" y=\"-68.3\" font-family=\"Times New Roman,serif\" font-size=\"14.00\">categorical_impute_strategy : most_frequent</text>\r\n",
       "<text text-anchor=\"start\" x=\"8\" y=\"-53.3\" font-family=\"Times New Roman,serif\" font-size=\"14.00\">numeric_impute_strategy : mean</text>\r\n",
       "<text text-anchor=\"start\" x=\"8\" y=\"-38.3\" font-family=\"Times New Roman,serif\" font-size=\"14.00\">categorical_fill_value : None</text>\r\n",
       "<text text-anchor=\"start\" x=\"8\" y=\"-23.3\" font-family=\"Times New Roman,serif\" font-size=\"14.00\">numeric_fill_value : None</text>\r\n",
       "</g>\r\n",
       "<!-- One Hot Encoder -->\r\n",
       "<g id=\"node2\" class=\"node\"><title>One Hot Encoder</title>\r\n",
       "<polygon fill=\"none\" stroke=\"black\" points=\"300,-0.5 300,-121.5 467,-121.5 467,-0.5 300,-0.5\"/>\r\n",
       "<text text-anchor=\"middle\" x=\"383.5\" y=\"-106.3\" font-family=\"Times New Roman,serif\" font-size=\"14.00\">One Hot Encoder</text>\r\n",
       "<polyline fill=\"none\" stroke=\"black\" points=\"300,-98.5 467,-98.5 \"/>\r\n",
       "<text text-anchor=\"start\" x=\"308\" y=\"-83.3\" font-family=\"Times New Roman,serif\" font-size=\"14.00\">top_n : 10</text>\r\n",
       "<text text-anchor=\"start\" x=\"308\" y=\"-68.3\" font-family=\"Times New Roman,serif\" font-size=\"14.00\">features_to_encode : None</text>\r\n",
       "<text text-anchor=\"start\" x=\"308\" y=\"-53.3\" font-family=\"Times New Roman,serif\" font-size=\"14.00\">categories : None</text>\r\n",
       "<text text-anchor=\"start\" x=\"308\" y=\"-38.3\" font-family=\"Times New Roman,serif\" font-size=\"14.00\">drop : None</text>\r\n",
       "<text text-anchor=\"start\" x=\"308\" y=\"-23.3\" font-family=\"Times New Roman,serif\" font-size=\"14.00\">handle_unknown : ignore</text>\r\n",
       "<text text-anchor=\"start\" x=\"308\" y=\"-8.3\" font-family=\"Times New Roman,serif\" font-size=\"14.00\">handle_missing : error</text>\r\n",
       "</g>\r\n",
       "<!-- Imputer&#45;&gt;One Hot Encoder -->\r\n",
       "<g id=\"edge1\" class=\"edge\"><title>Imputer&#45;&gt;One Hot Encoder</title>\r\n",
       "<path fill=\"none\" stroke=\"black\" d=\"M264.011,-61C264.011,-61 289.957,-61 289.957,-61\"/>\r\n",
       "<polygon fill=\"black\" stroke=\"black\" points=\"289.957,-64.5001 299.957,-61 289.957,-57.5001 289.957,-64.5001\"/>\r\n",
       "</g>\r\n",
       "<!-- Standard Scaler -->\r\n",
       "<g id=\"node3\" class=\"node\"><title>Standard Scaler</title>\r\n",
       "<polygon fill=\"none\" stroke=\"black\" points=\"503,-37.5 503,-84.5 608,-84.5 608,-37.5 503,-37.5\"/>\r\n",
       "<text text-anchor=\"middle\" x=\"555.5\" y=\"-69.3\" font-family=\"Times New Roman,serif\" font-size=\"14.00\">Standard Scaler</text>\r\n",
       "<polyline fill=\"none\" stroke=\"black\" points=\"503,-61.5 608,-61.5 \"/>\r\n",
       "</g>\r\n",
       "<!-- One Hot Encoder&#45;&gt;Standard Scaler -->\r\n",
       "<g id=\"edge2\" class=\"edge\"><title>One Hot Encoder&#45;&gt;Standard Scaler</title>\r\n",
       "<path fill=\"none\" stroke=\"black\" d=\"M467.233,-61C467.233,-61 492.842,-61 492.842,-61\"/>\r\n",
       "<polygon fill=\"black\" stroke=\"black\" points=\"492.842,-64.5001 502.842,-61 492.842,-57.5001 492.842,-64.5001\"/>\r\n",
       "</g>\r\n",
       "<!-- Linear Regressor -->\r\n",
       "<g id=\"node4\" class=\"node\"><title>Linear Regressor</title>\r\n",
       "<polygon fill=\"none\" stroke=\"black\" points=\"644,-23 644,-99 764,-99 764,-23 644,-23\"/>\r\n",
       "<text text-anchor=\"middle\" x=\"704\" y=\"-83.8\" font-family=\"Times New Roman,serif\" font-size=\"14.00\">Linear Regressor</text>\r\n",
       "<polyline fill=\"none\" stroke=\"black\" points=\"644,-76 764,-76 \"/>\r\n",
       "<text text-anchor=\"start\" x=\"652\" y=\"-60.8\" font-family=\"Times New Roman,serif\" font-size=\"14.00\">fit_intercept : True</text>\r\n",
       "<text text-anchor=\"start\" x=\"652\" y=\"-45.8\" font-family=\"Times New Roman,serif\" font-size=\"14.00\">normalize : False</text>\r\n",
       "<text text-anchor=\"start\" x=\"652\" y=\"-30.8\" font-family=\"Times New Roman,serif\" font-size=\"14.00\">n_jobs : &#45;1</text>\r\n",
       "</g>\r\n",
       "<!-- Standard Scaler&#45;&gt;Linear Regressor -->\r\n",
       "<g id=\"edge3\" class=\"edge\"><title>Standard Scaler&#45;&gt;Linear Regressor</title>\r\n",
       "<path fill=\"none\" stroke=\"black\" d=\"M608.274,-61C608.274,-61 633.803,-61 633.803,-61\"/>\r\n",
       "<polygon fill=\"black\" stroke=\"black\" points=\"633.803,-64.5001 643.803,-61 633.803,-57.5001 633.803,-64.5001\"/>\r\n",
       "</g>\r\n",
       "</g>\r\n",
       "</svg>\r\n"
      ],
      "text/plain": [
       "<graphviz.dot.Digraph at 0x155c7464130>"
      ]
     },
     "execution_count": 81,
     "metadata": {},
     "output_type": "execute_result"
    }
   ],
   "source": [
    "best_pipeline.graph()"
   ]
  },
  {
   "cell_type": "code",
   "execution_count": 82,
   "metadata": {},
   "outputs": [
    {
     "data": {
      "text/html": [
       "<div>\n",
       "<style scoped>\n",
       "    .dataframe tbody tr th:only-of-type {\n",
       "        vertical-align: middle;\n",
       "    }\n",
       "\n",
       "    .dataframe tbody tr th {\n",
       "        vertical-align: top;\n",
       "    }\n",
       "\n",
       "    .dataframe thead th {\n",
       "        text-align: right;\n",
       "    }\n",
       "</style>\n",
       "<table border=\"1\" class=\"dataframe\">\n",
       "  <thead>\n",
       "    <tr style=\"text-align: right;\">\n",
       "      <th></th>\n",
       "      <th>feature</th>\n",
       "      <th>importance</th>\n",
       "    </tr>\n",
       "  </thead>\n",
       "  <tbody>\n",
       "    <tr>\n",
       "      <th>0</th>\n",
       "      <td>isocode_NGA</td>\n",
       "      <td>-6.453449e+11</td>\n",
       "    </tr>\n",
       "    <tr>\n",
       "      <th>1</th>\n",
       "      <td>country_Nigeria</td>\n",
       "      <td>6.453449e+11</td>\n",
       "    </tr>\n",
       "    <tr>\n",
       "      <th>2</th>\n",
       "      <td>isocode_THA</td>\n",
       "      <td>2.749061e+11</td>\n",
       "    </tr>\n",
       "    <tr>\n",
       "      <th>3</th>\n",
       "      <td>country_Thailand</td>\n",
       "      <td>-2.749061e+11</td>\n",
       "    </tr>\n",
       "    <tr>\n",
       "      <th>4</th>\n",
       "      <td>country_Cyprus</td>\n",
       "      <td>1.625626e+11</td>\n",
       "    </tr>\n",
       "    <tr>\n",
       "      <th>...</th>\n",
       "      <td>...</td>\n",
       "      <td>...</td>\n",
       "    </tr>\n",
       "    <tr>\n",
       "      <th>89</th>\n",
       "      <td>isocode_SCG</td>\n",
       "      <td>2.421050e-02</td>\n",
       "    </tr>\n",
       "    <tr>\n",
       "      <th>90</th>\n",
       "      <td>isocode_MDG</td>\n",
       "      <td>-1.473692e-02</td>\n",
       "    </tr>\n",
       "    <tr>\n",
       "      <th>91</th>\n",
       "      <td>country_Tajikistan</td>\n",
       "      <td>-8.091358e-03</td>\n",
       "    </tr>\n",
       "    <tr>\n",
       "      <th>92</th>\n",
       "      <td>polity2</td>\n",
       "      <td>-6.682241e-03</td>\n",
       "    </tr>\n",
       "    <tr>\n",
       "      <th>93</th>\n",
       "      <td>country_Mauritania</td>\n",
       "      <td>1.688004e-03</td>\n",
       "    </tr>\n",
       "  </tbody>\n",
       "</table>\n",
       "<p>94 rows × 2 columns</p>\n",
       "</div>"
      ],
      "text/plain": [
       "               feature    importance\n",
       "0          isocode_NGA -6.453449e+11\n",
       "1      country_Nigeria  6.453449e+11\n",
       "2          isocode_THA  2.749061e+11\n",
       "3     country_Thailand -2.749061e+11\n",
       "4       country_Cyprus  1.625626e+11\n",
       "..                 ...           ...\n",
       "89         isocode_SCG  2.421050e-02\n",
       "90         isocode_MDG -1.473692e-02\n",
       "91  country_Tajikistan -8.091358e-03\n",
       "92             polity2 -6.682241e-03\n",
       "93  country_Mauritania  1.688004e-03\n",
       "\n",
       "[94 rows x 2 columns]"
      ]
     },
     "execution_count": 82,
     "metadata": {},
     "output_type": "execute_result"
    }
   ],
   "source": [
    "best_pipeline.feature_importance"
   ]
  },
  {
   "cell_type": "code",
   "execution_count": 83,
   "metadata": {},
   "outputs": [
    {
     "data": {
      "application/vnd.plotly.v1+json": {
       "config": {
        "plotlyServerURL": "https://plot.ly"
       },
       "data": [
        {
         "orientation": "h",
         "type": "bar",
         "x": [
          0.001688004129110618,
          0.006682241113767945,
          0.008091357933751375,
          0.01473691698167881,
          0.02421050374464384,
          0.036673847459171516,
          0.040699602804608714,
          0.043108235596878756,
          0.05076185369354061,
          0.06161722580843748,
          0.06395753933668892,
          0.07046283804798581,
          0.07242004974506278,
          0.07407215050972872,
          0.0790310514546737,
          0.07923175442610397,
          0.08318229112283748,
          0.08490070797434407,
          0.08966325030214968,
          0.0904575876802532,
          0.0975150681817431,
          0.10716250233853211,
          0.11351322553866704,
          0.11463224210524675,
          0.11969090591668788,
          0.11975873940269938,
          0.12135460940670392,
          0.12857049194752693,
          0.1300590470768674,
          0.13051236226129825,
          0.1397368653856709,
          0.1430314997324633,
          0.15320375996670665,
          0.15369309693838373,
          0.16949731643465304,
          0.17287868176862786,
          0.17759555124341989,
          0.17810164509543017,
          0.1874436925462572,
          0.1935825954711016,
          0.1965872982841229,
          0.20985947796797175,
          0.21038166899169314,
          0.21878720072863198,
          0.22677872298604518,
          0.23845812106172745,
          0.23882792374648878,
          0.24923930179801715,
          0.27174264159738654,
          0.27457313641466846,
          0.2923942778598423,
          0.30515542948547514,
          0.305859319434097,
          0.30775816343843865,
          0.3091969482501816,
          0.3223656368273279,
          0.32291381359749016,
          0.344507960032454,
          0.35276253046879635,
          0.3684727859901028,
          0.3773332370740799,
          0.3911832091268292,
          0.3933153500624439,
          0.39345621174701917,
          0.3955628421077154,
          0.39588407482860166,
          0.40024436328518687,
          0.4173973820694975,
          0.41772275710197704,
          0.43156138882403133,
          0.44743986750861,
          0.4496363290287272,
          0.45938222153467073,
          0.4717051891774062,
          0.47601276603268183,
          0.476699955309819,
          0.5050421828986429,
          0.5060786361763359,
          0.5111270932999993,
          0.5611656099430746,
          0.5907283585150682,
          0.5913653471837009,
          0.6142613413372565,
          0.6941520386035747,
          0.7013174309501353,
          0.8170446987767495,
          1.0019328680558244,
          1.435961887902275,
          162562561508.65344,
          162562561508.71362,
          274906053921.20917,
          274906053921.34674,
          645344928761.079,
          645344928761.2034
         ],
         "y": [
          "country_Mauritania",
          "polity2",
          "country_Tajikistan",
          "isocode_MDG",
          "isocode_SCG",
          "country_Slovakia",
          "secyrs",
          "country_Spain",
          "tdeathslnl5",
          "mort",
          "litaf",
          "rrsoc",
          "trang",
          "country_Georgia",
          "secvocp",
          "isocode_TZA",
          "bband",
          "gdp5",
          "country_Norway",
          "ippr",
          "wasterwater",
          "vapvt",
          "isonum",
          "country_Uganda",
          "isocode_NIC",
          "elcostlnl",
          "isocode_GAB",
          "barrier",
          "isocode_SLE",
          "terrestprotect",
          "rdeathslnl",
          "prcompc",
          "hifi",
          "bdeathslnl",
          "creddtf",
          "logis",
          "womenparl",
          "redu",
          "teryrs",
          "eqi",
          "civlib",
          "banka",
          "amp",
          "isocode_TCD",
          "pts",
          "propright",
          "Obesity",
          "rrgov",
          "gbrata",
          "elfcr",
          "warcasual",
          "lityf",
          "homilnl",
          "fishstock",
          "pf",
          "impsan",
          "marineprotect",
          "povnahc",
          "stardtf",
          "imeas",
          "parfem",
          "Ginih15",
          "urate",
          "meandiabetes",
          "vtf",
          "edi",
          "improved_drinkwater",
          "insdtf",
          "edqualsc",
          "pestreg",
          "affs",
          "conscription",
          "ticpi",
          "lgbt_rights",
          "airpollution",
          "rqual",
          "povdday",
          "qslnl",
          "lfpr",
          "dpt",
          "polrights",
          "deathpen",
          "refugee_oriln",
          "leb",
          "fwateruse",
          "tblnl",
          "judi",
          "geff",
          "isocode_CYP",
          "country_Cyprus",
          "country_Thailand",
          "isocode_THA",
          "country_Nigeria",
          "isocode_NGA"
         ]
        }
       ],
       "layout": {
        "height": 800,
        "template": {
         "data": {
          "bar": [
           {
            "error_x": {
             "color": "#2a3f5f"
            },
            "error_y": {
             "color": "#2a3f5f"
            },
            "marker": {
             "line": {
              "color": "#E5ECF6",
              "width": 0.5
             }
            },
            "type": "bar"
           }
          ],
          "barpolar": [
           {
            "marker": {
             "line": {
              "color": "#E5ECF6",
              "width": 0.5
             }
            },
            "type": "barpolar"
           }
          ],
          "carpet": [
           {
            "aaxis": {
             "endlinecolor": "#2a3f5f",
             "gridcolor": "white",
             "linecolor": "white",
             "minorgridcolor": "white",
             "startlinecolor": "#2a3f5f"
            },
            "baxis": {
             "endlinecolor": "#2a3f5f",
             "gridcolor": "white",
             "linecolor": "white",
             "minorgridcolor": "white",
             "startlinecolor": "#2a3f5f"
            },
            "type": "carpet"
           }
          ],
          "choropleth": [
           {
            "colorbar": {
             "outlinewidth": 0,
             "ticks": ""
            },
            "type": "choropleth"
           }
          ],
          "contour": [
           {
            "colorbar": {
             "outlinewidth": 0,
             "ticks": ""
            },
            "colorscale": [
             [
              0,
              "#0d0887"
             ],
             [
              0.1111111111111111,
              "#46039f"
             ],
             [
              0.2222222222222222,
              "#7201a8"
             ],
             [
              0.3333333333333333,
              "#9c179e"
             ],
             [
              0.4444444444444444,
              "#bd3786"
             ],
             [
              0.5555555555555556,
              "#d8576b"
             ],
             [
              0.6666666666666666,
              "#ed7953"
             ],
             [
              0.7777777777777778,
              "#fb9f3a"
             ],
             [
              0.8888888888888888,
              "#fdca26"
             ],
             [
              1,
              "#f0f921"
             ]
            ],
            "type": "contour"
           }
          ],
          "contourcarpet": [
           {
            "colorbar": {
             "outlinewidth": 0,
             "ticks": ""
            },
            "type": "contourcarpet"
           }
          ],
          "heatmap": [
           {
            "colorbar": {
             "outlinewidth": 0,
             "ticks": ""
            },
            "colorscale": [
             [
              0,
              "#0d0887"
             ],
             [
              0.1111111111111111,
              "#46039f"
             ],
             [
              0.2222222222222222,
              "#7201a8"
             ],
             [
              0.3333333333333333,
              "#9c179e"
             ],
             [
              0.4444444444444444,
              "#bd3786"
             ],
             [
              0.5555555555555556,
              "#d8576b"
             ],
             [
              0.6666666666666666,
              "#ed7953"
             ],
             [
              0.7777777777777778,
              "#fb9f3a"
             ],
             [
              0.8888888888888888,
              "#fdca26"
             ],
             [
              1,
              "#f0f921"
             ]
            ],
            "type": "heatmap"
           }
          ],
          "heatmapgl": [
           {
            "colorbar": {
             "outlinewidth": 0,
             "ticks": ""
            },
            "colorscale": [
             [
              0,
              "#0d0887"
             ],
             [
              0.1111111111111111,
              "#46039f"
             ],
             [
              0.2222222222222222,
              "#7201a8"
             ],
             [
              0.3333333333333333,
              "#9c179e"
             ],
             [
              0.4444444444444444,
              "#bd3786"
             ],
             [
              0.5555555555555556,
              "#d8576b"
             ],
             [
              0.6666666666666666,
              "#ed7953"
             ],
             [
              0.7777777777777778,
              "#fb9f3a"
             ],
             [
              0.8888888888888888,
              "#fdca26"
             ],
             [
              1,
              "#f0f921"
             ]
            ],
            "type": "heatmapgl"
           }
          ],
          "histogram": [
           {
            "marker": {
             "colorbar": {
              "outlinewidth": 0,
              "ticks": ""
             }
            },
            "type": "histogram"
           }
          ],
          "histogram2d": [
           {
            "colorbar": {
             "outlinewidth": 0,
             "ticks": ""
            },
            "colorscale": [
             [
              0,
              "#0d0887"
             ],
             [
              0.1111111111111111,
              "#46039f"
             ],
             [
              0.2222222222222222,
              "#7201a8"
             ],
             [
              0.3333333333333333,
              "#9c179e"
             ],
             [
              0.4444444444444444,
              "#bd3786"
             ],
             [
              0.5555555555555556,
              "#d8576b"
             ],
             [
              0.6666666666666666,
              "#ed7953"
             ],
             [
              0.7777777777777778,
              "#fb9f3a"
             ],
             [
              0.8888888888888888,
              "#fdca26"
             ],
             [
              1,
              "#f0f921"
             ]
            ],
            "type": "histogram2d"
           }
          ],
          "histogram2dcontour": [
           {
            "colorbar": {
             "outlinewidth": 0,
             "ticks": ""
            },
            "colorscale": [
             [
              0,
              "#0d0887"
             ],
             [
              0.1111111111111111,
              "#46039f"
             ],
             [
              0.2222222222222222,
              "#7201a8"
             ],
             [
              0.3333333333333333,
              "#9c179e"
             ],
             [
              0.4444444444444444,
              "#bd3786"
             ],
             [
              0.5555555555555556,
              "#d8576b"
             ],
             [
              0.6666666666666666,
              "#ed7953"
             ],
             [
              0.7777777777777778,
              "#fb9f3a"
             ],
             [
              0.8888888888888888,
              "#fdca26"
             ],
             [
              1,
              "#f0f921"
             ]
            ],
            "type": "histogram2dcontour"
           }
          ],
          "mesh3d": [
           {
            "colorbar": {
             "outlinewidth": 0,
             "ticks": ""
            },
            "type": "mesh3d"
           }
          ],
          "parcoords": [
           {
            "line": {
             "colorbar": {
              "outlinewidth": 0,
              "ticks": ""
             }
            },
            "type": "parcoords"
           }
          ],
          "pie": [
           {
            "automargin": true,
            "type": "pie"
           }
          ],
          "scatter": [
           {
            "marker": {
             "colorbar": {
              "outlinewidth": 0,
              "ticks": ""
             }
            },
            "type": "scatter"
           }
          ],
          "scatter3d": [
           {
            "line": {
             "colorbar": {
              "outlinewidth": 0,
              "ticks": ""
             }
            },
            "marker": {
             "colorbar": {
              "outlinewidth": 0,
              "ticks": ""
             }
            },
            "type": "scatter3d"
           }
          ],
          "scattercarpet": [
           {
            "marker": {
             "colorbar": {
              "outlinewidth": 0,
              "ticks": ""
             }
            },
            "type": "scattercarpet"
           }
          ],
          "scattergeo": [
           {
            "marker": {
             "colorbar": {
              "outlinewidth": 0,
              "ticks": ""
             }
            },
            "type": "scattergeo"
           }
          ],
          "scattergl": [
           {
            "marker": {
             "colorbar": {
              "outlinewidth": 0,
              "ticks": ""
             }
            },
            "type": "scattergl"
           }
          ],
          "scattermapbox": [
           {
            "marker": {
             "colorbar": {
              "outlinewidth": 0,
              "ticks": ""
             }
            },
            "type": "scattermapbox"
           }
          ],
          "scatterpolar": [
           {
            "marker": {
             "colorbar": {
              "outlinewidth": 0,
              "ticks": ""
             }
            },
            "type": "scatterpolar"
           }
          ],
          "scatterpolargl": [
           {
            "marker": {
             "colorbar": {
              "outlinewidth": 0,
              "ticks": ""
             }
            },
            "type": "scatterpolargl"
           }
          ],
          "scatterternary": [
           {
            "marker": {
             "colorbar": {
              "outlinewidth": 0,
              "ticks": ""
             }
            },
            "type": "scatterternary"
           }
          ],
          "surface": [
           {
            "colorbar": {
             "outlinewidth": 0,
             "ticks": ""
            },
            "colorscale": [
             [
              0,
              "#0d0887"
             ],
             [
              0.1111111111111111,
              "#46039f"
             ],
             [
              0.2222222222222222,
              "#7201a8"
             ],
             [
              0.3333333333333333,
              "#9c179e"
             ],
             [
              0.4444444444444444,
              "#bd3786"
             ],
             [
              0.5555555555555556,
              "#d8576b"
             ],
             [
              0.6666666666666666,
              "#ed7953"
             ],
             [
              0.7777777777777778,
              "#fb9f3a"
             ],
             [
              0.8888888888888888,
              "#fdca26"
             ],
             [
              1,
              "#f0f921"
             ]
            ],
            "type": "surface"
           }
          ],
          "table": [
           {
            "cells": {
             "fill": {
              "color": "#EBF0F8"
             },
             "line": {
              "color": "white"
             }
            },
            "header": {
             "fill": {
              "color": "#C8D4E3"
             },
             "line": {
              "color": "white"
             }
            },
            "type": "table"
           }
          ]
         },
         "layout": {
          "annotationdefaults": {
           "arrowcolor": "#2a3f5f",
           "arrowhead": 0,
           "arrowwidth": 1
          },
          "autotypenumbers": "strict",
          "coloraxis": {
           "colorbar": {
            "outlinewidth": 0,
            "ticks": ""
           }
          },
          "colorscale": {
           "diverging": [
            [
             0,
             "#8e0152"
            ],
            [
             0.1,
             "#c51b7d"
            ],
            [
             0.2,
             "#de77ae"
            ],
            [
             0.3,
             "#f1b6da"
            ],
            [
             0.4,
             "#fde0ef"
            ],
            [
             0.5,
             "#f7f7f7"
            ],
            [
             0.6,
             "#e6f5d0"
            ],
            [
             0.7,
             "#b8e186"
            ],
            [
             0.8,
             "#7fbc41"
            ],
            [
             0.9,
             "#4d9221"
            ],
            [
             1,
             "#276419"
            ]
           ],
           "sequential": [
            [
             0,
             "#0d0887"
            ],
            [
             0.1111111111111111,
             "#46039f"
            ],
            [
             0.2222222222222222,
             "#7201a8"
            ],
            [
             0.3333333333333333,
             "#9c179e"
            ],
            [
             0.4444444444444444,
             "#bd3786"
            ],
            [
             0.5555555555555556,
             "#d8576b"
            ],
            [
             0.6666666666666666,
             "#ed7953"
            ],
            [
             0.7777777777777778,
             "#fb9f3a"
            ],
            [
             0.8888888888888888,
             "#fdca26"
            ],
            [
             1,
             "#f0f921"
            ]
           ],
           "sequentialminus": [
            [
             0,
             "#0d0887"
            ],
            [
             0.1111111111111111,
             "#46039f"
            ],
            [
             0.2222222222222222,
             "#7201a8"
            ],
            [
             0.3333333333333333,
             "#9c179e"
            ],
            [
             0.4444444444444444,
             "#bd3786"
            ],
            [
             0.5555555555555556,
             "#d8576b"
            ],
            [
             0.6666666666666666,
             "#ed7953"
            ],
            [
             0.7777777777777778,
             "#fb9f3a"
            ],
            [
             0.8888888888888888,
             "#fdca26"
            ],
            [
             1,
             "#f0f921"
            ]
           ]
          },
          "colorway": [
           "#636efa",
           "#EF553B",
           "#00cc96",
           "#ab63fa",
           "#FFA15A",
           "#19d3f3",
           "#FF6692",
           "#B6E880",
           "#FF97FF",
           "#FECB52"
          ],
          "font": {
           "color": "#2a3f5f"
          },
          "geo": {
           "bgcolor": "white",
           "lakecolor": "white",
           "landcolor": "#E5ECF6",
           "showlakes": true,
           "showland": true,
           "subunitcolor": "white"
          },
          "hoverlabel": {
           "align": "left"
          },
          "hovermode": "closest",
          "mapbox": {
           "style": "light"
          },
          "paper_bgcolor": "white",
          "plot_bgcolor": "#E5ECF6",
          "polar": {
           "angularaxis": {
            "gridcolor": "white",
            "linecolor": "white",
            "ticks": ""
           },
           "bgcolor": "#E5ECF6",
           "radialaxis": {
            "gridcolor": "white",
            "linecolor": "white",
            "ticks": ""
           }
          },
          "scene": {
           "xaxis": {
            "backgroundcolor": "#E5ECF6",
            "gridcolor": "white",
            "gridwidth": 2,
            "linecolor": "white",
            "showbackground": true,
            "ticks": "",
            "zerolinecolor": "white"
           },
           "yaxis": {
            "backgroundcolor": "#E5ECF6",
            "gridcolor": "white",
            "gridwidth": 2,
            "linecolor": "white",
            "showbackground": true,
            "ticks": "",
            "zerolinecolor": "white"
           },
           "zaxis": {
            "backgroundcolor": "#E5ECF6",
            "gridcolor": "white",
            "gridwidth": 2,
            "linecolor": "white",
            "showbackground": true,
            "ticks": "",
            "zerolinecolor": "white"
           }
          },
          "shapedefaults": {
           "line": {
            "color": "#2a3f5f"
           }
          },
          "ternary": {
           "aaxis": {
            "gridcolor": "white",
            "linecolor": "white",
            "ticks": ""
           },
           "baxis": {
            "gridcolor": "white",
            "linecolor": "white",
            "ticks": ""
           },
           "bgcolor": "#E5ECF6",
           "caxis": {
            "gridcolor": "white",
            "linecolor": "white",
            "ticks": ""
           }
          },
          "title": {
           "x": 0.05
          },
          "xaxis": {
           "automargin": true,
           "gridcolor": "white",
           "linecolor": "white",
           "ticks": "",
           "title": {
            "standoff": 15
           },
           "zerolinecolor": "white",
           "zerolinewidth": 2
          },
          "yaxis": {
           "automargin": true,
           "gridcolor": "white",
           "linecolor": "white",
           "ticks": "",
           "title": {
            "standoff": 15
           },
           "zerolinecolor": "white",
           "zerolinewidth": 2
          }
         }
        },
        "title": {
         "text": "Feature Importance<br><sub>May display fewer features due to feature selection</sub>"
        },
        "xaxis": {
         "title": {
          "text": "Feature Importance"
         }
        },
        "yaxis": {
         "title": {
          "text": "Feature"
         },
         "type": "category"
        }
       }
      },
      "text/html": [
       "<div>                            <div id=\"d927a70a-8675-473f-9d70-0c18bcf77735\" class=\"plotly-graph-div\" style=\"height:800px; width:100%;\"></div>            <script type=\"text/javascript\">                require([\"plotly\"], function(Plotly) {                    window.PLOTLYENV=window.PLOTLYENV || {};                                    if (document.getElementById(\"d927a70a-8675-473f-9d70-0c18bcf77735\")) {                    Plotly.newPlot(                        \"d927a70a-8675-473f-9d70-0c18bcf77735\",                        [{\"orientation\": \"h\", \"type\": \"bar\", \"x\": [0.001688004129110618, 0.006682241113767945, 0.008091357933751375, 0.01473691698167881, 0.02421050374464384, 0.036673847459171516, 0.040699602804608714, 0.043108235596878756, 0.05076185369354061, 0.06161722580843748, 0.06395753933668892, 0.07046283804798581, 0.07242004974506278, 0.07407215050972872, 0.0790310514546737, 0.07923175442610397, 0.08318229112283748, 0.08490070797434407, 0.08966325030214968, 0.0904575876802532, 0.0975150681817431, 0.10716250233853211, 0.11351322553866704, 0.11463224210524675, 0.11969090591668788, 0.11975873940269938, 0.12135460940670392, 0.12857049194752693, 0.1300590470768674, 0.13051236226129825, 0.1397368653856709, 0.1430314997324633, 0.15320375996670665, 0.15369309693838373, 0.16949731643465304, 0.17287868176862786, 0.17759555124341989, 0.17810164509543017, 0.1874436925462572, 0.1935825954711016, 0.1965872982841229, 0.20985947796797175, 0.21038166899169314, 0.21878720072863198, 0.22677872298604518, 0.23845812106172745, 0.23882792374648878, 0.24923930179801715, 0.27174264159738654, 0.27457313641466846, 0.2923942778598423, 0.30515542948547514, 0.305859319434097, 0.30775816343843865, 0.3091969482501816, 0.3223656368273279, 0.32291381359749016, 0.344507960032454, 0.35276253046879635, 0.3684727859901028, 0.3773332370740799, 0.3911832091268292, 0.3933153500624439, 0.39345621174701917, 0.3955628421077154, 0.39588407482860166, 0.40024436328518687, 0.4173973820694975, 0.41772275710197704, 0.43156138882403133, 0.44743986750861, 0.4496363290287272, 0.45938222153467073, 0.4717051891774062, 0.47601276603268183, 0.476699955309819, 0.5050421828986429, 0.5060786361763359, 0.5111270932999993, 0.5611656099430746, 0.5907283585150682, 0.5913653471837009, 0.6142613413372565, 0.6941520386035747, 0.7013174309501353, 0.8170446987767495, 1.0019328680558244, 1.435961887902275, 162562561508.65344, 162562561508.71362, 274906053921.20917, 274906053921.34674, 645344928761.079, 645344928761.2034], \"y\": [\"country_Mauritania\", \"polity2\", \"country_Tajikistan\", \"isocode_MDG\", \"isocode_SCG\", \"country_Slovakia\", \"secyrs\", \"country_Spain\", \"tdeathslnl5\", \"mort\", \"litaf\", \"rrsoc\", \"trang\", \"country_Georgia\", \"secvocp\", \"isocode_TZA\", \"bband\", \"gdp5\", \"country_Norway\", \"ippr\", \"wasterwater\", \"vapvt\", \"isonum\", \"country_Uganda\", \"isocode_NIC\", \"elcostlnl\", \"isocode_GAB\", \"barrier\", \"isocode_SLE\", \"terrestprotect\", \"rdeathslnl\", \"prcompc\", \"hifi\", \"bdeathslnl\", \"creddtf\", \"logis\", \"womenparl\", \"redu\", \"teryrs\", \"eqi\", \"civlib\", \"banka\", \"amp\", \"isocode_TCD\", \"pts\", \"propright\", \"Obesity\", \"rrgov\", \"gbrata\", \"elfcr\", \"warcasual\", \"lityf\", \"homilnl\", \"fishstock\", \"pf\", \"impsan\", \"marineprotect\", \"povnahc\", \"stardtf\", \"imeas\", \"parfem\", \"Ginih15\", \"urate\", \"meandiabetes\", \"vtf\", \"edi\", \"improved_drinkwater\", \"insdtf\", \"edqualsc\", \"pestreg\", \"affs\", \"conscription\", \"ticpi\", \"lgbt_rights\", \"airpollution\", \"rqual\", \"povdday\", \"qslnl\", \"lfpr\", \"dpt\", \"polrights\", \"deathpen\", \"refugee_oriln\", \"leb\", \"fwateruse\", \"tblnl\", \"judi\", \"geff\", \"isocode_CYP\", \"country_Cyprus\", \"country_Thailand\", \"isocode_THA\", \"country_Nigeria\", \"isocode_NGA\"]}],                        {\"height\": 800, \"template\": {\"data\": {\"bar\": [{\"error_x\": {\"color\": \"#2a3f5f\"}, \"error_y\": {\"color\": \"#2a3f5f\"}, \"marker\": {\"line\": {\"color\": \"#E5ECF6\", \"width\": 0.5}}, \"type\": \"bar\"}], \"barpolar\": [{\"marker\": {\"line\": {\"color\": \"#E5ECF6\", \"width\": 0.5}}, \"type\": \"barpolar\"}], \"carpet\": [{\"aaxis\": {\"endlinecolor\": \"#2a3f5f\", \"gridcolor\": \"white\", \"linecolor\": \"white\", \"minorgridcolor\": \"white\", \"startlinecolor\": \"#2a3f5f\"}, \"baxis\": {\"endlinecolor\": \"#2a3f5f\", \"gridcolor\": \"white\", \"linecolor\": \"white\", \"minorgridcolor\": \"white\", \"startlinecolor\": \"#2a3f5f\"}, \"type\": \"carpet\"}], \"choropleth\": [{\"colorbar\": {\"outlinewidth\": 0, \"ticks\": \"\"}, \"type\": \"choropleth\"}], \"contour\": [{\"colorbar\": {\"outlinewidth\": 0, \"ticks\": \"\"}, \"colorscale\": [[0.0, \"#0d0887\"], [0.1111111111111111, \"#46039f\"], [0.2222222222222222, \"#7201a8\"], [0.3333333333333333, \"#9c179e\"], [0.4444444444444444, \"#bd3786\"], [0.5555555555555556, \"#d8576b\"], [0.6666666666666666, \"#ed7953\"], [0.7777777777777778, \"#fb9f3a\"], [0.8888888888888888, \"#fdca26\"], [1.0, \"#f0f921\"]], \"type\": \"contour\"}], \"contourcarpet\": [{\"colorbar\": {\"outlinewidth\": 0, \"ticks\": \"\"}, \"type\": \"contourcarpet\"}], \"heatmap\": [{\"colorbar\": {\"outlinewidth\": 0, \"ticks\": \"\"}, \"colorscale\": [[0.0, \"#0d0887\"], [0.1111111111111111, \"#46039f\"], [0.2222222222222222, \"#7201a8\"], [0.3333333333333333, \"#9c179e\"], [0.4444444444444444, \"#bd3786\"], [0.5555555555555556, \"#d8576b\"], [0.6666666666666666, \"#ed7953\"], [0.7777777777777778, \"#fb9f3a\"], [0.8888888888888888, \"#fdca26\"], [1.0, \"#f0f921\"]], \"type\": \"heatmap\"}], \"heatmapgl\": [{\"colorbar\": {\"outlinewidth\": 0, \"ticks\": \"\"}, \"colorscale\": [[0.0, \"#0d0887\"], [0.1111111111111111, \"#46039f\"], [0.2222222222222222, \"#7201a8\"], [0.3333333333333333, \"#9c179e\"], [0.4444444444444444, \"#bd3786\"], [0.5555555555555556, \"#d8576b\"], [0.6666666666666666, \"#ed7953\"], [0.7777777777777778, \"#fb9f3a\"], [0.8888888888888888, \"#fdca26\"], [1.0, \"#f0f921\"]], \"type\": \"heatmapgl\"}], \"histogram\": [{\"marker\": {\"colorbar\": {\"outlinewidth\": 0, \"ticks\": \"\"}}, \"type\": \"histogram\"}], \"histogram2d\": [{\"colorbar\": {\"outlinewidth\": 0, \"ticks\": \"\"}, \"colorscale\": [[0.0, \"#0d0887\"], [0.1111111111111111, \"#46039f\"], [0.2222222222222222, \"#7201a8\"], [0.3333333333333333, \"#9c179e\"], [0.4444444444444444, \"#bd3786\"], [0.5555555555555556, \"#d8576b\"], [0.6666666666666666, \"#ed7953\"], [0.7777777777777778, \"#fb9f3a\"], [0.8888888888888888, \"#fdca26\"], [1.0, \"#f0f921\"]], \"type\": \"histogram2d\"}], \"histogram2dcontour\": [{\"colorbar\": {\"outlinewidth\": 0, \"ticks\": \"\"}, \"colorscale\": [[0.0, \"#0d0887\"], [0.1111111111111111, \"#46039f\"], [0.2222222222222222, \"#7201a8\"], [0.3333333333333333, \"#9c179e\"], [0.4444444444444444, \"#bd3786\"], [0.5555555555555556, \"#d8576b\"], [0.6666666666666666, \"#ed7953\"], [0.7777777777777778, \"#fb9f3a\"], [0.8888888888888888, \"#fdca26\"], [1.0, \"#f0f921\"]], \"type\": \"histogram2dcontour\"}], \"mesh3d\": [{\"colorbar\": {\"outlinewidth\": 0, \"ticks\": \"\"}, \"type\": \"mesh3d\"}], \"parcoords\": [{\"line\": {\"colorbar\": {\"outlinewidth\": 0, \"ticks\": \"\"}}, \"type\": \"parcoords\"}], \"pie\": [{\"automargin\": true, \"type\": \"pie\"}], \"scatter\": [{\"marker\": {\"colorbar\": {\"outlinewidth\": 0, \"ticks\": \"\"}}, \"type\": \"scatter\"}], \"scatter3d\": [{\"line\": {\"colorbar\": {\"outlinewidth\": 0, \"ticks\": \"\"}}, \"marker\": {\"colorbar\": {\"outlinewidth\": 0, \"ticks\": \"\"}}, \"type\": \"scatter3d\"}], \"scattercarpet\": [{\"marker\": {\"colorbar\": {\"outlinewidth\": 0, \"ticks\": \"\"}}, \"type\": \"scattercarpet\"}], \"scattergeo\": [{\"marker\": {\"colorbar\": {\"outlinewidth\": 0, \"ticks\": \"\"}}, \"type\": \"scattergeo\"}], \"scattergl\": [{\"marker\": {\"colorbar\": {\"outlinewidth\": 0, \"ticks\": \"\"}}, \"type\": \"scattergl\"}], \"scattermapbox\": [{\"marker\": {\"colorbar\": {\"outlinewidth\": 0, \"ticks\": \"\"}}, \"type\": \"scattermapbox\"}], \"scatterpolar\": [{\"marker\": {\"colorbar\": {\"outlinewidth\": 0, \"ticks\": \"\"}}, \"type\": \"scatterpolar\"}], \"scatterpolargl\": [{\"marker\": {\"colorbar\": {\"outlinewidth\": 0, \"ticks\": \"\"}}, \"type\": \"scatterpolargl\"}], \"scatterternary\": [{\"marker\": {\"colorbar\": {\"outlinewidth\": 0, \"ticks\": \"\"}}, \"type\": \"scatterternary\"}], \"surface\": [{\"colorbar\": {\"outlinewidth\": 0, \"ticks\": \"\"}, \"colorscale\": [[0.0, \"#0d0887\"], [0.1111111111111111, \"#46039f\"], [0.2222222222222222, \"#7201a8\"], [0.3333333333333333, \"#9c179e\"], [0.4444444444444444, \"#bd3786\"], [0.5555555555555556, \"#d8576b\"], [0.6666666666666666, \"#ed7953\"], [0.7777777777777778, \"#fb9f3a\"], [0.8888888888888888, \"#fdca26\"], [1.0, \"#f0f921\"]], \"type\": \"surface\"}], \"table\": [{\"cells\": {\"fill\": {\"color\": \"#EBF0F8\"}, \"line\": {\"color\": \"white\"}}, \"header\": {\"fill\": {\"color\": \"#C8D4E3\"}, \"line\": {\"color\": \"white\"}}, \"type\": \"table\"}]}, \"layout\": {\"annotationdefaults\": {\"arrowcolor\": \"#2a3f5f\", \"arrowhead\": 0, \"arrowwidth\": 1}, \"autotypenumbers\": \"strict\", \"coloraxis\": {\"colorbar\": {\"outlinewidth\": 0, \"ticks\": \"\"}}, \"colorscale\": {\"diverging\": [[0, \"#8e0152\"], [0.1, \"#c51b7d\"], [0.2, \"#de77ae\"], [0.3, \"#f1b6da\"], [0.4, \"#fde0ef\"], [0.5, \"#f7f7f7\"], [0.6, \"#e6f5d0\"], [0.7, \"#b8e186\"], [0.8, \"#7fbc41\"], [0.9, \"#4d9221\"], [1, \"#276419\"]], \"sequential\": [[0.0, \"#0d0887\"], [0.1111111111111111, \"#46039f\"], [0.2222222222222222, \"#7201a8\"], [0.3333333333333333, \"#9c179e\"], [0.4444444444444444, \"#bd3786\"], [0.5555555555555556, \"#d8576b\"], [0.6666666666666666, \"#ed7953\"], [0.7777777777777778, \"#fb9f3a\"], [0.8888888888888888, \"#fdca26\"], [1.0, \"#f0f921\"]], \"sequentialminus\": [[0.0, \"#0d0887\"], [0.1111111111111111, \"#46039f\"], [0.2222222222222222, \"#7201a8\"], [0.3333333333333333, \"#9c179e\"], [0.4444444444444444, \"#bd3786\"], [0.5555555555555556, \"#d8576b\"], [0.6666666666666666, \"#ed7953\"], [0.7777777777777778, \"#fb9f3a\"], [0.8888888888888888, \"#fdca26\"], [1.0, \"#f0f921\"]]}, \"colorway\": [\"#636efa\", \"#EF553B\", \"#00cc96\", \"#ab63fa\", \"#FFA15A\", \"#19d3f3\", \"#FF6692\", \"#B6E880\", \"#FF97FF\", \"#FECB52\"], \"font\": {\"color\": \"#2a3f5f\"}, \"geo\": {\"bgcolor\": \"white\", \"lakecolor\": \"white\", \"landcolor\": \"#E5ECF6\", \"showlakes\": true, \"showland\": true, \"subunitcolor\": \"white\"}, \"hoverlabel\": {\"align\": \"left\"}, \"hovermode\": \"closest\", \"mapbox\": {\"style\": \"light\"}, \"paper_bgcolor\": \"white\", \"plot_bgcolor\": \"#E5ECF6\", \"polar\": {\"angularaxis\": {\"gridcolor\": \"white\", \"linecolor\": \"white\", \"ticks\": \"\"}, \"bgcolor\": \"#E5ECF6\", \"radialaxis\": {\"gridcolor\": \"white\", \"linecolor\": \"white\", \"ticks\": \"\"}}, \"scene\": {\"xaxis\": {\"backgroundcolor\": \"#E5ECF6\", \"gridcolor\": \"white\", \"gridwidth\": 2, \"linecolor\": \"white\", \"showbackground\": true, \"ticks\": \"\", \"zerolinecolor\": \"white\"}, \"yaxis\": {\"backgroundcolor\": \"#E5ECF6\", \"gridcolor\": \"white\", \"gridwidth\": 2, \"linecolor\": \"white\", \"showbackground\": true, \"ticks\": \"\", \"zerolinecolor\": \"white\"}, \"zaxis\": {\"backgroundcolor\": \"#E5ECF6\", \"gridcolor\": \"white\", \"gridwidth\": 2, \"linecolor\": \"white\", \"showbackground\": true, \"ticks\": \"\", \"zerolinecolor\": \"white\"}}, \"shapedefaults\": {\"line\": {\"color\": \"#2a3f5f\"}}, \"ternary\": {\"aaxis\": {\"gridcolor\": \"white\", \"linecolor\": \"white\", \"ticks\": \"\"}, \"baxis\": {\"gridcolor\": \"white\", \"linecolor\": \"white\", \"ticks\": \"\"}, \"bgcolor\": \"#E5ECF6\", \"caxis\": {\"gridcolor\": \"white\", \"linecolor\": \"white\", \"ticks\": \"\"}}, \"title\": {\"x\": 0.05}, \"xaxis\": {\"automargin\": true, \"gridcolor\": \"white\", \"linecolor\": \"white\", \"ticks\": \"\", \"title\": {\"standoff\": 15}, \"zerolinecolor\": \"white\", \"zerolinewidth\": 2}, \"yaxis\": {\"automargin\": true, \"gridcolor\": \"white\", \"linecolor\": \"white\", \"ticks\": \"\", \"title\": {\"standoff\": 15}, \"zerolinecolor\": \"white\", \"zerolinewidth\": 2}}}, \"title\": {\"text\": \"Feature Importance<br><sub>May display fewer features due to feature selection</sub>\"}, \"xaxis\": {\"title\": {\"text\": \"Feature Importance\"}}, \"yaxis\": {\"title\": {\"text\": \"Feature\"}, \"type\": \"category\"}},                        {\"responsive\": true}                    ).then(function(){\n",
       "                            \n",
       "var gd = document.getElementById('d927a70a-8675-473f-9d70-0c18bcf77735');\n",
       "var x = new MutationObserver(function (mutations, observer) {{\n",
       "        var display = window.getComputedStyle(gd).display;\n",
       "        if (!display || display === 'none') {{\n",
       "            console.log([gd, 'removed!']);\n",
       "            Plotly.purge(gd);\n",
       "            observer.disconnect();\n",
       "        }}\n",
       "}});\n",
       "\n",
       "// Listen for the removal of the full notebook cells\n",
       "var notebookContainer = gd.closest('#notebook-container');\n",
       "if (notebookContainer) {{\n",
       "    x.observe(notebookContainer, {childList: true});\n",
       "}}\n",
       "\n",
       "// Listen for the clearing of the current output cell\n",
       "var outputEl = gd.closest('.output');\n",
       "if (outputEl) {{\n",
       "    x.observe(outputEl, {childList: true});\n",
       "}}\n",
       "\n",
       "                        })                };                });            </script>        </div>"
      ]
     },
     "metadata": {},
     "output_type": "display_data"
    }
   ],
   "source": [
    "best_pipeline.feature_importance[0:5].to_csv('prosperity_fi.csv', index = False)\n",
    "best_pipeline.graph_feature_importance()"
   ]
  },
  {
   "cell_type": "code",
   "execution_count": 22,
   "metadata": {},
   "outputs": [
    {
     "name": "stdout",
     "output_type": "stream",
     "text": [
      "\n"
     ]
    }
   ],
   "source": [
    "import os\n",
    "datasets = os.listdir('Data')\n",
    "train_csvs = [data for data in datasets if \"train\" in data]\n",
    "col = dict()\n",
    "for df in train_csvs:\n",
    "    col[df] = pd.read_csv(\"Data/{}\".format(df), index_col = 0).columns"
   ]
  },
  {
   "cell_type": "code",
   "execution_count": 32,
   "metadata": {},
   "outputs": [],
   "source": [
    "def find_csv(col_name):\n",
    "    for key in col.keys():\n",
    "        if col_name in col[key]:\n",
    "            return key\n",
    "\n",
    "imp['dataset'] = imp['feature'].apply(lambda x: find_csv(x))"
   ]
  },
  {
   "cell_type": "code",
   "execution_count": 43,
   "metadata": {},
   "outputs": [
    {
     "data": {
      "text/html": [
       "<div>\n",
       "<style scoped>\n",
       "    .dataframe tbody tr th:only-of-type {\n",
       "        vertical-align: middle;\n",
       "    }\n",
       "\n",
       "    .dataframe tbody tr th {\n",
       "        vertical-align: top;\n",
       "    }\n",
       "\n",
       "    .dataframe thead th {\n",
       "        text-align: right;\n",
       "    }\n",
       "</style>\n",
       "<table border=\"1\" class=\"dataframe\">\n",
       "  <thead>\n",
       "    <tr style=\"text-align: right;\">\n",
       "      <th></th>\n",
       "      <th>importance</th>\n",
       "    </tr>\n",
       "    <tr>\n",
       "      <th>dataset</th>\n",
       "      <th></th>\n",
       "    </tr>\n",
       "  </thead>\n",
       "  <tbody>\n",
       "    <tr>\n",
       "      <th>gove_train.csv</th>\n",
       "      <td>0.518028</td>\n",
       "    </tr>\n",
       "    <tr>\n",
       "      <th>pers_train.csv</th>\n",
       "      <td>0.156088</td>\n",
       "    </tr>\n",
       "    <tr>\n",
       "      <th>econ_train.csv</th>\n",
       "      <td>0.129436</td>\n",
       "    </tr>\n",
       "    <tr>\n",
       "      <th>educ_train.csv</th>\n",
       "      <td>0.081465</td>\n",
       "    </tr>\n",
       "    <tr>\n",
       "      <th>heal_train.csv</th>\n",
       "      <td>0.065779</td>\n",
       "    </tr>\n",
       "    <tr>\n",
       "      <th>safe_train.csv</th>\n",
       "      <td>0.024753</td>\n",
       "    </tr>\n",
       "    <tr>\n",
       "      <th>busi_train.csv</th>\n",
       "      <td>0.015170</td>\n",
       "    </tr>\n",
       "    <tr>\n",
       "      <th>envi_train.csv</th>\n",
       "      <td>0.007281</td>\n",
       "    </tr>\n",
       "    <tr>\n",
       "      <th>soci_train.csv</th>\n",
       "      <td>0.002000</td>\n",
       "    </tr>\n",
       "  </tbody>\n",
       "</table>\n",
       "</div>"
      ],
      "text/plain": [
       "                importance\n",
       "dataset                   \n",
       "gove_train.csv    0.518028\n",
       "pers_train.csv    0.156088\n",
       "econ_train.csv    0.129436\n",
       "educ_train.csv    0.081465\n",
       "heal_train.csv    0.065779\n",
       "safe_train.csv    0.024753\n",
       "busi_train.csv    0.015170\n",
       "envi_train.csv    0.007281\n",
       "soci_train.csv    0.002000"
      ]
     },
     "execution_count": 43,
     "metadata": {},
     "output_type": "execute_result"
    }
   ],
   "source": [
    "pd.DataFrame(imp.groupby('dataset')['importance'].sum().sort_values(ascending = False))"
   ]
  },
  {
   "cell_type": "code",
   "execution_count": 84,
   "metadata": {},
   "outputs": [],
   "source": [
    "predictions = best_pipeline.predict(X_test)\n",
    "predictions = predictions.to_series()"
   ]
  },
  {
   "cell_type": "code",
   "execution_count": 85,
   "metadata": {},
   "outputs": [
    {
     "name": "stdout",
     "output_type": "stream",
     "text": [
      "R2: 0.9906533836261187\n",
      "MSE: 0.9420516534433115\n",
      "RMSE: 0.9705934542553394\n",
      "MAE: 0.7876269589655882\n"
     ]
    }
   ],
   "source": [
    "print('R2: ' + str(r2_score(y_test,  predictions)))\n",
    "print('MSE: ' + str(mean_squared_error(y_test, predictions, squared = True)))\n",
    "print('RMSE: ' + str(mean_squared_error(y_test, predictions, squared = False)))\n",
    "print('MAE: ' + str(mean_absolute_error(y_test, predictions)))\n",
    "\n",
    "metrics = pd.DataFrame()\n",
    "\n",
    "metrics.at[0, 'R2'] = r2_score(y_test,  predictions)\n",
    "metrics.at[0, 'MSE'] = mean_squared_error(y_test, predictions, squared = True)\n",
    "metrics.at[0, 'RMSE'] = mean_squared_error(y_test, predictions, squared = False)\n",
    "metrics.at[0, 'MAE'] = mean_absolute_error(y_test, predictions)\n",
    "\n",
    "metrics.to_csv('prosperity_metrics.csv', index = False)"
   ]
  },
  {
   "cell_type": "code",
   "execution_count": 86,
   "metadata": {},
   "outputs": [
    {
     "data": {
      "text/html": [
       "<div>\n",
       "<style scoped>\n",
       "    .dataframe tbody tr th:only-of-type {\n",
       "        vertical-align: middle;\n",
       "    }\n",
       "\n",
       "    .dataframe tbody tr th {\n",
       "        vertical-align: top;\n",
       "    }\n",
       "\n",
       "    .dataframe thead th {\n",
       "        text-align: right;\n",
       "    }\n",
       "</style>\n",
       "<table border=\"1\" class=\"dataframe\">\n",
       "  <thead>\n",
       "    <tr style=\"text-align: right;\">\n",
       "      <th></th>\n",
       "      <th>country</th>\n",
       "      <th>isonum</th>\n",
       "      <th>isocode</th>\n",
       "      <th>year</th>\n",
       "      <th>qslnl</th>\n",
       "      <th>secvocp</th>\n",
       "      <th>teryrs</th>\n",
       "      <th>edqualsc</th>\n",
       "      <th>gbrata</th>\n",
       "      <th>secyrs</th>\n",
       "      <th>...</th>\n",
       "      <th>logis</th>\n",
       "      <th>bband</th>\n",
       "      <th>redu</th>\n",
       "      <th>hifi</th>\n",
       "      <th>affs</th>\n",
       "      <th>ippr</th>\n",
       "      <th>insdtf</th>\n",
       "      <th>creddtf</th>\n",
       "      <th>elcostlnl</th>\n",
       "      <th>stardtf</th>\n",
       "    </tr>\n",
       "  </thead>\n",
       "  <tbody>\n",
       "    <tr>\n",
       "      <th>1192</th>\n",
       "      <td>Afghanistan</td>\n",
       "      <td>4</td>\n",
       "      <td>AFG</td>\n",
       "      <td>2015</td>\n",
       "      <td>-7.178585</td>\n",
       "      <td>0.961258</td>\n",
       "      <td>0.210655</td>\n",
       "      <td>337.589355</td>\n",
       "      <td>0.341660</td>\n",
       "      <td>0.998107</td>\n",
       "      <td>...</td>\n",
       "      <td>2.069573</td>\n",
       "      <td>0.004795</td>\n",
       "      <td>26.472107</td>\n",
       "      <td>3.633919</td>\n",
       "      <td>3.852955</td>\n",
       "      <td>2.457773</td>\n",
       "      <td>23.62</td>\n",
       "      <td>45.0</td>\n",
       "      <td>8.151823</td>\n",
       "      <td>93.05</td>\n",
       "    </tr>\n",
       "    <tr>\n",
       "      <th>1193</th>\n",
       "      <td>Angola</td>\n",
       "      <td>24</td>\n",
       "      <td>AGO</td>\n",
       "      <td>2015</td>\n",
       "      <td>-7.178585</td>\n",
       "      <td>45.228603</td>\n",
       "      <td>0.099019</td>\n",
       "      <td>280.802673</td>\n",
       "      <td>0.360500</td>\n",
       "      <td>1.820329</td>\n",
       "      <td>...</td>\n",
       "      <td>2.542980</td>\n",
       "      <td>0.412784</td>\n",
       "      <td>31.007937</td>\n",
       "      <td>2.593719</td>\n",
       "      <td>3.236488</td>\n",
       "      <td>2.257915</td>\n",
       "      <td>0.00</td>\n",
       "      <td>5.0</td>\n",
       "      <td>6.421622</td>\n",
       "      <td>76.79</td>\n",
       "    </tr>\n",
       "    <tr>\n",
       "      <th>1194</th>\n",
       "      <td>Albania</td>\n",
       "      <td>8</td>\n",
       "      <td>ALB</td>\n",
       "      <td>2015</td>\n",
       "      <td>-7.178585</td>\n",
       "      <td>8.005317</td>\n",
       "      <td>0.050267</td>\n",
       "      <td>425.420013</td>\n",
       "      <td>0.056140</td>\n",
       "      <td>3.402170</td>\n",
       "      <td>...</td>\n",
       "      <td>2.770000</td>\n",
       "      <td>6.573716</td>\n",
       "      <td>20.825397</td>\n",
       "      <td>3.888581</td>\n",
       "      <td>3.737438</td>\n",
       "      <td>2.896221</td>\n",
       "      <td>63.42</td>\n",
       "      <td>65.0</td>\n",
       "      <td>6.197258</td>\n",
       "      <td>90.09</td>\n",
       "    </tr>\n",
       "    <tr>\n",
       "      <th>1195</th>\n",
       "      <td>United Arab Emirates</td>\n",
       "      <td>784</td>\n",
       "      <td>ARE</td>\n",
       "      <td>2015</td>\n",
       "      <td>-7.178585</td>\n",
       "      <td>1.820017</td>\n",
       "      <td>0.458515</td>\n",
       "      <td>480.829529</td>\n",
       "      <td>0.034651</td>\n",
       "      <td>3.531861</td>\n",
       "      <td>...</td>\n",
       "      <td>3.539098</td>\n",
       "      <td>11.558400</td>\n",
       "      <td>4.285714</td>\n",
       "      <td>5.053419</td>\n",
       "      <td>5.424749</td>\n",
       "      <td>5.475348</td>\n",
       "      <td>43.74</td>\n",
       "      <td>45.0</td>\n",
       "      <td>3.157000</td>\n",
       "      <td>89.98</td>\n",
       "    </tr>\n",
       "    <tr>\n",
       "      <th>1196</th>\n",
       "      <td>Argentina</td>\n",
       "      <td>32</td>\n",
       "      <td>ARG</td>\n",
       "      <td>2015</td>\n",
       "      <td>-3.770851</td>\n",
       "      <td>13.699941</td>\n",
       "      <td>0.280885</td>\n",
       "      <td>421.549591</td>\n",
       "      <td>0.030080</td>\n",
       "      <td>2.664423</td>\n",
       "      <td>...</td>\n",
       "      <td>2.986475</td>\n",
       "      <td>15.573113</td>\n",
       "      <td>30.333333</td>\n",
       "      <td>2.583314</td>\n",
       "      <td>2.923875</td>\n",
       "      <td>2.424609</td>\n",
       "      <td>42.87</td>\n",
       "      <td>50.0</td>\n",
       "      <td>3.214868</td>\n",
       "      <td>73.36</td>\n",
       "    </tr>\n",
       "  </tbody>\n",
       "</table>\n",
       "<p>5 rows × 78 columns</p>\n",
       "</div>"
      ],
      "text/plain": [
       "                   country  isonum isocode  year     qslnl    secvocp  \\\n",
       "1192           Afghanistan       4     AFG  2015 -7.178585   0.961258   \n",
       "1193                Angola      24     AGO  2015 -7.178585  45.228603   \n",
       "1194               Albania       8     ALB  2015 -7.178585   8.005317   \n",
       "1195  United Arab Emirates     784     ARE  2015 -7.178585   1.820017   \n",
       "1196             Argentina      32     ARG  2015 -3.770851  13.699941   \n",
       "\n",
       "        teryrs    edqualsc    gbrata    secyrs  ...     logis      bband  \\\n",
       "1192  0.210655  337.589355  0.341660  0.998107  ...  2.069573   0.004795   \n",
       "1193  0.099019  280.802673  0.360500  1.820329  ...  2.542980   0.412784   \n",
       "1194  0.050267  425.420013  0.056140  3.402170  ...  2.770000   6.573716   \n",
       "1195  0.458515  480.829529  0.034651  3.531861  ...  3.539098  11.558400   \n",
       "1196  0.280885  421.549591  0.030080  2.664423  ...  2.986475  15.573113   \n",
       "\n",
       "           redu      hifi      affs      ippr  insdtf  creddtf  elcostlnl  \\\n",
       "1192  26.472107  3.633919  3.852955  2.457773   23.62     45.0   8.151823   \n",
       "1193  31.007937  2.593719  3.236488  2.257915    0.00      5.0   6.421622   \n",
       "1194  20.825397  3.888581  3.737438  2.896221   63.42     65.0   6.197258   \n",
       "1195   4.285714  5.053419  5.424749  5.475348   43.74     45.0   3.157000   \n",
       "1196  30.333333  2.583314  2.923875  2.424609   42.87     50.0   3.214868   \n",
       "\n",
       "      stardtf  \n",
       "1192    93.05  \n",
       "1193    76.79  \n",
       "1194    90.09  \n",
       "1195    89.98  \n",
       "1196    73.36  \n",
       "\n",
       "[5 rows x 78 columns]"
      ]
     },
     "execution_count": 86,
     "metadata": {},
     "output_type": "execute_result"
    }
   ],
   "source": [
    "test = pd.read_csv('test.csv', index_col = 0)\n",
    "test.head()"
   ]
  },
  {
   "cell_type": "code",
   "execution_count": 87,
   "metadata": {},
   "outputs": [],
   "source": [
    "drop = ['year']\n",
    "df = test.copy()\n",
    "df = df.drop(drop, axis = 1)\n",
    "\n",
    "df = remove_low_information_features(df)\n",
    "\n",
    "df = remove_highly_null_features(df)\n",
    "\n",
    "df = remove_single_value_features(df)\n",
    "\n",
    "df = remove_highly_correlated_features(df)\n",
    "\n",
    "X = df"
   ]
  },
  {
   "cell_type": "code",
   "execution_count": 88,
   "metadata": {},
   "outputs": [
    {
     "data": {
      "text/html": [
       "<div>\n",
       "<style scoped>\n",
       "    .dataframe tbody tr th:only-of-type {\n",
       "        vertical-align: middle;\n",
       "    }\n",
       "\n",
       "    .dataframe tbody tr th {\n",
       "        vertical-align: top;\n",
       "    }\n",
       "\n",
       "    .dataframe thead th {\n",
       "        text-align: right;\n",
       "    }\n",
       "</style>\n",
       "<table border=\"1\" class=\"dataframe\">\n",
       "  <thead>\n",
       "    <tr style=\"text-align: right;\">\n",
       "      <th></th>\n",
       "      <th>prosperity</th>\n",
       "    </tr>\n",
       "  </thead>\n",
       "  <tbody>\n",
       "    <tr>\n",
       "      <th>0</th>\n",
       "      <td>382.478457</td>\n",
       "    </tr>\n",
       "    <tr>\n",
       "      <th>1</th>\n",
       "      <td>320.412058</td>\n",
       "    </tr>\n",
       "    <tr>\n",
       "      <th>2</th>\n",
       "      <td>265.937746</td>\n",
       "    </tr>\n",
       "    <tr>\n",
       "      <th>3</th>\n",
       "      <td>284.269793</td>\n",
       "    </tr>\n",
       "    <tr>\n",
       "      <th>4</th>\n",
       "      <td>345.357981</td>\n",
       "    </tr>\n",
       "  </tbody>\n",
       "</table>\n",
       "</div>"
      ],
      "text/plain": [
       "   prosperity\n",
       "0  382.478457\n",
       "1  320.412058\n",
       "2  265.937746\n",
       "3  284.269793\n",
       "4  345.357981"
      ]
     },
     "execution_count": 88,
     "metadata": {},
     "output_type": "execute_result"
    }
   ],
   "source": [
    "predictions = best_pipeline.predict(X)\n",
    "\n",
    "predictions = predictions.to_series()\n",
    "\n",
    "result = pd.DataFrame()\n",
    "\n",
    "result['prosperity'] = predictions\n",
    "\n",
    "result.head()"
   ]
  },
  {
   "cell_type": "code",
   "execution_count": 89,
   "metadata": {},
   "outputs": [
    {
     "data": {
      "text/html": [
       "<div>\n",
       "<style scoped>\n",
       "    .dataframe tbody tr th:only-of-type {\n",
       "        vertical-align: middle;\n",
       "    }\n",
       "\n",
       "    .dataframe tbody tr th {\n",
       "        vertical-align: top;\n",
       "    }\n",
       "\n",
       "    .dataframe thead th {\n",
       "        text-align: right;\n",
       "    }\n",
       "</style>\n",
       "<table border=\"1\" class=\"dataframe\">\n",
       "  <thead>\n",
       "    <tr style=\"text-align: right;\">\n",
       "      <th></th>\n",
       "      <th>country</th>\n",
       "      <th>year</th>\n",
       "      <th>prosperity</th>\n",
       "      <th>rank_prosperity</th>\n",
       "    </tr>\n",
       "  </thead>\n",
       "  <tbody>\n",
       "    <tr>\n",
       "      <th>26</th>\n",
       "      <td>Ivory Coast</td>\n",
       "      <td>2015</td>\n",
       "      <td>320.869570</td>\n",
       "      <td>90</td>\n",
       "    </tr>\n",
       "    <tr>\n",
       "      <th>49</th>\n",
       "      <td>Georgia</td>\n",
       "      <td>2015</td>\n",
       "      <td>364.766887</td>\n",
       "      <td>64</td>\n",
       "    </tr>\n",
       "    <tr>\n",
       "      <th>131</th>\n",
       "      <td>Chad</td>\n",
       "      <td>2015</td>\n",
       "      <td>438.937422</td>\n",
       "      <td>15</td>\n",
       "    </tr>\n",
       "    <tr>\n",
       "      <th>132</th>\n",
       "      <td>Togo</td>\n",
       "      <td>2015</td>\n",
       "      <td>374.192911</td>\n",
       "      <td>56</td>\n",
       "    </tr>\n",
       "    <tr>\n",
       "      <th>148</th>\n",
       "      <td>Zimbabwe</td>\n",
       "      <td>2015</td>\n",
       "      <td>383.577395</td>\n",
       "      <td>48</td>\n",
       "    </tr>\n",
       "  </tbody>\n",
       "</table>\n",
       "</div>"
      ],
      "text/plain": [
       "         country  year  prosperity  rank_prosperity\n",
       "26   Ivory Coast  2015  320.869570               90\n",
       "49       Georgia  2015  364.766887               64\n",
       "131         Chad  2015  438.937422               15\n",
       "132         Togo  2015  374.192911               56\n",
       "148     Zimbabwe  2015  383.577395               48"
      ]
     },
     "execution_count": 89,
     "metadata": {},
     "output_type": "execute_result"
    }
   ],
   "source": [
    "df = pd.read_csv('test.csv')\n",
    "temp = df[['country', 'year']]\n",
    "\n",
    "result = pd.merge(left = temp, right = result, how=\"left\", on=[temp.index, result.index])\n",
    "result = result.drop(['key_0', 'key_1'], axis = 1)\n",
    "\n",
    "result['rank_prosperity'] = result.groupby(\"year\")[\"prosperity\"].rank(\"dense\", ascending=False)\n",
    "result['rank_prosperity'] = result['rank_prosperity'].astype('int')\n",
    "\n",
    "result = result[result['country'].isin(['Chad', 'Togo', 'Zimbabwe', 'Ivory Coast', 'Georgia'])]\n",
    "\n",
    "result.head()"
   ]
  },
  {
   "cell_type": "code",
   "execution_count": 90,
   "metadata": {},
   "outputs": [],
   "source": [
    "result.to_csv('prosperity_predictions.csv', index=False)"
   ]
  }
 ],
 "metadata": {
  "kernelspec": {
   "display_name": "Python 3",
   "language": "python",
   "name": "python3"
  },
  "language_info": {
   "codemirror_mode": {
    "name": "ipython",
    "version": 3
   },
   "file_extension": ".py",
   "mimetype": "text/x-python",
   "name": "python",
   "nbconvert_exporter": "python",
   "pygments_lexer": "ipython3",
   "version": "3.8.5"
  }
 },
 "nbformat": 4,
 "nbformat_minor": 5
}
