{
 "cells": [
  {
   "cell_type": "code",
   "execution_count": 25,
   "metadata": {},
   "outputs": [],
   "source": [
    "import pandas as pd\n",
    "import evalml\n",
    "import woodwork as ww\n",
    "from sklearn.model_selection import train_test_split\n",
    "from sklearn.metrics import r2_score\n",
    "from sklearn.metrics import mean_squared_error\n",
    "from sklearn.metrics import mean_absolute_error\n",
    "from featuretools.selection import remove_low_information_features, remove_highly_null_features, remove_single_value_features, remove_highly_correlated_features"
   ]
  },
  {
   "cell_type": "code",
   "execution_count": 26,
   "metadata": {},
   "outputs": [
    {
     "data": {
      "text/html": [
       "<div>\n",
       "<style scoped>\n",
       "    .dataframe tbody tr th:only-of-type {\n",
       "        vertical-align: middle;\n",
       "    }\n",
       "\n",
       "    .dataframe tbody tr th {\n",
       "        vertical-align: top;\n",
       "    }\n",
       "\n",
       "    .dataframe thead th {\n",
       "        text-align: right;\n",
       "    }\n",
       "</style>\n",
       "<table border=\"1\" class=\"dataframe\">\n",
       "  <thead>\n",
       "    <tr style=\"text-align: right;\">\n",
       "      <th></th>\n",
       "      <th>country</th>\n",
       "      <th>isonum</th>\n",
       "      <th>isocode</th>\n",
       "      <th>year</th>\n",
       "      <th>rank_educ</th>\n",
       "      <th>educ</th>\n",
       "      <th>qslnl</th>\n",
       "      <th>secvocp</th>\n",
       "      <th>teryrs</th>\n",
       "      <th>edqualsc</th>\n",
       "      <th>...</th>\n",
       "      <th>envi</th>\n",
       "      <th>fwateruse</th>\n",
       "      <th>airpollution</th>\n",
       "      <th>wasterwater</th>\n",
       "      <th>fishstock</th>\n",
       "      <th>marineprotect</th>\n",
       "      <th>improved_drinkwater</th>\n",
       "      <th>pestreg</th>\n",
       "      <th>terrestprotect</th>\n",
       "      <th>prosperity_score</th>\n",
       "    </tr>\n",
       "  </thead>\n",
       "  <tbody>\n",
       "    <tr>\n",
       "      <th>0</th>\n",
       "      <td>Afghanistan</td>\n",
       "      <td>4</td>\n",
       "      <td>AFG</td>\n",
       "      <td>2007</td>\n",
       "      <td>143</td>\n",
       "      <td>22.494400</td>\n",
       "      <td>-7.178585</td>\n",
       "      <td>0.714436</td>\n",
       "      <td>0.207426</td>\n",
       "      <td>337.589355</td>\n",
       "      <td>...</td>\n",
       "      <td>39.293343</td>\n",
       "      <td>43.011665</td>\n",
       "      <td>0.1400</td>\n",
       "      <td>0.000000</td>\n",
       "      <td>35.323078</td>\n",
       "      <td>13.537368</td>\n",
       "      <td>42.6</td>\n",
       "      <td>0</td>\n",
       "      <td>0.366882</td>\n",
       "      <td>37.658975</td>\n",
       "    </tr>\n",
       "    <tr>\n",
       "      <th>1</th>\n",
       "      <td>Angola</td>\n",
       "      <td>24</td>\n",
       "      <td>AGO</td>\n",
       "      <td>2007</td>\n",
       "      <td>125</td>\n",
       "      <td>35.916668</td>\n",
       "      <td>-7.178585</td>\n",
       "      <td>39.072861</td>\n",
       "      <td>0.099019</td>\n",
       "      <td>280.802673</td>\n",
       "      <td>...</td>\n",
       "      <td>47.982162</td>\n",
       "      <td>0.476892</td>\n",
       "      <td>0.0250</td>\n",
       "      <td>0.000000</td>\n",
       "      <td>4.500000</td>\n",
       "      <td>0.066623</td>\n",
       "      <td>46.4</td>\n",
       "      <td>3</td>\n",
       "      <td>12.399823</td>\n",
       "      <td>43.880780</td>\n",
       "    </tr>\n",
       "    <tr>\n",
       "      <th>2</th>\n",
       "      <td>Albania</td>\n",
       "      <td>8</td>\n",
       "      <td>ALB</td>\n",
       "      <td>2007</td>\n",
       "      <td>72</td>\n",
       "      <td>56.318413</td>\n",
       "      <td>-7.178585</td>\n",
       "      <td>7.345947</td>\n",
       "      <td>0.127648</td>\n",
       "      <td>425.420013</td>\n",
       "      <td>...</td>\n",
       "      <td>51.049442</td>\n",
       "      <td>4.873606</td>\n",
       "      <td>0.2750</td>\n",
       "      <td>5.136225</td>\n",
       "      <td>37.099178</td>\n",
       "      <td>1.624084</td>\n",
       "      <td>95.9</td>\n",
       "      <td>5</td>\n",
       "      <td>9.804400</td>\n",
       "      <td>54.893284</td>\n",
       "    </tr>\n",
       "    <tr>\n",
       "      <th>3</th>\n",
       "      <td>United Arab Emirates</td>\n",
       "      <td>784</td>\n",
       "      <td>ARE</td>\n",
       "      <td>2007</td>\n",
       "      <td>52</td>\n",
       "      <td>59.942955</td>\n",
       "      <td>-7.178585</td>\n",
       "      <td>0.494192</td>\n",
       "      <td>0.488107</td>\n",
       "      <td>480.829529</td>\n",
       "      <td>...</td>\n",
       "      <td>62.051479</td>\n",
       "      <td>100.000000</td>\n",
       "      <td>0.1975</td>\n",
       "      <td>61.308900</td>\n",
       "      <td>30.838837</td>\n",
       "      <td>2.571971</td>\n",
       "      <td>99.6</td>\n",
       "      <td>23</td>\n",
       "      <td>5.616998</td>\n",
       "      <td>61.111192</td>\n",
       "    </tr>\n",
       "    <tr>\n",
       "      <th>4</th>\n",
       "      <td>Argentina</td>\n",
       "      <td>32</td>\n",
       "      <td>ARG</td>\n",
       "      <td>2007</td>\n",
       "      <td>92</td>\n",
       "      <td>51.995552</td>\n",
       "      <td>-7.178585</td>\n",
       "      <td>6.997118</td>\n",
       "      <td>0.265608</td>\n",
       "      <td>421.549591</td>\n",
       "      <td>...</td>\n",
       "      <td>64.909729</td>\n",
       "      <td>12.938356</td>\n",
       "      <td>0.0050</td>\n",
       "      <td>18.062500</td>\n",
       "      <td>12.280000</td>\n",
       "      <td>1.103726</td>\n",
       "      <td>97.7</td>\n",
       "      <td>23</td>\n",
       "      <td>5.466403</td>\n",
       "      <td>58.557573</td>\n",
       "    </tr>\n",
       "  </tbody>\n",
       "</table>\n",
       "<p>5 rows × 97 columns</p>\n",
       "</div>"
      ],
      "text/plain": [
       "                country  isonum isocode  year  rank_educ       educ     qslnl  \\\n",
       "0           Afghanistan       4     AFG  2007        143  22.494400 -7.178585   \n",
       "1                Angola      24     AGO  2007        125  35.916668 -7.178585   \n",
       "2               Albania       8     ALB  2007         72  56.318413 -7.178585   \n",
       "3  United Arab Emirates     784     ARE  2007         52  59.942955 -7.178585   \n",
       "4             Argentina      32     ARG  2007         92  51.995552 -7.178585   \n",
       "\n",
       "     secvocp    teryrs    edqualsc  ...       envi   fwateruse  airpollution  \\\n",
       "0   0.714436  0.207426  337.589355  ...  39.293343   43.011665        0.1400   \n",
       "1  39.072861  0.099019  280.802673  ...  47.982162    0.476892        0.0250   \n",
       "2   7.345947  0.127648  425.420013  ...  51.049442    4.873606        0.2750   \n",
       "3   0.494192  0.488107  480.829529  ...  62.051479  100.000000        0.1975   \n",
       "4   6.997118  0.265608  421.549591  ...  64.909729   12.938356        0.0050   \n",
       "\n",
       "   wasterwater  fishstock  marineprotect  improved_drinkwater  pestreg  \\\n",
       "0     0.000000  35.323078      13.537368                 42.6        0   \n",
       "1     0.000000   4.500000       0.066623                 46.4        3   \n",
       "2     5.136225  37.099178       1.624084                 95.9        5   \n",
       "3    61.308900  30.838837       2.571971                 99.6       23   \n",
       "4    18.062500  12.280000       1.103726                 97.7       23   \n",
       "\n",
       "   terrestprotect  prosperity_score  \n",
       "0        0.366882         37.658975  \n",
       "1       12.399823         43.880780  \n",
       "2        9.804400         54.893284  \n",
       "3        5.616998         61.111192  \n",
       "4        5.466403         58.557573  \n",
       "\n",
       "[5 rows x 97 columns]"
      ]
     },
     "execution_count": 26,
     "metadata": {},
     "output_type": "execute_result"
    }
   ],
   "source": [
    "df = pd.read_csv('merged.csv')\n",
    "df = df.drop(['Unnamed: 0'], axis = 1)\n",
    "df.head()"
   ]
  },
  {
   "cell_type": "code",
   "execution_count": 27,
   "metadata": {},
   "outputs": [],
   "source": [
    "metrics = ['educ', 'soci', 'heal', 'pers', 'busi', 'econ', 'safe', 'gove', 'envi']\n",
    "ranks = ['rank_' + metric for metric in metrics]\n",
    "drop = metrics + ranks + ['country', 'isonum', 'isocode', 'year', 'prosperity_score']"
   ]
  },
  {
   "cell_type": "code",
   "execution_count": 28,
   "metadata": {},
   "outputs": [],
   "source": [
    "y = df['prosperity_score']\n",
    "\n",
    "df = df.drop(drop, axis = 1)\n",
    "\n",
    "df = remove_low_information_features(df)\n",
    "\n",
    "df = remove_highly_null_features(df)\n",
    "\n",
    "df = remove_single_value_features(df)\n",
    "\n",
    "df = remove_highly_correlated_features(df)\n",
    "\n",
    "X = df"
   ]
  },
  {
   "cell_type": "code",
   "execution_count": 29,
   "metadata": {},
   "outputs": [
    {
     "data": {
      "text/html": [
       "<div>\n",
       "<style scoped>\n",
       "    .dataframe tbody tr th:only-of-type {\n",
       "        vertical-align: middle;\n",
       "    }\n",
       "\n",
       "    .dataframe tbody tr th {\n",
       "        vertical-align: top;\n",
       "    }\n",
       "\n",
       "    .dataframe thead th {\n",
       "        text-align: right;\n",
       "    }\n",
       "</style>\n",
       "<table border=\"1\" class=\"dataframe\">\n",
       "  <thead>\n",
       "    <tr style=\"text-align: right;\">\n",
       "      <th></th>\n",
       "      <th>percent_missing</th>\n",
       "    </tr>\n",
       "  </thead>\n",
       "  <tbody>\n",
       "    <tr>\n",
       "      <th>qslnl</th>\n",
       "      <td>0.0</td>\n",
       "    </tr>\n",
       "    <tr>\n",
       "      <th>secvocp</th>\n",
       "      <td>0.0</td>\n",
       "    </tr>\n",
       "    <tr>\n",
       "      <th>teryrs</th>\n",
       "      <td>0.0</td>\n",
       "    </tr>\n",
       "    <tr>\n",
       "      <th>edqualsc</th>\n",
       "      <td>0.0</td>\n",
       "    </tr>\n",
       "    <tr>\n",
       "      <th>gbrata</th>\n",
       "      <td>0.0</td>\n",
       "    </tr>\n",
       "    <tr>\n",
       "      <th>...</th>\n",
       "      <td>...</td>\n",
       "    </tr>\n",
       "    <tr>\n",
       "      <th>fishstock</th>\n",
       "      <td>0.0</td>\n",
       "    </tr>\n",
       "    <tr>\n",
       "      <th>marineprotect</th>\n",
       "      <td>0.0</td>\n",
       "    </tr>\n",
       "    <tr>\n",
       "      <th>improved_drinkwater</th>\n",
       "      <td>0.0</td>\n",
       "    </tr>\n",
       "    <tr>\n",
       "      <th>pestreg</th>\n",
       "      <td>0.0</td>\n",
       "    </tr>\n",
       "    <tr>\n",
       "      <th>terrestprotect</th>\n",
       "      <td>0.0</td>\n",
       "    </tr>\n",
       "  </tbody>\n",
       "</table>\n",
       "<p>73 rows × 1 columns</p>\n",
       "</div>"
      ],
      "text/plain": [
       "                     percent_missing\n",
       "qslnl                            0.0\n",
       "secvocp                          0.0\n",
       "teryrs                           0.0\n",
       "edqualsc                         0.0\n",
       "gbrata                           0.0\n",
       "...                              ...\n",
       "fishstock                        0.0\n",
       "marineprotect                    0.0\n",
       "improved_drinkwater              0.0\n",
       "pestreg                          0.0\n",
       "terrestprotect                   0.0\n",
       "\n",
       "[73 rows x 1 columns]"
      ]
     },
     "execution_count": 29,
     "metadata": {},
     "output_type": "execute_result"
    }
   ],
   "source": [
    "percent_missing = df.isnull().sum() * 100 / len(df)\n",
    "missing_value_df = pd.DataFrame({'percent_missing': percent_missing})\n",
    "missing_value_df"
   ]
  },
  {
   "cell_type": "code",
   "execution_count": 30,
   "metadata": {},
   "outputs": [
    {
     "name": "stdout",
     "output_type": "stream",
     "text": [
      "Using default limit of max_batches=1.\n",
      "\n",
      "Generating pipelines to search over...\n"
     ]
    }
   ],
   "source": [
    "problem_type = 'regression'\n",
    "objective =  'auto'\n",
    "\n",
    "X_train, X_test, y_train, y_test = train_test_split(X, y, test_size=0.25, random_state=42)\n",
    "\n",
    "\n",
    "automl = evalml.automl.AutoMLSearch(X_train, y_train, problem_type=problem_type, objective = objective)"
   ]
  },
  {
   "cell_type": "code",
   "execution_count": 31,
   "metadata": {},
   "outputs": [
    {
     "name": "stdout",
     "output_type": "stream",
     "text": [
      "*****************************\n",
      "* Beginning pipeline search *\n",
      "*****************************\n",
      "\n",
      "Optimizing for R2. \n",
      "Greater score is better.\n",
      "\n",
      "Using SequentialEngine to train and score pipelines.\n",
      "Searching up to 1 batches for a total of 9 pipelines. \n",
      "Allowed model families: lightgbm, decision_tree, linear_model, extra_trees, xgboost, random_forest, catboost\n",
      "\n"
     ]
    },
    {
     "data": {
      "application/vnd.jupyter.widget-view+json": {
       "model_id": "e4e5ad145e044111be448be7021f62eb",
       "version_major": 2,
       "version_minor": 0
      },
      "text/plain": [
       "FigureWidget({\n",
       "    'data': [{'mode': 'lines+markers',\n",
       "              'name': 'Best Score',\n",
       "              'type'…"
      ]
     },
     "metadata": {},
     "output_type": "display_data"
    },
    {
     "name": "stdout",
     "output_type": "stream",
     "text": [
      "Batch 1: (1/9) Mean Baseline Regression Pipeline        Elapsed:00:00\n",
      "\tStarting cross validation\n",
      "\tFinished cross validation - mean R2: -0.006\n",
      "High coefficient of variation (cv >= 0.2) within cross validation scores. Mean Baseline Regression Pipeline may not perform as estimated on unseen data.\n",
      "Batch 1: (2/9) Decision Tree Regressor w/ Imputer       Elapsed:00:00\n",
      "\tStarting cross validation\n",
      "\tFinished cross validation - mean R2: 0.961\n",
      "Batch 1: (3/9) Extra Trees Regressor w/ Imputer         Elapsed:00:01\n",
      "\tStarting cross validation\n",
      "\tFinished cross validation - mean R2: 0.985\n",
      "Batch 1: (4/9) XGBoost Regressor w/ Imputer             Elapsed:00:02\n",
      "\tStarting cross validation\n",
      "\tFinished cross validation - mean R2: 0.989\n",
      "Batch 1: (5/9) CatBoost Regressor w/ Imputer            Elapsed:00:04\n",
      "\tStarting cross validation\n",
      "\tFinished cross validation - mean R2: 0.357\n",
      "Batch 1: (6/9) Random Forest Regressor w/ Imputer       Elapsed:00:05\n",
      "\tStarting cross validation\n",
      "\tFinished cross validation - mean R2: 0.981\n",
      "Batch 1: (7/9) LightGBM Regressor w/ Imputer            Elapsed:00:07\n",
      "\tStarting cross validation\n",
      "\tFinished cross validation - mean R2: 0.966\n",
      "Batch 1: (8/9) Linear Regressor w/ Imputer + Standar... Elapsed:00:09\n",
      "\tStarting cross validation\n",
      "\tFinished cross validation - mean R2: 0.989\n",
      "Batch 1: (9/9) Elastic Net Regressor w/ Imputer + St... Elapsed:00:10\n",
      "\tStarting cross validation\n",
      "\tFinished cross validation - mean R2: 0.979\n",
      "\n",
      "Search finished after 00:12            \n",
      "Best pipeline: XGBoost Regressor w/ Imputer\n",
      "Best pipeline R2: 0.989309\n"
     ]
    }
   ],
   "source": [
    "automl.search()"
   ]
  },
  {
   "cell_type": "code",
   "execution_count": 32,
   "metadata": {},
   "outputs": [
    {
     "data": {
      "text/html": [
       "<div>\n",
       "<style scoped>\n",
       "    .dataframe tbody tr th:only-of-type {\n",
       "        vertical-align: middle;\n",
       "    }\n",
       "\n",
       "    .dataframe tbody tr th {\n",
       "        vertical-align: top;\n",
       "    }\n",
       "\n",
       "    .dataframe thead th {\n",
       "        text-align: right;\n",
       "    }\n",
       "</style>\n",
       "<table border=\"1\" class=\"dataframe\">\n",
       "  <thead>\n",
       "    <tr style=\"text-align: right;\">\n",
       "      <th></th>\n",
       "      <th>id</th>\n",
       "      <th>pipeline_name</th>\n",
       "      <th>score</th>\n",
       "      <th>validation_score</th>\n",
       "      <th>percent_better_than_baseline</th>\n",
       "      <th>high_variance_cv</th>\n",
       "      <th>parameters</th>\n",
       "    </tr>\n",
       "  </thead>\n",
       "  <tbody>\n",
       "    <tr>\n",
       "      <th>0</th>\n",
       "      <td>3</td>\n",
       "      <td>XGBoost Regressor w/ Imputer</td>\n",
       "      <td>0.989309</td>\n",
       "      <td>0.989416</td>\n",
       "      <td>17381.109246</td>\n",
       "      <td>False</td>\n",
       "      <td>{'Imputer': {'categorical_impute_strategy': 'm...</td>\n",
       "    </tr>\n",
       "    <tr>\n",
       "      <th>1</th>\n",
       "      <td>7</td>\n",
       "      <td>Linear Regressor w/ Imputer + Standard Scaler</td>\n",
       "      <td>0.988505</td>\n",
       "      <td>0.989251</td>\n",
       "      <td>17367.073382</td>\n",
       "      <td>False</td>\n",
       "      <td>{'Imputer': {'categorical_impute_strategy': 'm...</td>\n",
       "    </tr>\n",
       "    <tr>\n",
       "      <th>2</th>\n",
       "      <td>2</td>\n",
       "      <td>Extra Trees Regressor w/ Imputer</td>\n",
       "      <td>0.984707</td>\n",
       "      <td>0.985163</td>\n",
       "      <td>17300.733533</td>\n",
       "      <td>False</td>\n",
       "      <td>{'Imputer': {'categorical_impute_strategy': 'm...</td>\n",
       "    </tr>\n",
       "    <tr>\n",
       "      <th>3</th>\n",
       "      <td>5</td>\n",
       "      <td>Random Forest Regressor w/ Imputer</td>\n",
       "      <td>0.981097</td>\n",
       "      <td>0.978775</td>\n",
       "      <td>17237.668732</td>\n",
       "      <td>False</td>\n",
       "      <td>{'Imputer': {'categorical_impute_strategy': 'm...</td>\n",
       "    </tr>\n",
       "    <tr>\n",
       "      <th>4</th>\n",
       "      <td>8</td>\n",
       "      <td>Elastic Net Regressor w/ Imputer + Standard Sc...</td>\n",
       "      <td>0.978784</td>\n",
       "      <td>0.979574</td>\n",
       "      <td>17197.263879</td>\n",
       "      <td>False</td>\n",
       "      <td>{'Imputer': {'categorical_impute_strategy': 'm...</td>\n",
       "    </tr>\n",
       "    <tr>\n",
       "      <th>5</th>\n",
       "      <td>6</td>\n",
       "      <td>LightGBM Regressor w/ Imputer</td>\n",
       "      <td>0.966005</td>\n",
       "      <td>0.964431</td>\n",
       "      <td>16974.041064</td>\n",
       "      <td>False</td>\n",
       "      <td>{'Imputer': {'categorical_impute_strategy': 'm...</td>\n",
       "    </tr>\n",
       "    <tr>\n",
       "      <th>6</th>\n",
       "      <td>1</td>\n",
       "      <td>Decision Tree Regressor w/ Imputer</td>\n",
       "      <td>0.961178</td>\n",
       "      <td>0.952967</td>\n",
       "      <td>16889.720092</td>\n",
       "      <td>False</td>\n",
       "      <td>{'Imputer': {'categorical_impute_strategy': 'm...</td>\n",
       "    </tr>\n",
       "    <tr>\n",
       "      <th>7</th>\n",
       "      <td>4</td>\n",
       "      <td>CatBoost Regressor w/ Imputer</td>\n",
       "      <td>0.357044</td>\n",
       "      <td>0.345445</td>\n",
       "      <td>6336.787042</td>\n",
       "      <td>False</td>\n",
       "      <td>{'Imputer': {'categorical_impute_strategy': 'm...</td>\n",
       "    </tr>\n",
       "    <tr>\n",
       "      <th>8</th>\n",
       "      <td>0</td>\n",
       "      <td>Mean Baseline Regression Pipeline</td>\n",
       "      <td>-0.005725</td>\n",
       "      <td>-0.010274</td>\n",
       "      <td>0.000000</td>\n",
       "      <td>True</td>\n",
       "      <td>{'Baseline Regressor': {'strategy': 'mean'}}</td>\n",
       "    </tr>\n",
       "  </tbody>\n",
       "</table>\n",
       "</div>"
      ],
      "text/plain": [
       "   id                                      pipeline_name     score  \\\n",
       "0   3                       XGBoost Regressor w/ Imputer  0.989309   \n",
       "1   7      Linear Regressor w/ Imputer + Standard Scaler  0.988505   \n",
       "2   2                   Extra Trees Regressor w/ Imputer  0.984707   \n",
       "3   5                 Random Forest Regressor w/ Imputer  0.981097   \n",
       "4   8  Elastic Net Regressor w/ Imputer + Standard Sc...  0.978784   \n",
       "5   6                      LightGBM Regressor w/ Imputer  0.966005   \n",
       "6   1                 Decision Tree Regressor w/ Imputer  0.961178   \n",
       "7   4                      CatBoost Regressor w/ Imputer  0.357044   \n",
       "8   0                  Mean Baseline Regression Pipeline -0.005725   \n",
       "\n",
       "   validation_score  percent_better_than_baseline  high_variance_cv  \\\n",
       "0          0.989416                  17381.109246             False   \n",
       "1          0.989251                  17367.073382             False   \n",
       "2          0.985163                  17300.733533             False   \n",
       "3          0.978775                  17237.668732             False   \n",
       "4          0.979574                  17197.263879             False   \n",
       "5          0.964431                  16974.041064             False   \n",
       "6          0.952967                  16889.720092             False   \n",
       "7          0.345445                   6336.787042             False   \n",
       "8         -0.010274                      0.000000              True   \n",
       "\n",
       "                                          parameters  \n",
       "0  {'Imputer': {'categorical_impute_strategy': 'm...  \n",
       "1  {'Imputer': {'categorical_impute_strategy': 'm...  \n",
       "2  {'Imputer': {'categorical_impute_strategy': 'm...  \n",
       "3  {'Imputer': {'categorical_impute_strategy': 'm...  \n",
       "4  {'Imputer': {'categorical_impute_strategy': 'm...  \n",
       "5  {'Imputer': {'categorical_impute_strategy': 'm...  \n",
       "6  {'Imputer': {'categorical_impute_strategy': 'm...  \n",
       "7  {'Imputer': {'categorical_impute_strategy': 'm...  \n",
       "8       {'Baseline Regressor': {'strategy': 'mean'}}  "
      ]
     },
     "execution_count": 32,
     "metadata": {},
     "output_type": "execute_result"
    }
   ],
   "source": [
    "automl.rankings"
   ]
  },
  {
   "cell_type": "code",
   "execution_count": 33,
   "metadata": {},
   "outputs": [],
   "source": [
    "best_pipeline = automl.best_pipeline\n",
    "imp = best_pipeline.feature_importance\n",
    "best_pipeline.save('prosperity_best_pipeline')"
   ]
  },
  {
   "cell_type": "code",
   "execution_count": 34,
   "metadata": {},
   "outputs": [],
   "source": [
    "best_pipeline = automl.load('prosperity_best_pipeline')"
   ]
  },
  {
   "cell_type": "code",
   "execution_count": 35,
   "metadata": {},
   "outputs": [
    {
     "data": {
      "image/svg+xml": [
       "<?xml version=\"1.0\" encoding=\"UTF-8\" standalone=\"no\"?>\r\n",
       "<!DOCTYPE svg PUBLIC \"-//W3C//DTD SVG 1.1//EN\"\r\n",
       " \"http://www.w3.org/Graphics/SVG/1.1/DTD/svg11.dtd\">\r\n",
       "<!-- Generated by graphviz version 2.38.0 (20140413.2041)\r\n",
       " -->\r\n",
       "<!-- Title: %3 Pages: 1 -->\r\n",
       "<svg width=\"440pt\" height=\"100pt\"\r\n",
       " viewBox=\"0.00 0.00 440.00 100.00\" xmlns=\"http://www.w3.org/2000/svg\" xmlns:xlink=\"http://www.w3.org/1999/xlink\">\r\n",
       "<g id=\"graph0\" class=\"graph\" transform=\"scale(1 1) rotate(0) translate(4 96)\">\r\n",
       "<title>%3</title>\r\n",
       "<polygon fill=\"white\" stroke=\"none\" points=\"-4,4 -4,-96 436,-96 436,4 -4,4\"/>\r\n",
       "<!-- Imputer -->\r\n",
       "<g id=\"node1\" class=\"node\"><title>Imputer</title>\r\n",
       "<polygon fill=\"none\" stroke=\"black\" points=\"0,-0.5 0,-91.5 264,-91.5 264,-0.5 0,-0.5\"/>\r\n",
       "<text text-anchor=\"middle\" x=\"132\" y=\"-76.3\" font-family=\"Times New Roman,serif\" font-size=\"14.00\">Imputer</text>\r\n",
       "<polyline fill=\"none\" stroke=\"black\" points=\"0,-68.5 264,-68.5 \"/>\r\n",
       "<text text-anchor=\"start\" x=\"8\" y=\"-53.3\" font-family=\"Times New Roman,serif\" font-size=\"14.00\">categorical_impute_strategy : most_frequent</text>\r\n",
       "<text text-anchor=\"start\" x=\"8\" y=\"-38.3\" font-family=\"Times New Roman,serif\" font-size=\"14.00\">numeric_impute_strategy : mean</text>\r\n",
       "<text text-anchor=\"start\" x=\"8\" y=\"-23.3\" font-family=\"Times New Roman,serif\" font-size=\"14.00\">categorical_fill_value : None</text>\r\n",
       "<text text-anchor=\"start\" x=\"8\" y=\"-8.3\" font-family=\"Times New Roman,serif\" font-size=\"14.00\">numeric_fill_value : None</text>\r\n",
       "</g>\r\n",
       "<!-- XGBoost Regressor -->\r\n",
       "<g id=\"node2\" class=\"node\"><title>XGBoost Regressor</title>\r\n",
       "<polygon fill=\"none\" stroke=\"black\" points=\"300,-0.5 300,-91.5 432,-91.5 432,-0.5 300,-0.5\"/>\r\n",
       "<text text-anchor=\"middle\" x=\"366\" y=\"-76.3\" font-family=\"Times New Roman,serif\" font-size=\"14.00\">XGBoost Regressor</text>\r\n",
       "<polyline fill=\"none\" stroke=\"black\" points=\"300,-68.5 432,-68.5 \"/>\r\n",
       "<text text-anchor=\"start\" x=\"308\" y=\"-53.3\" font-family=\"Times New Roman,serif\" font-size=\"14.00\">eta : 0.10</text>\r\n",
       "<text text-anchor=\"start\" x=\"308\" y=\"-38.3\" font-family=\"Times New Roman,serif\" font-size=\"14.00\">max_depth : 6</text>\r\n",
       "<text text-anchor=\"start\" x=\"308\" y=\"-23.3\" font-family=\"Times New Roman,serif\" font-size=\"14.00\">min_child_weight : 1</text>\r\n",
       "<text text-anchor=\"start\" x=\"308\" y=\"-8.3\" font-family=\"Times New Roman,serif\" font-size=\"14.00\">n_estimators : 100</text>\r\n",
       "</g>\r\n",
       "<!-- Imputer&#45;&gt;XGBoost Regressor -->\r\n",
       "<g id=\"edge1\" class=\"edge\"><title>Imputer&#45;&gt;XGBoost Regressor</title>\r\n",
       "<path fill=\"none\" stroke=\"black\" d=\"M264.045,-46C264.045,-46 289.813,-46 289.813,-46\"/>\r\n",
       "<polygon fill=\"black\" stroke=\"black\" points=\"289.813,-49.5001 299.813,-46 289.813,-42.5001 289.813,-49.5001\"/>\r\n",
       "</g>\r\n",
       "</g>\r\n",
       "</svg>\r\n"
      ],
      "text/plain": [
       "<graphviz.dot.Digraph at 0x23b5633cac0>"
      ]
     },
     "execution_count": 35,
     "metadata": {},
     "output_type": "execute_result"
    }
   ],
   "source": [
    "best_pipeline.graph()"
   ]
  },
  {
   "cell_type": "code",
   "execution_count": 36,
   "metadata": {},
   "outputs": [
    {
     "data": {
      "text/html": [
       "<div>\n",
       "<style scoped>\n",
       "    .dataframe tbody tr th:only-of-type {\n",
       "        vertical-align: middle;\n",
       "    }\n",
       "\n",
       "    .dataframe tbody tr th {\n",
       "        vertical-align: top;\n",
       "    }\n",
       "\n",
       "    .dataframe thead th {\n",
       "        text-align: right;\n",
       "    }\n",
       "</style>\n",
       "<table border=\"1\" class=\"dataframe\">\n",
       "  <thead>\n",
       "    <tr style=\"text-align: right;\">\n",
       "      <th></th>\n",
       "      <th>feature</th>\n",
       "      <th>importance</th>\n",
       "    </tr>\n",
       "  </thead>\n",
       "  <tbody>\n",
       "    <tr>\n",
       "      <th>0</th>\n",
       "      <td>geff</td>\n",
       "      <td>0.297073</td>\n",
       "    </tr>\n",
       "    <tr>\n",
       "      <th>1</th>\n",
       "      <td>civlib</td>\n",
       "      <td>0.149027</td>\n",
       "    </tr>\n",
       "    <tr>\n",
       "      <th>2</th>\n",
       "      <td>rqual</td>\n",
       "      <td>0.147148</td>\n",
       "    </tr>\n",
       "    <tr>\n",
       "      <th>3</th>\n",
       "      <td>banka</td>\n",
       "      <td>0.120476</td>\n",
       "    </tr>\n",
       "    <tr>\n",
       "      <th>4</th>\n",
       "      <td>polrights</td>\n",
       "      <td>0.059065</td>\n",
       "    </tr>\n",
       "    <tr>\n",
       "      <th>...</th>\n",
       "      <td>...</td>\n",
       "      <td>...</td>\n",
       "    </tr>\n",
       "    <tr>\n",
       "      <th>68</th>\n",
       "      <td>wasterwater</td>\n",
       "      <td>0.000072</td>\n",
       "    </tr>\n",
       "    <tr>\n",
       "      <th>69</th>\n",
       "      <td>meandiabetes</td>\n",
       "      <td>0.000064</td>\n",
       "    </tr>\n",
       "    <tr>\n",
       "      <th>70</th>\n",
       "      <td>fishstock</td>\n",
       "      <td>0.000038</td>\n",
       "    </tr>\n",
       "    <tr>\n",
       "      <th>71</th>\n",
       "      <td>secvocp</td>\n",
       "      <td>0.000024</td>\n",
       "    </tr>\n",
       "    <tr>\n",
       "      <th>72</th>\n",
       "      <td>qslnl</td>\n",
       "      <td>0.000004</td>\n",
       "    </tr>\n",
       "  </tbody>\n",
       "</table>\n",
       "<p>73 rows × 2 columns</p>\n",
       "</div>"
      ],
      "text/plain": [
       "         feature  importance\n",
       "0           geff    0.297073\n",
       "1         civlib    0.149027\n",
       "2          rqual    0.147148\n",
       "3          banka    0.120476\n",
       "4      polrights    0.059065\n",
       "..           ...         ...\n",
       "68   wasterwater    0.000072\n",
       "69  meandiabetes    0.000064\n",
       "70     fishstock    0.000038\n",
       "71       secvocp    0.000024\n",
       "72         qslnl    0.000004\n",
       "\n",
       "[73 rows x 2 columns]"
      ]
     },
     "execution_count": 36,
     "metadata": {},
     "output_type": "execute_result"
    }
   ],
   "source": [
    "best_pipeline.feature_importance"
   ]
  },
  {
   "cell_type": "code",
   "execution_count": 37,
   "metadata": {},
   "outputs": [
    {
     "data": {
      "application/vnd.plotly.v1+json": {
       "config": {
        "plotlyServerURL": "https://plot.ly"
       },
       "data": [
        {
         "orientation": "h",
         "type": "bar",
         "x": [
          3.75621630155365e-06,
          2.4029071937547997e-05,
          3.816310709225945e-05,
          6.361063424265012e-05,
          7.232444477267563e-05,
          7.385049684671685e-05,
          8.218693983508274e-05,
          8.897957013687119e-05,
          0.0001072589511750266,
          0.00011890298628713936,
          0.0001247372420039028,
          0.00012642773799598217,
          0.0001333027903456241,
          0.0001342953328276053,
          0.00014123160508461297,
          0.00015260817599482834,
          0.0001565982965985313,
          0.000158609269419685,
          0.00015901215374469757,
          0.00016190005408134311,
          0.00017640470468904823,
          0.0001889853156171739,
          0.00022224007989279926,
          0.00023402593797072768,
          0.0002403989201411605,
          0.00025929632829502225,
          0.0002841171226464212,
          0.000286894355667755,
          0.000320479623042047,
          0.0003427437914069742,
          0.0003531732363626361,
          0.0003701562818605453,
          0.00038673877133987844,
          0.0004248100449331105,
          0.00046041468158364296,
          0.0005434562335722148,
          0.0005895711947232485,
          0.0006200823117978871,
          0.0006224269745871425,
          0.0006933872937224805,
          0.0006934072589501739,
          0.0007486456306651235,
          0.0007606351864524186,
          0.0009158627944998443,
          0.0009339616517536342,
          0.0009584336658008397,
          0.0010796816786751151,
          0.001342320116236806,
          0.001559580909088254,
          0.0019158923532813787,
          0.0019536581821739674,
          0.002000443870201707,
          0.0021804003044962883,
          0.0028428807854652405,
          0.00289149209856987,
          0.0029080649837851524,
          0.0031847311183810234,
          0.0033618034794926643,
          0.004378896206617355,
          0.008230469189584255,
          0.009713650681078434,
          0.010968005284667015,
          0.011294439435005188,
          0.012056565843522549,
          0.01702263019979,
          0.020510490983724594,
          0.03539742901921272,
          0.05566508322954178,
          0.05906464532017708,
          0.12047604471445084,
          0.14714808762073517,
          0.14902707934379578,
          0.2970729470252991
         ],
         "y": [
          "qslnl",
          "secvocp",
          "fishstock",
          "meandiabetes",
          "wasterwater",
          "dpt",
          "bdeathslnl",
          "teryrs",
          "povdday",
          "rrgov",
          "deathpen",
          "rdeathslnl",
          "trang",
          "homilnl",
          "hifi",
          "barrier",
          "logis",
          "elfcr",
          "stardtf",
          "vapvt",
          "ippr",
          "Obesity",
          "airpollution",
          "edi",
          "redu",
          "tdeathslnl5",
          "rrsoc",
          "marineprotect",
          "secyrs",
          "terrestprotect",
          "urate",
          "bband",
          "impsan",
          "gdp5",
          "lgbt_rights",
          "insdtf",
          "tblnl",
          "amp",
          "edqualsc",
          "womenparl",
          "parfem",
          "pts",
          "creddtf",
          "povnahc",
          "conscription",
          "polity2",
          "lfpr",
          "judi",
          "pestreg",
          "improved_drinkwater",
          "propright",
          "vtf",
          "Ginih15",
          "fwateruse",
          "refugee_oriln",
          "affs",
          "pf",
          "gbrata",
          "eqi",
          "lityf",
          "elcostlnl",
          "prcompc",
          "ticpi",
          "imeas",
          "mort",
          "warcasual",
          "leb",
          "litaf",
          "polrights",
          "banka",
          "rqual",
          "civlib",
          "geff"
         ]
        }
       ],
       "layout": {
        "height": 800,
        "template": {
         "data": {
          "bar": [
           {
            "error_x": {
             "color": "#2a3f5f"
            },
            "error_y": {
             "color": "#2a3f5f"
            },
            "marker": {
             "line": {
              "color": "#E5ECF6",
              "width": 0.5
             }
            },
            "type": "bar"
           }
          ],
          "barpolar": [
           {
            "marker": {
             "line": {
              "color": "#E5ECF6",
              "width": 0.5
             }
            },
            "type": "barpolar"
           }
          ],
          "carpet": [
           {
            "aaxis": {
             "endlinecolor": "#2a3f5f",
             "gridcolor": "white",
             "linecolor": "white",
             "minorgridcolor": "white",
             "startlinecolor": "#2a3f5f"
            },
            "baxis": {
             "endlinecolor": "#2a3f5f",
             "gridcolor": "white",
             "linecolor": "white",
             "minorgridcolor": "white",
             "startlinecolor": "#2a3f5f"
            },
            "type": "carpet"
           }
          ],
          "choropleth": [
           {
            "colorbar": {
             "outlinewidth": 0,
             "ticks": ""
            },
            "type": "choropleth"
           }
          ],
          "contour": [
           {
            "colorbar": {
             "outlinewidth": 0,
             "ticks": ""
            },
            "colorscale": [
             [
              0,
              "#0d0887"
             ],
             [
              0.1111111111111111,
              "#46039f"
             ],
             [
              0.2222222222222222,
              "#7201a8"
             ],
             [
              0.3333333333333333,
              "#9c179e"
             ],
             [
              0.4444444444444444,
              "#bd3786"
             ],
             [
              0.5555555555555556,
              "#d8576b"
             ],
             [
              0.6666666666666666,
              "#ed7953"
             ],
             [
              0.7777777777777778,
              "#fb9f3a"
             ],
             [
              0.8888888888888888,
              "#fdca26"
             ],
             [
              1,
              "#f0f921"
             ]
            ],
            "type": "contour"
           }
          ],
          "contourcarpet": [
           {
            "colorbar": {
             "outlinewidth": 0,
             "ticks": ""
            },
            "type": "contourcarpet"
           }
          ],
          "heatmap": [
           {
            "colorbar": {
             "outlinewidth": 0,
             "ticks": ""
            },
            "colorscale": [
             [
              0,
              "#0d0887"
             ],
             [
              0.1111111111111111,
              "#46039f"
             ],
             [
              0.2222222222222222,
              "#7201a8"
             ],
             [
              0.3333333333333333,
              "#9c179e"
             ],
             [
              0.4444444444444444,
              "#bd3786"
             ],
             [
              0.5555555555555556,
              "#d8576b"
             ],
             [
              0.6666666666666666,
              "#ed7953"
             ],
             [
              0.7777777777777778,
              "#fb9f3a"
             ],
             [
              0.8888888888888888,
              "#fdca26"
             ],
             [
              1,
              "#f0f921"
             ]
            ],
            "type": "heatmap"
           }
          ],
          "heatmapgl": [
           {
            "colorbar": {
             "outlinewidth": 0,
             "ticks": ""
            },
            "colorscale": [
             [
              0,
              "#0d0887"
             ],
             [
              0.1111111111111111,
              "#46039f"
             ],
             [
              0.2222222222222222,
              "#7201a8"
             ],
             [
              0.3333333333333333,
              "#9c179e"
             ],
             [
              0.4444444444444444,
              "#bd3786"
             ],
             [
              0.5555555555555556,
              "#d8576b"
             ],
             [
              0.6666666666666666,
              "#ed7953"
             ],
             [
              0.7777777777777778,
              "#fb9f3a"
             ],
             [
              0.8888888888888888,
              "#fdca26"
             ],
             [
              1,
              "#f0f921"
             ]
            ],
            "type": "heatmapgl"
           }
          ],
          "histogram": [
           {
            "marker": {
             "colorbar": {
              "outlinewidth": 0,
              "ticks": ""
             }
            },
            "type": "histogram"
           }
          ],
          "histogram2d": [
           {
            "colorbar": {
             "outlinewidth": 0,
             "ticks": ""
            },
            "colorscale": [
             [
              0,
              "#0d0887"
             ],
             [
              0.1111111111111111,
              "#46039f"
             ],
             [
              0.2222222222222222,
              "#7201a8"
             ],
             [
              0.3333333333333333,
              "#9c179e"
             ],
             [
              0.4444444444444444,
              "#bd3786"
             ],
             [
              0.5555555555555556,
              "#d8576b"
             ],
             [
              0.6666666666666666,
              "#ed7953"
             ],
             [
              0.7777777777777778,
              "#fb9f3a"
             ],
             [
              0.8888888888888888,
              "#fdca26"
             ],
             [
              1,
              "#f0f921"
             ]
            ],
            "type": "histogram2d"
           }
          ],
          "histogram2dcontour": [
           {
            "colorbar": {
             "outlinewidth": 0,
             "ticks": ""
            },
            "colorscale": [
             [
              0,
              "#0d0887"
             ],
             [
              0.1111111111111111,
              "#46039f"
             ],
             [
              0.2222222222222222,
              "#7201a8"
             ],
             [
              0.3333333333333333,
              "#9c179e"
             ],
             [
              0.4444444444444444,
              "#bd3786"
             ],
             [
              0.5555555555555556,
              "#d8576b"
             ],
             [
              0.6666666666666666,
              "#ed7953"
             ],
             [
              0.7777777777777778,
              "#fb9f3a"
             ],
             [
              0.8888888888888888,
              "#fdca26"
             ],
             [
              1,
              "#f0f921"
             ]
            ],
            "type": "histogram2dcontour"
           }
          ],
          "mesh3d": [
           {
            "colorbar": {
             "outlinewidth": 0,
             "ticks": ""
            },
            "type": "mesh3d"
           }
          ],
          "parcoords": [
           {
            "line": {
             "colorbar": {
              "outlinewidth": 0,
              "ticks": ""
             }
            },
            "type": "parcoords"
           }
          ],
          "pie": [
           {
            "automargin": true,
            "type": "pie"
           }
          ],
          "scatter": [
           {
            "marker": {
             "colorbar": {
              "outlinewidth": 0,
              "ticks": ""
             }
            },
            "type": "scatter"
           }
          ],
          "scatter3d": [
           {
            "line": {
             "colorbar": {
              "outlinewidth": 0,
              "ticks": ""
             }
            },
            "marker": {
             "colorbar": {
              "outlinewidth": 0,
              "ticks": ""
             }
            },
            "type": "scatter3d"
           }
          ],
          "scattercarpet": [
           {
            "marker": {
             "colorbar": {
              "outlinewidth": 0,
              "ticks": ""
             }
            },
            "type": "scattercarpet"
           }
          ],
          "scattergeo": [
           {
            "marker": {
             "colorbar": {
              "outlinewidth": 0,
              "ticks": ""
             }
            },
            "type": "scattergeo"
           }
          ],
          "scattergl": [
           {
            "marker": {
             "colorbar": {
              "outlinewidth": 0,
              "ticks": ""
             }
            },
            "type": "scattergl"
           }
          ],
          "scattermapbox": [
           {
            "marker": {
             "colorbar": {
              "outlinewidth": 0,
              "ticks": ""
             }
            },
            "type": "scattermapbox"
           }
          ],
          "scatterpolar": [
           {
            "marker": {
             "colorbar": {
              "outlinewidth": 0,
              "ticks": ""
             }
            },
            "type": "scatterpolar"
           }
          ],
          "scatterpolargl": [
           {
            "marker": {
             "colorbar": {
              "outlinewidth": 0,
              "ticks": ""
             }
            },
            "type": "scatterpolargl"
           }
          ],
          "scatterternary": [
           {
            "marker": {
             "colorbar": {
              "outlinewidth": 0,
              "ticks": ""
             }
            },
            "type": "scatterternary"
           }
          ],
          "surface": [
           {
            "colorbar": {
             "outlinewidth": 0,
             "ticks": ""
            },
            "colorscale": [
             [
              0,
              "#0d0887"
             ],
             [
              0.1111111111111111,
              "#46039f"
             ],
             [
              0.2222222222222222,
              "#7201a8"
             ],
             [
              0.3333333333333333,
              "#9c179e"
             ],
             [
              0.4444444444444444,
              "#bd3786"
             ],
             [
              0.5555555555555556,
              "#d8576b"
             ],
             [
              0.6666666666666666,
              "#ed7953"
             ],
             [
              0.7777777777777778,
              "#fb9f3a"
             ],
             [
              0.8888888888888888,
              "#fdca26"
             ],
             [
              1,
              "#f0f921"
             ]
            ],
            "type": "surface"
           }
          ],
          "table": [
           {
            "cells": {
             "fill": {
              "color": "#EBF0F8"
             },
             "line": {
              "color": "white"
             }
            },
            "header": {
             "fill": {
              "color": "#C8D4E3"
             },
             "line": {
              "color": "white"
             }
            },
            "type": "table"
           }
          ]
         },
         "layout": {
          "annotationdefaults": {
           "arrowcolor": "#2a3f5f",
           "arrowhead": 0,
           "arrowwidth": 1
          },
          "autotypenumbers": "strict",
          "coloraxis": {
           "colorbar": {
            "outlinewidth": 0,
            "ticks": ""
           }
          },
          "colorscale": {
           "diverging": [
            [
             0,
             "#8e0152"
            ],
            [
             0.1,
             "#c51b7d"
            ],
            [
             0.2,
             "#de77ae"
            ],
            [
             0.3,
             "#f1b6da"
            ],
            [
             0.4,
             "#fde0ef"
            ],
            [
             0.5,
             "#f7f7f7"
            ],
            [
             0.6,
             "#e6f5d0"
            ],
            [
             0.7,
             "#b8e186"
            ],
            [
             0.8,
             "#7fbc41"
            ],
            [
             0.9,
             "#4d9221"
            ],
            [
             1,
             "#276419"
            ]
           ],
           "sequential": [
            [
             0,
             "#0d0887"
            ],
            [
             0.1111111111111111,
             "#46039f"
            ],
            [
             0.2222222222222222,
             "#7201a8"
            ],
            [
             0.3333333333333333,
             "#9c179e"
            ],
            [
             0.4444444444444444,
             "#bd3786"
            ],
            [
             0.5555555555555556,
             "#d8576b"
            ],
            [
             0.6666666666666666,
             "#ed7953"
            ],
            [
             0.7777777777777778,
             "#fb9f3a"
            ],
            [
             0.8888888888888888,
             "#fdca26"
            ],
            [
             1,
             "#f0f921"
            ]
           ],
           "sequentialminus": [
            [
             0,
             "#0d0887"
            ],
            [
             0.1111111111111111,
             "#46039f"
            ],
            [
             0.2222222222222222,
             "#7201a8"
            ],
            [
             0.3333333333333333,
             "#9c179e"
            ],
            [
             0.4444444444444444,
             "#bd3786"
            ],
            [
             0.5555555555555556,
             "#d8576b"
            ],
            [
             0.6666666666666666,
             "#ed7953"
            ],
            [
             0.7777777777777778,
             "#fb9f3a"
            ],
            [
             0.8888888888888888,
             "#fdca26"
            ],
            [
             1,
             "#f0f921"
            ]
           ]
          },
          "colorway": [
           "#636efa",
           "#EF553B",
           "#00cc96",
           "#ab63fa",
           "#FFA15A",
           "#19d3f3",
           "#FF6692",
           "#B6E880",
           "#FF97FF",
           "#FECB52"
          ],
          "font": {
           "color": "#2a3f5f"
          },
          "geo": {
           "bgcolor": "white",
           "lakecolor": "white",
           "landcolor": "#E5ECF6",
           "showlakes": true,
           "showland": true,
           "subunitcolor": "white"
          },
          "hoverlabel": {
           "align": "left"
          },
          "hovermode": "closest",
          "mapbox": {
           "style": "light"
          },
          "paper_bgcolor": "white",
          "plot_bgcolor": "#E5ECF6",
          "polar": {
           "angularaxis": {
            "gridcolor": "white",
            "linecolor": "white",
            "ticks": ""
           },
           "bgcolor": "#E5ECF6",
           "radialaxis": {
            "gridcolor": "white",
            "linecolor": "white",
            "ticks": ""
           }
          },
          "scene": {
           "xaxis": {
            "backgroundcolor": "#E5ECF6",
            "gridcolor": "white",
            "gridwidth": 2,
            "linecolor": "white",
            "showbackground": true,
            "ticks": "",
            "zerolinecolor": "white"
           },
           "yaxis": {
            "backgroundcolor": "#E5ECF6",
            "gridcolor": "white",
            "gridwidth": 2,
            "linecolor": "white",
            "showbackground": true,
            "ticks": "",
            "zerolinecolor": "white"
           },
           "zaxis": {
            "backgroundcolor": "#E5ECF6",
            "gridcolor": "white",
            "gridwidth": 2,
            "linecolor": "white",
            "showbackground": true,
            "ticks": "",
            "zerolinecolor": "white"
           }
          },
          "shapedefaults": {
           "line": {
            "color": "#2a3f5f"
           }
          },
          "ternary": {
           "aaxis": {
            "gridcolor": "white",
            "linecolor": "white",
            "ticks": ""
           },
           "baxis": {
            "gridcolor": "white",
            "linecolor": "white",
            "ticks": ""
           },
           "bgcolor": "#E5ECF6",
           "caxis": {
            "gridcolor": "white",
            "linecolor": "white",
            "ticks": ""
           }
          },
          "title": {
           "x": 0.05
          },
          "xaxis": {
           "automargin": true,
           "gridcolor": "white",
           "linecolor": "white",
           "ticks": "",
           "title": {
            "standoff": 15
           },
           "zerolinecolor": "white",
           "zerolinewidth": 2
          },
          "yaxis": {
           "automargin": true,
           "gridcolor": "white",
           "linecolor": "white",
           "ticks": "",
           "title": {
            "standoff": 15
           },
           "zerolinecolor": "white",
           "zerolinewidth": 2
          }
         }
        },
        "title": {
         "text": "Feature Importance<br><sub>May display fewer features due to feature selection</sub>"
        },
        "xaxis": {
         "title": {
          "text": "Feature Importance"
         }
        },
        "yaxis": {
         "title": {
          "text": "Feature"
         },
         "type": "category"
        }
       }
      },
      "text/html": [
       "<div>                            <div id=\"a2177ff3-e1c1-44f7-911b-e04f18502e87\" class=\"plotly-graph-div\" style=\"height:800px; width:100%;\"></div>            <script type=\"text/javascript\">                require([\"plotly\"], function(Plotly) {                    window.PLOTLYENV=window.PLOTLYENV || {};                                    if (document.getElementById(\"a2177ff3-e1c1-44f7-911b-e04f18502e87\")) {                    Plotly.newPlot(                        \"a2177ff3-e1c1-44f7-911b-e04f18502e87\",                        [{\"orientation\": \"h\", \"type\": \"bar\", \"x\": [3.75621630155365e-06, 2.4029071937547997e-05, 3.816310709225945e-05, 6.361063424265012e-05, 7.232444477267563e-05, 7.385049684671685e-05, 8.218693983508274e-05, 8.897957013687119e-05, 0.0001072589511750266, 0.00011890298628713936, 0.0001247372420039028, 0.00012642773799598217, 0.0001333027903456241, 0.0001342953328276053, 0.00014123160508461297, 0.00015260817599482834, 0.0001565982965985313, 0.000158609269419685, 0.00015901215374469757, 0.00016190005408134311, 0.00017640470468904823, 0.0001889853156171739, 0.00022224007989279926, 0.00023402593797072768, 0.0002403989201411605, 0.00025929632829502225, 0.0002841171226464212, 0.000286894355667755, 0.000320479623042047, 0.0003427437914069742, 0.0003531732363626361, 0.0003701562818605453, 0.00038673877133987844, 0.0004248100449331105, 0.00046041468158364296, 0.0005434562335722148, 0.0005895711947232485, 0.0006200823117978871, 0.0006224269745871425, 0.0006933872937224805, 0.0006934072589501739, 0.0007486456306651235, 0.0007606351864524186, 0.0009158627944998443, 0.0009339616517536342, 0.0009584336658008397, 0.0010796816786751151, 0.001342320116236806, 0.001559580909088254, 0.0019158923532813787, 0.0019536581821739674, 0.002000443870201707, 0.0021804003044962883, 0.0028428807854652405, 0.00289149209856987, 0.0029080649837851524, 0.0031847311183810234, 0.0033618034794926643, 0.004378896206617355, 0.008230469189584255, 0.009713650681078434, 0.010968005284667015, 0.011294439435005188, 0.012056565843522549, 0.01702263019979, 0.020510490983724594, 0.03539742901921272, 0.05566508322954178, 0.05906464532017708, 0.12047604471445084, 0.14714808762073517, 0.14902707934379578, 0.2970729470252991], \"y\": [\"qslnl\", \"secvocp\", \"fishstock\", \"meandiabetes\", \"wasterwater\", \"dpt\", \"bdeathslnl\", \"teryrs\", \"povdday\", \"rrgov\", \"deathpen\", \"rdeathslnl\", \"trang\", \"homilnl\", \"hifi\", \"barrier\", \"logis\", \"elfcr\", \"stardtf\", \"vapvt\", \"ippr\", \"Obesity\", \"airpollution\", \"edi\", \"redu\", \"tdeathslnl5\", \"rrsoc\", \"marineprotect\", \"secyrs\", \"terrestprotect\", \"urate\", \"bband\", \"impsan\", \"gdp5\", \"lgbt_rights\", \"insdtf\", \"tblnl\", \"amp\", \"edqualsc\", \"womenparl\", \"parfem\", \"pts\", \"creddtf\", \"povnahc\", \"conscription\", \"polity2\", \"lfpr\", \"judi\", \"pestreg\", \"improved_drinkwater\", \"propright\", \"vtf\", \"Ginih15\", \"fwateruse\", \"refugee_oriln\", \"affs\", \"pf\", \"gbrata\", \"eqi\", \"lityf\", \"elcostlnl\", \"prcompc\", \"ticpi\", \"imeas\", \"mort\", \"warcasual\", \"leb\", \"litaf\", \"polrights\", \"banka\", \"rqual\", \"civlib\", \"geff\"]}],                        {\"height\": 800, \"template\": {\"data\": {\"bar\": [{\"error_x\": {\"color\": \"#2a3f5f\"}, \"error_y\": {\"color\": \"#2a3f5f\"}, \"marker\": {\"line\": {\"color\": \"#E5ECF6\", \"width\": 0.5}}, \"type\": \"bar\"}], \"barpolar\": [{\"marker\": {\"line\": {\"color\": \"#E5ECF6\", \"width\": 0.5}}, \"type\": \"barpolar\"}], \"carpet\": [{\"aaxis\": {\"endlinecolor\": \"#2a3f5f\", \"gridcolor\": \"white\", \"linecolor\": \"white\", \"minorgridcolor\": \"white\", \"startlinecolor\": \"#2a3f5f\"}, \"baxis\": {\"endlinecolor\": \"#2a3f5f\", \"gridcolor\": \"white\", \"linecolor\": \"white\", \"minorgridcolor\": \"white\", \"startlinecolor\": \"#2a3f5f\"}, \"type\": \"carpet\"}], \"choropleth\": [{\"colorbar\": {\"outlinewidth\": 0, \"ticks\": \"\"}, \"type\": \"choropleth\"}], \"contour\": [{\"colorbar\": {\"outlinewidth\": 0, \"ticks\": \"\"}, \"colorscale\": [[0.0, \"#0d0887\"], [0.1111111111111111, \"#46039f\"], [0.2222222222222222, \"#7201a8\"], [0.3333333333333333, \"#9c179e\"], [0.4444444444444444, \"#bd3786\"], [0.5555555555555556, \"#d8576b\"], [0.6666666666666666, \"#ed7953\"], [0.7777777777777778, \"#fb9f3a\"], [0.8888888888888888, \"#fdca26\"], [1.0, \"#f0f921\"]], \"type\": \"contour\"}], \"contourcarpet\": [{\"colorbar\": {\"outlinewidth\": 0, \"ticks\": \"\"}, \"type\": \"contourcarpet\"}], \"heatmap\": [{\"colorbar\": {\"outlinewidth\": 0, \"ticks\": \"\"}, \"colorscale\": [[0.0, \"#0d0887\"], [0.1111111111111111, \"#46039f\"], [0.2222222222222222, \"#7201a8\"], [0.3333333333333333, \"#9c179e\"], [0.4444444444444444, \"#bd3786\"], [0.5555555555555556, \"#d8576b\"], [0.6666666666666666, \"#ed7953\"], [0.7777777777777778, \"#fb9f3a\"], [0.8888888888888888, \"#fdca26\"], [1.0, \"#f0f921\"]], \"type\": \"heatmap\"}], \"heatmapgl\": [{\"colorbar\": {\"outlinewidth\": 0, \"ticks\": \"\"}, \"colorscale\": [[0.0, \"#0d0887\"], [0.1111111111111111, \"#46039f\"], [0.2222222222222222, \"#7201a8\"], [0.3333333333333333, \"#9c179e\"], [0.4444444444444444, \"#bd3786\"], [0.5555555555555556, \"#d8576b\"], [0.6666666666666666, \"#ed7953\"], [0.7777777777777778, \"#fb9f3a\"], [0.8888888888888888, \"#fdca26\"], [1.0, \"#f0f921\"]], \"type\": \"heatmapgl\"}], \"histogram\": [{\"marker\": {\"colorbar\": {\"outlinewidth\": 0, \"ticks\": \"\"}}, \"type\": \"histogram\"}], \"histogram2d\": [{\"colorbar\": {\"outlinewidth\": 0, \"ticks\": \"\"}, \"colorscale\": [[0.0, \"#0d0887\"], [0.1111111111111111, \"#46039f\"], [0.2222222222222222, \"#7201a8\"], [0.3333333333333333, \"#9c179e\"], [0.4444444444444444, \"#bd3786\"], [0.5555555555555556, \"#d8576b\"], [0.6666666666666666, \"#ed7953\"], [0.7777777777777778, \"#fb9f3a\"], [0.8888888888888888, \"#fdca26\"], [1.0, \"#f0f921\"]], \"type\": \"histogram2d\"}], \"histogram2dcontour\": [{\"colorbar\": {\"outlinewidth\": 0, \"ticks\": \"\"}, \"colorscale\": [[0.0, \"#0d0887\"], [0.1111111111111111, \"#46039f\"], [0.2222222222222222, \"#7201a8\"], [0.3333333333333333, \"#9c179e\"], [0.4444444444444444, \"#bd3786\"], [0.5555555555555556, \"#d8576b\"], [0.6666666666666666, \"#ed7953\"], [0.7777777777777778, \"#fb9f3a\"], [0.8888888888888888, \"#fdca26\"], [1.0, \"#f0f921\"]], \"type\": \"histogram2dcontour\"}], \"mesh3d\": [{\"colorbar\": {\"outlinewidth\": 0, \"ticks\": \"\"}, \"type\": \"mesh3d\"}], \"parcoords\": [{\"line\": {\"colorbar\": {\"outlinewidth\": 0, \"ticks\": \"\"}}, \"type\": \"parcoords\"}], \"pie\": [{\"automargin\": true, \"type\": \"pie\"}], \"scatter\": [{\"marker\": {\"colorbar\": {\"outlinewidth\": 0, \"ticks\": \"\"}}, \"type\": \"scatter\"}], \"scatter3d\": [{\"line\": {\"colorbar\": {\"outlinewidth\": 0, \"ticks\": \"\"}}, \"marker\": {\"colorbar\": {\"outlinewidth\": 0, \"ticks\": \"\"}}, \"type\": \"scatter3d\"}], \"scattercarpet\": [{\"marker\": {\"colorbar\": {\"outlinewidth\": 0, \"ticks\": \"\"}}, \"type\": \"scattercarpet\"}], \"scattergeo\": [{\"marker\": {\"colorbar\": {\"outlinewidth\": 0, \"ticks\": \"\"}}, \"type\": \"scattergeo\"}], \"scattergl\": [{\"marker\": {\"colorbar\": {\"outlinewidth\": 0, \"ticks\": \"\"}}, \"type\": \"scattergl\"}], \"scattermapbox\": [{\"marker\": {\"colorbar\": {\"outlinewidth\": 0, \"ticks\": \"\"}}, \"type\": \"scattermapbox\"}], \"scatterpolar\": [{\"marker\": {\"colorbar\": {\"outlinewidth\": 0, \"ticks\": \"\"}}, \"type\": \"scatterpolar\"}], \"scatterpolargl\": [{\"marker\": {\"colorbar\": {\"outlinewidth\": 0, \"ticks\": \"\"}}, \"type\": \"scatterpolargl\"}], \"scatterternary\": [{\"marker\": {\"colorbar\": {\"outlinewidth\": 0, \"ticks\": \"\"}}, \"type\": \"scatterternary\"}], \"surface\": [{\"colorbar\": {\"outlinewidth\": 0, \"ticks\": \"\"}, \"colorscale\": [[0.0, \"#0d0887\"], [0.1111111111111111, \"#46039f\"], [0.2222222222222222, \"#7201a8\"], [0.3333333333333333, \"#9c179e\"], [0.4444444444444444, \"#bd3786\"], [0.5555555555555556, \"#d8576b\"], [0.6666666666666666, \"#ed7953\"], [0.7777777777777778, \"#fb9f3a\"], [0.8888888888888888, \"#fdca26\"], [1.0, \"#f0f921\"]], \"type\": \"surface\"}], \"table\": [{\"cells\": {\"fill\": {\"color\": \"#EBF0F8\"}, \"line\": {\"color\": \"white\"}}, \"header\": {\"fill\": {\"color\": \"#C8D4E3\"}, \"line\": {\"color\": \"white\"}}, \"type\": \"table\"}]}, \"layout\": {\"annotationdefaults\": {\"arrowcolor\": \"#2a3f5f\", \"arrowhead\": 0, \"arrowwidth\": 1}, \"autotypenumbers\": \"strict\", \"coloraxis\": {\"colorbar\": {\"outlinewidth\": 0, \"ticks\": \"\"}}, \"colorscale\": {\"diverging\": [[0, \"#8e0152\"], [0.1, \"#c51b7d\"], [0.2, \"#de77ae\"], [0.3, \"#f1b6da\"], [0.4, \"#fde0ef\"], [0.5, \"#f7f7f7\"], [0.6, \"#e6f5d0\"], [0.7, \"#b8e186\"], [0.8, \"#7fbc41\"], [0.9, \"#4d9221\"], [1, \"#276419\"]], \"sequential\": [[0.0, \"#0d0887\"], [0.1111111111111111, \"#46039f\"], [0.2222222222222222, \"#7201a8\"], [0.3333333333333333, \"#9c179e\"], [0.4444444444444444, \"#bd3786\"], [0.5555555555555556, \"#d8576b\"], [0.6666666666666666, \"#ed7953\"], [0.7777777777777778, \"#fb9f3a\"], [0.8888888888888888, \"#fdca26\"], [1.0, \"#f0f921\"]], \"sequentialminus\": [[0.0, \"#0d0887\"], [0.1111111111111111, \"#46039f\"], [0.2222222222222222, \"#7201a8\"], [0.3333333333333333, \"#9c179e\"], [0.4444444444444444, \"#bd3786\"], [0.5555555555555556, \"#d8576b\"], [0.6666666666666666, \"#ed7953\"], [0.7777777777777778, \"#fb9f3a\"], [0.8888888888888888, \"#fdca26\"], [1.0, \"#f0f921\"]]}, \"colorway\": [\"#636efa\", \"#EF553B\", \"#00cc96\", \"#ab63fa\", \"#FFA15A\", \"#19d3f3\", \"#FF6692\", \"#B6E880\", \"#FF97FF\", \"#FECB52\"], \"font\": {\"color\": \"#2a3f5f\"}, \"geo\": {\"bgcolor\": \"white\", \"lakecolor\": \"white\", \"landcolor\": \"#E5ECF6\", \"showlakes\": true, \"showland\": true, \"subunitcolor\": \"white\"}, \"hoverlabel\": {\"align\": \"left\"}, \"hovermode\": \"closest\", \"mapbox\": {\"style\": \"light\"}, \"paper_bgcolor\": \"white\", \"plot_bgcolor\": \"#E5ECF6\", \"polar\": {\"angularaxis\": {\"gridcolor\": \"white\", \"linecolor\": \"white\", \"ticks\": \"\"}, \"bgcolor\": \"#E5ECF6\", \"radialaxis\": {\"gridcolor\": \"white\", \"linecolor\": \"white\", \"ticks\": \"\"}}, \"scene\": {\"xaxis\": {\"backgroundcolor\": \"#E5ECF6\", \"gridcolor\": \"white\", \"gridwidth\": 2, \"linecolor\": \"white\", \"showbackground\": true, \"ticks\": \"\", \"zerolinecolor\": \"white\"}, \"yaxis\": {\"backgroundcolor\": \"#E5ECF6\", \"gridcolor\": \"white\", \"gridwidth\": 2, \"linecolor\": \"white\", \"showbackground\": true, \"ticks\": \"\", \"zerolinecolor\": \"white\"}, \"zaxis\": {\"backgroundcolor\": \"#E5ECF6\", \"gridcolor\": \"white\", \"gridwidth\": 2, \"linecolor\": \"white\", \"showbackground\": true, \"ticks\": \"\", \"zerolinecolor\": \"white\"}}, \"shapedefaults\": {\"line\": {\"color\": \"#2a3f5f\"}}, \"ternary\": {\"aaxis\": {\"gridcolor\": \"white\", \"linecolor\": \"white\", \"ticks\": \"\"}, \"baxis\": {\"gridcolor\": \"white\", \"linecolor\": \"white\", \"ticks\": \"\"}, \"bgcolor\": \"#E5ECF6\", \"caxis\": {\"gridcolor\": \"white\", \"linecolor\": \"white\", \"ticks\": \"\"}}, \"title\": {\"x\": 0.05}, \"xaxis\": {\"automargin\": true, \"gridcolor\": \"white\", \"linecolor\": \"white\", \"ticks\": \"\", \"title\": {\"standoff\": 15}, \"zerolinecolor\": \"white\", \"zerolinewidth\": 2}, \"yaxis\": {\"automargin\": true, \"gridcolor\": \"white\", \"linecolor\": \"white\", \"ticks\": \"\", \"title\": {\"standoff\": 15}, \"zerolinecolor\": \"white\", \"zerolinewidth\": 2}}}, \"title\": {\"text\": \"Feature Importance<br><sub>May display fewer features due to feature selection</sub>\"}, \"xaxis\": {\"title\": {\"text\": \"Feature Importance\"}}, \"yaxis\": {\"title\": {\"text\": \"Feature\"}, \"type\": \"category\"}},                        {\"responsive\": true}                    ).then(function(){\n",
       "                            \n",
       "var gd = document.getElementById('a2177ff3-e1c1-44f7-911b-e04f18502e87');\n",
       "var x = new MutationObserver(function (mutations, observer) {{\n",
       "        var display = window.getComputedStyle(gd).display;\n",
       "        if (!display || display === 'none') {{\n",
       "            console.log([gd, 'removed!']);\n",
       "            Plotly.purge(gd);\n",
       "            observer.disconnect();\n",
       "        }}\n",
       "}});\n",
       "\n",
       "// Listen for the removal of the full notebook cells\n",
       "var notebookContainer = gd.closest('#notebook-container');\n",
       "if (notebookContainer) {{\n",
       "    x.observe(notebookContainer, {childList: true});\n",
       "}}\n",
       "\n",
       "// Listen for the clearing of the current output cell\n",
       "var outputEl = gd.closest('.output');\n",
       "if (outputEl) {{\n",
       "    x.observe(outputEl, {childList: true});\n",
       "}}\n",
       "\n",
       "                        })                };                });            </script>        </div>"
      ]
     },
     "metadata": {},
     "output_type": "display_data"
    }
   ],
   "source": [
    "best_pipeline.graph_feature_importance()"
   ]
  },
  {
   "cell_type": "code",
   "execution_count": 22,
   "metadata": {},
   "outputs": [
    {
     "name": "stdout",
     "output_type": "stream",
     "text": [
      "\n"
     ]
    }
   ],
   "source": [
    "import os\n",
    "datasets = os.listdir('Data')\n",
    "train_csvs = [data for data in datasets if \"train\" in data]\n",
    "col = dict()\n",
    "for df in train_csvs:\n",
    "    col[df] = pd.read_csv(\"Data/{}\".format(df), index_col = 0).columns"
   ]
  },
  {
   "cell_type": "code",
   "execution_count": 32,
   "metadata": {},
   "outputs": [],
   "source": [
    "def find_csv(col_name):\n",
    "    for key in col.keys():\n",
    "        if col_name in col[key]:\n",
    "            return key\n",
    "\n",
    "imp['dataset'] = imp['feature'].apply(lambda x: find_csv(x))"
   ]
  },
  {
   "cell_type": "code",
   "execution_count": 43,
   "metadata": {},
   "outputs": [
    {
     "data": {
      "text/html": [
       "<div>\n",
       "<style scoped>\n",
       "    .dataframe tbody tr th:only-of-type {\n",
       "        vertical-align: middle;\n",
       "    }\n",
       "\n",
       "    .dataframe tbody tr th {\n",
       "        vertical-align: top;\n",
       "    }\n",
       "\n",
       "    .dataframe thead th {\n",
       "        text-align: right;\n",
       "    }\n",
       "</style>\n",
       "<table border=\"1\" class=\"dataframe\">\n",
       "  <thead>\n",
       "    <tr style=\"text-align: right;\">\n",
       "      <th></th>\n",
       "      <th>importance</th>\n",
       "    </tr>\n",
       "    <tr>\n",
       "      <th>dataset</th>\n",
       "      <th></th>\n",
       "    </tr>\n",
       "  </thead>\n",
       "  <tbody>\n",
       "    <tr>\n",
       "      <th>gove_train.csv</th>\n",
       "      <td>0.518028</td>\n",
       "    </tr>\n",
       "    <tr>\n",
       "      <th>pers_train.csv</th>\n",
       "      <td>0.156088</td>\n",
       "    </tr>\n",
       "    <tr>\n",
       "      <th>econ_train.csv</th>\n",
       "      <td>0.129436</td>\n",
       "    </tr>\n",
       "    <tr>\n",
       "      <th>educ_train.csv</th>\n",
       "      <td>0.081465</td>\n",
       "    </tr>\n",
       "    <tr>\n",
       "      <th>heal_train.csv</th>\n",
       "      <td>0.065779</td>\n",
       "    </tr>\n",
       "    <tr>\n",
       "      <th>safe_train.csv</th>\n",
       "      <td>0.024753</td>\n",
       "    </tr>\n",
       "    <tr>\n",
       "      <th>busi_train.csv</th>\n",
       "      <td>0.015170</td>\n",
       "    </tr>\n",
       "    <tr>\n",
       "      <th>envi_train.csv</th>\n",
       "      <td>0.007281</td>\n",
       "    </tr>\n",
       "    <tr>\n",
       "      <th>soci_train.csv</th>\n",
       "      <td>0.002000</td>\n",
       "    </tr>\n",
       "  </tbody>\n",
       "</table>\n",
       "</div>"
      ],
      "text/plain": [
       "                importance\n",
       "dataset                   \n",
       "gove_train.csv    0.518028\n",
       "pers_train.csv    0.156088\n",
       "econ_train.csv    0.129436\n",
       "educ_train.csv    0.081465\n",
       "heal_train.csv    0.065779\n",
       "safe_train.csv    0.024753\n",
       "busi_train.csv    0.015170\n",
       "envi_train.csv    0.007281\n",
       "soci_train.csv    0.002000"
      ]
     },
     "execution_count": 43,
     "metadata": {},
     "output_type": "execute_result"
    }
   ],
   "source": [
    "pd.DataFrame(imp.groupby('dataset')['importance'].sum().sort_values(ascending = False))"
   ]
  },
  {
   "cell_type": "code",
   "execution_count": 38,
   "metadata": {},
   "outputs": [],
   "source": [
    "predictions = best_pipeline.predict(X_test)\n",
    "predictions = predictions.to_series()"
   ]
  },
  {
   "cell_type": "code",
   "execution_count": 39,
   "metadata": {},
   "outputs": [
    {
     "name": "stdout",
     "output_type": "stream",
     "text": [
      "R2: 0.9900262772483971\n",
      "MSE: 1.0164434333709211\n",
      "RMSE: 1.00818819342964\n",
      "MAE: 0.7641920001537026\n"
     ]
    }
   ],
   "source": [
    "print('R2: ' + str(r2_score(y_test,  predictions)))\n",
    "print('MSE: ' + str(mean_squared_error(y_test, predictions, squared = True)))\n",
    "print('RMSE: ' + str(mean_squared_error(y_test, predictions, squared = False)))\n",
    "print('MAE: ' + str(mean_absolute_error(y_test, predictions)))"
   ]
  },
  {
   "cell_type": "code",
   "execution_count": 45,
   "metadata": {},
   "outputs": [],
   "source": [
    "test = pd.read_csv('test.csv', index_col = 0)"
   ]
  },
  {
   "cell_type": "code",
   "execution_count": 46,
   "metadata": {},
   "outputs": [
    {
     "data": {
      "text/html": [
       "<div>\n",
       "<style scoped>\n",
       "    .dataframe tbody tr th:only-of-type {\n",
       "        vertical-align: middle;\n",
       "    }\n",
       "\n",
       "    .dataframe tbody tr th {\n",
       "        vertical-align: top;\n",
       "    }\n",
       "\n",
       "    .dataframe thead th {\n",
       "        text-align: right;\n",
       "    }\n",
       "</style>\n",
       "<table border=\"1\" class=\"dataframe\">\n",
       "  <thead>\n",
       "    <tr style=\"text-align: right;\">\n",
       "      <th></th>\n",
       "      <th>country</th>\n",
       "      <th>isonum</th>\n",
       "      <th>isocode</th>\n",
       "      <th>year</th>\n",
       "      <th>qslnl</th>\n",
       "      <th>secvocp</th>\n",
       "      <th>teryrs</th>\n",
       "      <th>edqualsc</th>\n",
       "      <th>gbrata</th>\n",
       "      <th>secyrs</th>\n",
       "      <th>...</th>\n",
       "      <th>logis</th>\n",
       "      <th>bband</th>\n",
       "      <th>redu</th>\n",
       "      <th>hifi</th>\n",
       "      <th>affs</th>\n",
       "      <th>ippr</th>\n",
       "      <th>insdtf</th>\n",
       "      <th>creddtf</th>\n",
       "      <th>elcostlnl</th>\n",
       "      <th>stardtf</th>\n",
       "    </tr>\n",
       "  </thead>\n",
       "  <tbody>\n",
       "    <tr>\n",
       "      <th>1192</th>\n",
       "      <td>Afghanistan</td>\n",
       "      <td>4</td>\n",
       "      <td>AFG</td>\n",
       "      <td>2015</td>\n",
       "      <td>-7.178585</td>\n",
       "      <td>0.961258</td>\n",
       "      <td>0.210655</td>\n",
       "      <td>337.589355</td>\n",
       "      <td>0.341660</td>\n",
       "      <td>0.998107</td>\n",
       "      <td>...</td>\n",
       "      <td>2.069573</td>\n",
       "      <td>0.004795</td>\n",
       "      <td>26.472107</td>\n",
       "      <td>3.633919</td>\n",
       "      <td>3.852955</td>\n",
       "      <td>2.457773</td>\n",
       "      <td>23.62</td>\n",
       "      <td>45.0</td>\n",
       "      <td>8.151823</td>\n",
       "      <td>93.05</td>\n",
       "    </tr>\n",
       "    <tr>\n",
       "      <th>1193</th>\n",
       "      <td>Angola</td>\n",
       "      <td>24</td>\n",
       "      <td>AGO</td>\n",
       "      <td>2015</td>\n",
       "      <td>-7.178585</td>\n",
       "      <td>45.228603</td>\n",
       "      <td>0.099019</td>\n",
       "      <td>280.802673</td>\n",
       "      <td>0.360500</td>\n",
       "      <td>1.820329</td>\n",
       "      <td>...</td>\n",
       "      <td>2.542980</td>\n",
       "      <td>0.412784</td>\n",
       "      <td>31.007937</td>\n",
       "      <td>2.593719</td>\n",
       "      <td>3.236488</td>\n",
       "      <td>2.257915</td>\n",
       "      <td>0.00</td>\n",
       "      <td>5.0</td>\n",
       "      <td>6.421622</td>\n",
       "      <td>76.79</td>\n",
       "    </tr>\n",
       "    <tr>\n",
       "      <th>1194</th>\n",
       "      <td>Albania</td>\n",
       "      <td>8</td>\n",
       "      <td>ALB</td>\n",
       "      <td>2015</td>\n",
       "      <td>-7.178585</td>\n",
       "      <td>8.005317</td>\n",
       "      <td>0.050267</td>\n",
       "      <td>425.420013</td>\n",
       "      <td>0.056140</td>\n",
       "      <td>3.402170</td>\n",
       "      <td>...</td>\n",
       "      <td>2.770000</td>\n",
       "      <td>6.573716</td>\n",
       "      <td>20.825397</td>\n",
       "      <td>3.888581</td>\n",
       "      <td>3.737438</td>\n",
       "      <td>2.896221</td>\n",
       "      <td>63.42</td>\n",
       "      <td>65.0</td>\n",
       "      <td>6.197258</td>\n",
       "      <td>90.09</td>\n",
       "    </tr>\n",
       "    <tr>\n",
       "      <th>1195</th>\n",
       "      <td>United Arab Emirates</td>\n",
       "      <td>784</td>\n",
       "      <td>ARE</td>\n",
       "      <td>2015</td>\n",
       "      <td>-7.178585</td>\n",
       "      <td>1.820017</td>\n",
       "      <td>0.458515</td>\n",
       "      <td>480.829529</td>\n",
       "      <td>0.034651</td>\n",
       "      <td>3.531861</td>\n",
       "      <td>...</td>\n",
       "      <td>3.539098</td>\n",
       "      <td>11.558400</td>\n",
       "      <td>4.285714</td>\n",
       "      <td>5.053419</td>\n",
       "      <td>5.424749</td>\n",
       "      <td>5.475348</td>\n",
       "      <td>43.74</td>\n",
       "      <td>45.0</td>\n",
       "      <td>3.157000</td>\n",
       "      <td>89.98</td>\n",
       "    </tr>\n",
       "    <tr>\n",
       "      <th>1196</th>\n",
       "      <td>Argentina</td>\n",
       "      <td>32</td>\n",
       "      <td>ARG</td>\n",
       "      <td>2015</td>\n",
       "      <td>-3.770851</td>\n",
       "      <td>13.699941</td>\n",
       "      <td>0.280885</td>\n",
       "      <td>421.549591</td>\n",
       "      <td>0.030080</td>\n",
       "      <td>2.664423</td>\n",
       "      <td>...</td>\n",
       "      <td>2.986475</td>\n",
       "      <td>15.573113</td>\n",
       "      <td>30.333333</td>\n",
       "      <td>2.583314</td>\n",
       "      <td>2.923875</td>\n",
       "      <td>2.424609</td>\n",
       "      <td>42.87</td>\n",
       "      <td>50.0</td>\n",
       "      <td>3.214868</td>\n",
       "      <td>73.36</td>\n",
       "    </tr>\n",
       "  </tbody>\n",
       "</table>\n",
       "<p>5 rows × 78 columns</p>\n",
       "</div>"
      ],
      "text/plain": [
       "                   country  isonum isocode  year     qslnl    secvocp  \\\n",
       "1192           Afghanistan       4     AFG  2015 -7.178585   0.961258   \n",
       "1193                Angola      24     AGO  2015 -7.178585  45.228603   \n",
       "1194               Albania       8     ALB  2015 -7.178585   8.005317   \n",
       "1195  United Arab Emirates     784     ARE  2015 -7.178585   1.820017   \n",
       "1196             Argentina      32     ARG  2015 -3.770851  13.699941   \n",
       "\n",
       "        teryrs    edqualsc    gbrata    secyrs  ...     logis      bband  \\\n",
       "1192  0.210655  337.589355  0.341660  0.998107  ...  2.069573   0.004795   \n",
       "1193  0.099019  280.802673  0.360500  1.820329  ...  2.542980   0.412784   \n",
       "1194  0.050267  425.420013  0.056140  3.402170  ...  2.770000   6.573716   \n",
       "1195  0.458515  480.829529  0.034651  3.531861  ...  3.539098  11.558400   \n",
       "1196  0.280885  421.549591  0.030080  2.664423  ...  2.986475  15.573113   \n",
       "\n",
       "           redu      hifi      affs      ippr  insdtf  creddtf  elcostlnl  \\\n",
       "1192  26.472107  3.633919  3.852955  2.457773   23.62     45.0   8.151823   \n",
       "1193  31.007937  2.593719  3.236488  2.257915    0.00      5.0   6.421622   \n",
       "1194  20.825397  3.888581  3.737438  2.896221   63.42     65.0   6.197258   \n",
       "1195   4.285714  5.053419  5.424749  5.475348   43.74     45.0   3.157000   \n",
       "1196  30.333333  2.583314  2.923875  2.424609   42.87     50.0   3.214868   \n",
       "\n",
       "      stardtf  \n",
       "1192    93.05  \n",
       "1193    76.79  \n",
       "1194    90.09  \n",
       "1195    89.98  \n",
       "1196    73.36  \n",
       "\n",
       "[5 rows x 78 columns]"
      ]
     },
     "execution_count": 46,
     "metadata": {},
     "output_type": "execute_result"
    }
   ],
   "source": [
    "test.head()"
   ]
  },
  {
   "cell_type": "code",
   "execution_count": 47,
   "metadata": {},
   "outputs": [],
   "source": [
    "drop = ['country', 'isonum', 'isocode', 'year']\n",
    "df = test.copy()\n",
    "df = df.drop(drop, axis = 1)\n",
    "\n",
    "df = remove_low_information_features(df)\n",
    "\n",
    "df = remove_highly_null_features(df)\n",
    "\n",
    "df = remove_single_value_features(df)\n",
    "\n",
    "df = remove_highly_correlated_features(df)\n",
    "\n",
    "X = df"
   ]
  },
  {
   "cell_type": "code",
   "execution_count": 48,
   "metadata": {},
   "outputs": [
    {
     "data": {
      "text/html": [
       "<div>\n",
       "<style scoped>\n",
       "    .dataframe tbody tr th:only-of-type {\n",
       "        vertical-align: middle;\n",
       "    }\n",
       "\n",
       "    .dataframe tbody tr th {\n",
       "        vertical-align: top;\n",
       "    }\n",
       "\n",
       "    .dataframe thead th {\n",
       "        text-align: right;\n",
       "    }\n",
       "</style>\n",
       "<table border=\"1\" class=\"dataframe\">\n",
       "  <thead>\n",
       "    <tr style=\"text-align: right;\">\n",
       "      <th></th>\n",
       "      <th>prosperity</th>\n",
       "    </tr>\n",
       "  </thead>\n",
       "  <tbody>\n",
       "    <tr>\n",
       "      <th>0</th>\n",
       "      <td>60.446178</td>\n",
       "    </tr>\n",
       "    <tr>\n",
       "      <th>1</th>\n",
       "      <td>57.792282</td>\n",
       "    </tr>\n",
       "    <tr>\n",
       "      <th>2</th>\n",
       "      <td>61.918125</td>\n",
       "    </tr>\n",
       "    <tr>\n",
       "      <th>3</th>\n",
       "      <td>62.159290</td>\n",
       "    </tr>\n",
       "    <tr>\n",
       "      <th>4</th>\n",
       "      <td>63.728382</td>\n",
       "    </tr>\n",
       "  </tbody>\n",
       "</table>\n",
       "</div>"
      ],
      "text/plain": [
       "   prosperity\n",
       "0   60.446178\n",
       "1   57.792282\n",
       "2   61.918125\n",
       "3   62.159290\n",
       "4   63.728382"
      ]
     },
     "execution_count": 48,
     "metadata": {},
     "output_type": "execute_result"
    }
   ],
   "source": [
    "predictions = best_pipeline.predict(X)\n",
    "\n",
    "predictions = predictions.to_series()\n",
    "\n",
    "result = pd.DataFrame()\n",
    "\n",
    "result['prosperity'] = predictions\n",
    "\n",
    "result.head()"
   ]
  },
  {
   "cell_type": "code",
   "execution_count": 49,
   "metadata": {},
   "outputs": [
    {
     "data": {
      "text/html": [
       "<div>\n",
       "<style scoped>\n",
       "    .dataframe tbody tr th:only-of-type {\n",
       "        vertical-align: middle;\n",
       "    }\n",
       "\n",
       "    .dataframe tbody tr th {\n",
       "        vertical-align: top;\n",
       "    }\n",
       "\n",
       "    .dataframe thead th {\n",
       "        text-align: right;\n",
       "    }\n",
       "</style>\n",
       "<table border=\"1\" class=\"dataframe\">\n",
       "  <thead>\n",
       "    <tr style=\"text-align: right;\">\n",
       "      <th></th>\n",
       "      <th>country</th>\n",
       "      <th>year</th>\n",
       "      <th>prosperity</th>\n",
       "      <th>rank_prosperity</th>\n",
       "    </tr>\n",
       "  </thead>\n",
       "  <tbody>\n",
       "    <tr>\n",
       "      <th>26</th>\n",
       "      <td>Ivory Coast</td>\n",
       "      <td>2015</td>\n",
       "      <td>57.611794</td>\n",
       "      <td>139</td>\n",
       "    </tr>\n",
       "    <tr>\n",
       "      <th>49</th>\n",
       "      <td>Georgia</td>\n",
       "      <td>2015</td>\n",
       "      <td>61.911575</td>\n",
       "      <td>73</td>\n",
       "    </tr>\n",
       "    <tr>\n",
       "      <th>131</th>\n",
       "      <td>Chad</td>\n",
       "      <td>2015</td>\n",
       "      <td>56.213028</td>\n",
       "      <td>147</td>\n",
       "    </tr>\n",
       "    <tr>\n",
       "      <th>132</th>\n",
       "      <td>Togo</td>\n",
       "      <td>2015</td>\n",
       "      <td>59.015560</td>\n",
       "      <td>134</td>\n",
       "    </tr>\n",
       "    <tr>\n",
       "      <th>148</th>\n",
       "      <td>Zimbabwe</td>\n",
       "      <td>2015</td>\n",
       "      <td>61.503155</td>\n",
       "      <td>86</td>\n",
       "    </tr>\n",
       "  </tbody>\n",
       "</table>\n",
       "</div>"
      ],
      "text/plain": [
       "         country  year  prosperity  rank_prosperity\n",
       "26   Ivory Coast  2015   57.611794              139\n",
       "49       Georgia  2015   61.911575               73\n",
       "131         Chad  2015   56.213028              147\n",
       "132         Togo  2015   59.015560              134\n",
       "148     Zimbabwe  2015   61.503155               86"
      ]
     },
     "execution_count": 49,
     "metadata": {},
     "output_type": "execute_result"
    }
   ],
   "source": [
    "df = pd.read_csv('test.csv')\n",
    "temp = df[['country', 'year']]\n",
    "\n",
    "result = pd.merge(left = temp, right = result, how=\"left\", on=[temp.index, result.index])\n",
    "result = result.drop(['key_0', 'key_1'], axis = 1)\n",
    "\n",
    "result['rank_prosperity'] = result.groupby(\"year\")[\"prosperity\"].rank(\"dense\", ascending=False)\n",
    "result['rank_prosperity'] = result['rank_prosperity'].astype('int')\n",
    "\n",
    "result = result[result['country'].isin(['Chad', 'Togo', 'Zimbabwe', 'Ivory Coast', 'Georgia'])]\n",
    "\n",
    "result.head()"
   ]
  },
  {
   "cell_type": "code",
   "execution_count": 104,
   "metadata": {},
   "outputs": [
    {
     "data": {
      "text/plain": [
       "index\n",
       "1420                       Libya\n",
       "1271                       Libya\n",
       "1207                     Bahrain\n",
       "1356                     Bahrain\n",
       "1398                     Croatia\n",
       "                  ...           \n",
       "1323                        Chad\n",
       "1213    Central African Republic\n",
       "1362    Central African Republic\n",
       "1282                        Mali\n",
       "1431                        Mali\n",
       "Name: country, Length: 298, dtype: object"
      ]
     },
     "execution_count": 104,
     "metadata": {},
     "output_type": "execute_result"
    }
   ],
   "source": [
    "result.to_csv('prosperity_predictions.csv', index=False)"
   ]
  },
  {
   "cell_type": "code",
   "execution_count": null,
   "metadata": {},
   "outputs": [],
   "source": []
  }
 ],
 "metadata": {
  "kernelspec": {
   "display_name": "Python 3",
   "language": "python",
   "name": "python3"
  },
  "language_info": {
   "codemirror_mode": {
    "name": "ipython",
    "version": 3
   },
   "file_extension": ".py",
   "mimetype": "text/x-python",
   "name": "python",
   "nbconvert_exporter": "python",
   "pygments_lexer": "ipython3",
   "version": "3.8.5"
  }
 },
 "nbformat": 4,
 "nbformat_minor": 5
}
