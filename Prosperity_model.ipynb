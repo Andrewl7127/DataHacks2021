{
 "cells": [
  {
   "cell_type": "code",
   "execution_count": 1,
   "id": "dental-shore",
   "metadata": {},
   "outputs": [],
   "source": [
    "import pandas as pd\n",
    "import evalml\n",
    "import woodwork as ww\n",
    "from sklearn.model_selection import train_test_split\n",
    "from sklearn.metrics import r2_score\n",
    "from sklearn.metrics import mean_squared_error\n",
    "from sklearn.metrics import mean_absolute_error\n",
    "from featuretools.selection import remove_low_information_features, remove_highly_null_features, remove_single_value_features, remove_highly_correlated_features"
   ]
  },
  {
   "cell_type": "code",
   "execution_count": 44,
   "id": "caring-lambda",
   "metadata": {},
   "outputs": [
    {
     "data": {
      "text/html": [
       "<div>\n",
       "<style scoped>\n",
       "    .dataframe tbody tr th:only-of-type {\n",
       "        vertical-align: middle;\n",
       "    }\n",
       "\n",
       "    .dataframe tbody tr th {\n",
       "        vertical-align: top;\n",
       "    }\n",
       "\n",
       "    .dataframe thead th {\n",
       "        text-align: right;\n",
       "    }\n",
       "</style>\n",
       "<table border=\"1\" class=\"dataframe\">\n",
       "  <thead>\n",
       "    <tr style=\"text-align: right;\">\n",
       "      <th></th>\n",
       "      <th>country</th>\n",
       "      <th>isonum</th>\n",
       "      <th>isocode</th>\n",
       "      <th>year</th>\n",
       "      <th>rank_educ</th>\n",
       "      <th>educ</th>\n",
       "      <th>qslnl</th>\n",
       "      <th>secvocp</th>\n",
       "      <th>teryrs</th>\n",
       "      <th>edqualsc</th>\n",
       "      <th>...</th>\n",
       "      <th>envi</th>\n",
       "      <th>fwateruse</th>\n",
       "      <th>airpollution</th>\n",
       "      <th>wasterwater</th>\n",
       "      <th>fishstock</th>\n",
       "      <th>marineprotect</th>\n",
       "      <th>improved_drinkwater</th>\n",
       "      <th>pestreg</th>\n",
       "      <th>terrestprotect</th>\n",
       "      <th>prosperity_score</th>\n",
       "    </tr>\n",
       "  </thead>\n",
       "  <tbody>\n",
       "    <tr>\n",
       "      <th>0</th>\n",
       "      <td>Afghanistan</td>\n",
       "      <td>4</td>\n",
       "      <td>AFG</td>\n",
       "      <td>2007</td>\n",
       "      <td>143</td>\n",
       "      <td>22.494400</td>\n",
       "      <td>-7.178585</td>\n",
       "      <td>0.714436</td>\n",
       "      <td>0.207426</td>\n",
       "      <td>337.589355</td>\n",
       "      <td>...</td>\n",
       "      <td>39.293343</td>\n",
       "      <td>43.011665</td>\n",
       "      <td>0.1400</td>\n",
       "      <td>0.000000</td>\n",
       "      <td>35.323078</td>\n",
       "      <td>13.537368</td>\n",
       "      <td>42.6</td>\n",
       "      <td>0</td>\n",
       "      <td>0.366882</td>\n",
       "      <td>37.658975</td>\n",
       "    </tr>\n",
       "    <tr>\n",
       "      <th>1</th>\n",
       "      <td>Angola</td>\n",
       "      <td>24</td>\n",
       "      <td>AGO</td>\n",
       "      <td>2007</td>\n",
       "      <td>125</td>\n",
       "      <td>35.916668</td>\n",
       "      <td>-7.178585</td>\n",
       "      <td>39.072861</td>\n",
       "      <td>0.099019</td>\n",
       "      <td>280.802673</td>\n",
       "      <td>...</td>\n",
       "      <td>47.982162</td>\n",
       "      <td>0.476892</td>\n",
       "      <td>0.0250</td>\n",
       "      <td>0.000000</td>\n",
       "      <td>4.500000</td>\n",
       "      <td>0.066623</td>\n",
       "      <td>46.4</td>\n",
       "      <td>3</td>\n",
       "      <td>12.399823</td>\n",
       "      <td>43.880780</td>\n",
       "    </tr>\n",
       "    <tr>\n",
       "      <th>2</th>\n",
       "      <td>Albania</td>\n",
       "      <td>8</td>\n",
       "      <td>ALB</td>\n",
       "      <td>2007</td>\n",
       "      <td>72</td>\n",
       "      <td>56.318413</td>\n",
       "      <td>-7.178585</td>\n",
       "      <td>7.345947</td>\n",
       "      <td>0.127648</td>\n",
       "      <td>425.420013</td>\n",
       "      <td>...</td>\n",
       "      <td>51.049442</td>\n",
       "      <td>4.873606</td>\n",
       "      <td>0.2750</td>\n",
       "      <td>5.136225</td>\n",
       "      <td>37.099178</td>\n",
       "      <td>1.624084</td>\n",
       "      <td>95.9</td>\n",
       "      <td>5</td>\n",
       "      <td>9.804400</td>\n",
       "      <td>54.893284</td>\n",
       "    </tr>\n",
       "    <tr>\n",
       "      <th>3</th>\n",
       "      <td>United Arab Emirates</td>\n",
       "      <td>784</td>\n",
       "      <td>ARE</td>\n",
       "      <td>2007</td>\n",
       "      <td>52</td>\n",
       "      <td>59.942955</td>\n",
       "      <td>-7.178585</td>\n",
       "      <td>0.494192</td>\n",
       "      <td>0.488107</td>\n",
       "      <td>480.829529</td>\n",
       "      <td>...</td>\n",
       "      <td>62.051479</td>\n",
       "      <td>100.000000</td>\n",
       "      <td>0.1975</td>\n",
       "      <td>61.308900</td>\n",
       "      <td>30.838837</td>\n",
       "      <td>2.571971</td>\n",
       "      <td>99.6</td>\n",
       "      <td>23</td>\n",
       "      <td>5.616998</td>\n",
       "      <td>61.111192</td>\n",
       "    </tr>\n",
       "    <tr>\n",
       "      <th>4</th>\n",
       "      <td>Argentina</td>\n",
       "      <td>32</td>\n",
       "      <td>ARG</td>\n",
       "      <td>2007</td>\n",
       "      <td>92</td>\n",
       "      <td>51.995552</td>\n",
       "      <td>-7.178585</td>\n",
       "      <td>6.997118</td>\n",
       "      <td>0.265608</td>\n",
       "      <td>421.549591</td>\n",
       "      <td>...</td>\n",
       "      <td>64.909729</td>\n",
       "      <td>12.938356</td>\n",
       "      <td>0.0050</td>\n",
       "      <td>18.062500</td>\n",
       "      <td>12.280000</td>\n",
       "      <td>1.103726</td>\n",
       "      <td>97.7</td>\n",
       "      <td>23</td>\n",
       "      <td>5.466403</td>\n",
       "      <td>58.557573</td>\n",
       "    </tr>\n",
       "  </tbody>\n",
       "</table>\n",
       "<p>5 rows × 97 columns</p>\n",
       "</div>"
      ],
      "text/plain": [
       "                country  isonum isocode  year  rank_educ       educ     qslnl  \\\n",
       "0           Afghanistan       4     AFG  2007        143  22.494400 -7.178585   \n",
       "1                Angola      24     AGO  2007        125  35.916668 -7.178585   \n",
       "2               Albania       8     ALB  2007         72  56.318413 -7.178585   \n",
       "3  United Arab Emirates     784     ARE  2007         52  59.942955 -7.178585   \n",
       "4             Argentina      32     ARG  2007         92  51.995552 -7.178585   \n",
       "\n",
       "     secvocp    teryrs    edqualsc  ...       envi   fwateruse  airpollution  \\\n",
       "0   0.714436  0.207426  337.589355  ...  39.293343   43.011665        0.1400   \n",
       "1  39.072861  0.099019  280.802673  ...  47.982162    0.476892        0.0250   \n",
       "2   7.345947  0.127648  425.420013  ...  51.049442    4.873606        0.2750   \n",
       "3   0.494192  0.488107  480.829529  ...  62.051479  100.000000        0.1975   \n",
       "4   6.997118  0.265608  421.549591  ...  64.909729   12.938356        0.0050   \n",
       "\n",
       "   wasterwater  fishstock  marineprotect  improved_drinkwater  pestreg  \\\n",
       "0     0.000000  35.323078      13.537368                 42.6        0   \n",
       "1     0.000000   4.500000       0.066623                 46.4        3   \n",
       "2     5.136225  37.099178       1.624084                 95.9        5   \n",
       "3    61.308900  30.838837       2.571971                 99.6       23   \n",
       "4    18.062500  12.280000       1.103726                 97.7       23   \n",
       "\n",
       "   terrestprotect  prosperity_score  \n",
       "0        0.366882         37.658975  \n",
       "1       12.399823         43.880780  \n",
       "2        9.804400         54.893284  \n",
       "3        5.616998         61.111192  \n",
       "4        5.466403         58.557573  \n",
       "\n",
       "[5 rows x 97 columns]"
      ]
     },
     "execution_count": 44,
     "metadata": {},
     "output_type": "execute_result"
    }
   ],
   "source": [
    "df = pd.read_csv('Data/merged.csv')\n",
    "df = df.drop(['Unnamed: 0'], axis = 1)\n",
    "df.head()"
   ]
  },
  {
   "cell_type": "code",
   "execution_count": 10,
   "id": "blind-coalition",
   "metadata": {},
   "outputs": [],
   "source": [
    "metrics = ['educ', 'soci', 'heal', 'pers', 'busi', 'econ', 'safe', 'gove', 'envi']\n",
    "ranks = ['rank_' + metric for metric in metrics]\n",
    "drop = metrics + ranks + ['year', 'prosperity_score']"
   ]
  },
  {
   "cell_type": "code",
   "execution_count": 4,
   "id": "decimal-individual",
   "metadata": {},
   "outputs": [],
   "source": [
    "y = df['prosperity_score']\n",
    "\n",
    "df = df.drop(drop, axis = 1)\n",
    "\n",
    "df = remove_low_information_features(df)\n",
    "\n",
    "df = remove_highly_null_features(df)\n",
    "\n",
    "df = remove_single_value_features(df)\n",
    "\n",
    "df = remove_highly_correlated_features(df)\n",
    "\n",
    "X = df"
   ]
  },
  {
   "cell_type": "code",
   "execution_count": 5,
   "id": "purple-lawrence",
   "metadata": {},
   "outputs": [
    {
     "data": {
      "text/html": [
       "<div>\n",
       "<style scoped>\n",
       "    .dataframe tbody tr th:only-of-type {\n",
       "        vertical-align: middle;\n",
       "    }\n",
       "\n",
       "    .dataframe tbody tr th {\n",
       "        vertical-align: top;\n",
       "    }\n",
       "\n",
       "    .dataframe thead th {\n",
       "        text-align: right;\n",
       "    }\n",
       "</style>\n",
       "<table border=\"1\" class=\"dataframe\">\n",
       "  <thead>\n",
       "    <tr style=\"text-align: right;\">\n",
       "      <th></th>\n",
       "      <th>percent_missing</th>\n",
       "    </tr>\n",
       "  </thead>\n",
       "  <tbody>\n",
       "    <tr>\n",
       "      <th>country</th>\n",
       "      <td>0.0</td>\n",
       "    </tr>\n",
       "    <tr>\n",
       "      <th>isonum</th>\n",
       "      <td>0.0</td>\n",
       "    </tr>\n",
       "    <tr>\n",
       "      <th>isocode</th>\n",
       "      <td>0.0</td>\n",
       "    </tr>\n",
       "    <tr>\n",
       "      <th>qslnl</th>\n",
       "      <td>0.0</td>\n",
       "    </tr>\n",
       "    <tr>\n",
       "      <th>secvocp</th>\n",
       "      <td>0.0</td>\n",
       "    </tr>\n",
       "    <tr>\n",
       "      <th>...</th>\n",
       "      <td>...</td>\n",
       "    </tr>\n",
       "    <tr>\n",
       "      <th>fishstock</th>\n",
       "      <td>0.0</td>\n",
       "    </tr>\n",
       "    <tr>\n",
       "      <th>marineprotect</th>\n",
       "      <td>0.0</td>\n",
       "    </tr>\n",
       "    <tr>\n",
       "      <th>improved_drinkwater</th>\n",
       "      <td>0.0</td>\n",
       "    </tr>\n",
       "    <tr>\n",
       "      <th>pestreg</th>\n",
       "      <td>0.0</td>\n",
       "    </tr>\n",
       "    <tr>\n",
       "      <th>terrestprotect</th>\n",
       "      <td>0.0</td>\n",
       "    </tr>\n",
       "  </tbody>\n",
       "</table>\n",
       "<p>76 rows × 1 columns</p>\n",
       "</div>"
      ],
      "text/plain": [
       "                     percent_missing\n",
       "country                          0.0\n",
       "isonum                           0.0\n",
       "isocode                          0.0\n",
       "qslnl                            0.0\n",
       "secvocp                          0.0\n",
       "...                              ...\n",
       "fishstock                        0.0\n",
       "marineprotect                    0.0\n",
       "improved_drinkwater              0.0\n",
       "pestreg                          0.0\n",
       "terrestprotect                   0.0\n",
       "\n",
       "[76 rows x 1 columns]"
      ]
     },
     "execution_count": 5,
     "metadata": {},
     "output_type": "execute_result"
    }
   ],
   "source": [
    "percent_missing = df.isnull().sum() * 100 / len(df)\n",
    "missing_value_df = pd.DataFrame({'percent_missing': percent_missing})\n",
    "missing_value_df"
   ]
  },
  {
   "cell_type": "code",
   "execution_count": 76,
   "id": "together-ability",
   "metadata": {},
   "outputs": [
    {
     "name": "stdout",
     "output_type": "stream",
     "text": [
      "Using default limit of max_batches=1.\n",
      "\n",
      "Generating pipelines to search over...\n"
     ]
    }
   ],
   "source": [
    "problem_type = 'regression'\n",
    "objective =  'auto'\n",
    "\n",
    "X_train, X_test, y_train, y_test = train_test_split(X, y, test_size=0.25, random_state=42, stratify = X['country'])\n",
    "\n",
    "\n",
    "automl = evalml.automl.AutoMLSearch(X_train, y_train, problem_type=problem_type, objective = objective)"
   ]
  },
  {
   "cell_type": "code",
   "execution_count": 77,
   "id": "parallel-eleven",
   "metadata": {},
   "outputs": [
    {
     "name": "stdout",
     "output_type": "stream",
     "text": [
      "*****************************\n",
      "* Beginning pipeline search *\n",
      "*****************************\n",
      "\n",
      "Optimizing for R2. \n",
      "Greater score is better.\n",
      "\n",
      "Using SequentialEngine to train and score pipelines.\n",
      "Searching up to 1 batches for a total of 9 pipelines. \n",
      "Allowed model families: random_forest, lightgbm, linear_model, decision_tree, extra_trees, xgboost, catboost\n",
      "\n"
     ]
    },
    {
     "data": {
      "application/vnd.jupyter.widget-view+json": {
       "model_id": "52a13b28747445daa0b2115ac093914e",
       "version_major": 2,
       "version_minor": 0
      },
      "text/plain": [
       "FigureWidget({\n",
       "    'data': [{'mode': 'lines+markers',\n",
       "              'name': 'Best Score',\n",
       "              'type'…"
      ]
     },
     "metadata": {},
     "output_type": "display_data"
    },
    {
     "name": "stdout",
     "output_type": "stream",
     "text": [
      "Batch 1: (1/9) Mean Baseline Regression Pipeline        Elapsed:00:00\n",
      "\tStarting cross validation\n",
      "\tFinished cross validation - mean R2: -0.002\n",
      "High coefficient of variation (cv >= 0.2) within cross validation scores. Mean Baseline Regression Pipeline may not perform as estimated on unseen data.\n",
      "Batch 1: (2/9) Decision Tree Regressor w/ Imputer + ... Elapsed:00:00\n",
      "\tStarting cross validation\n",
      "\tFinished cross validation - mean R2: 0.949\n",
      "Batch 1: (3/9) Extra Trees Regressor w/ Imputer + On... Elapsed:00:02\n",
      "\tStarting cross validation\n",
      "\tFinished cross validation - mean R2: 0.982\n",
      "Batch 1: (4/9) XGBoost Regressor w/ Imputer + One Ho... Elapsed:00:05\n",
      "\tStarting cross validation\n",
      "\tFinished cross validation - mean R2: 0.988\n",
      "Batch 1: (5/9) CatBoost Regressor w/ Imputer            Elapsed:00:08\n",
      "\tStarting cross validation\n",
      "\tFinished cross validation - mean R2: 0.359\n",
      "Batch 1: (6/9) Random Forest Regressor w/ Imputer + ... Elapsed:00:11\n",
      "\tStarting cross validation\n",
      "\tFinished cross validation - mean R2: 0.977\n",
      "Batch 1: (7/9) LightGBM Regressor w/ Imputer + One H... Elapsed:00:14\n",
      "\tStarting cross validation\n",
      "\tFinished cross validation - mean R2: 0.963\n",
      "Batch 1: (8/9) Linear Regressor w/ Imputer + One Hot... Elapsed:00:17\n",
      "\tStarting cross validation\n",
      "\tFinished cross validation - mean R2: 0.988\n",
      "Batch 1: (9/9) Elastic Net Regressor w/ Imputer + On... Elapsed:00:19\n",
      "\tStarting cross validation\n",
      "\tFinished cross validation - mean R2: 0.978\n",
      "\n",
      "Search finished after 00:22            \n",
      "Best pipeline: Linear Regressor w/ Imputer + One Hot Encoder + Standard Scaler\n",
      "Best pipeline R2: 0.988256\n"
     ]
    }
   ],
   "source": [
    "automl.search()"
   ]
  },
  {
   "cell_type": "code",
   "execution_count": 78,
   "id": "based-reason",
   "metadata": {},
   "outputs": [
    {
     "data": {
      "text/html": [
       "<div>\n",
       "<style scoped>\n",
       "    .dataframe tbody tr th:only-of-type {\n",
       "        vertical-align: middle;\n",
       "    }\n",
       "\n",
       "    .dataframe tbody tr th {\n",
       "        vertical-align: top;\n",
       "    }\n",
       "\n",
       "    .dataframe thead th {\n",
       "        text-align: right;\n",
       "    }\n",
       "</style>\n",
       "<table border=\"1\" class=\"dataframe\">\n",
       "  <thead>\n",
       "    <tr style=\"text-align: right;\">\n",
       "      <th></th>\n",
       "      <th>id</th>\n",
       "      <th>pipeline_name</th>\n",
       "      <th>score</th>\n",
       "      <th>validation_score</th>\n",
       "      <th>percent_better_than_baseline</th>\n",
       "      <th>high_variance_cv</th>\n",
       "      <th>parameters</th>\n",
       "    </tr>\n",
       "  </thead>\n",
       "  <tbody>\n",
       "    <tr>\n",
       "      <th>0</th>\n",
       "      <td>7</td>\n",
       "      <td>Linear Regressor w/ Imputer + One Hot Encoder ...</td>\n",
       "      <td>0.988256</td>\n",
       "      <td>0.988311</td>\n",
       "      <td>64078.516416</td>\n",
       "      <td>False</td>\n",
       "      <td>{'Imputer': {'categorical_impute_strategy': 'm...</td>\n",
       "    </tr>\n",
       "    <tr>\n",
       "      <th>1</th>\n",
       "      <td>3</td>\n",
       "      <td>XGBoost Regressor w/ Imputer + One Hot Encoder</td>\n",
       "      <td>0.987822</td>\n",
       "      <td>0.990458</td>\n",
       "      <td>64050.424662</td>\n",
       "      <td>False</td>\n",
       "      <td>{'Imputer': {'categorical_impute_strategy': 'm...</td>\n",
       "    </tr>\n",
       "    <tr>\n",
       "      <th>2</th>\n",
       "      <td>2</td>\n",
       "      <td>Extra Trees Regressor w/ Imputer + One Hot Enc...</td>\n",
       "      <td>0.982336</td>\n",
       "      <td>0.984813</td>\n",
       "      <td>63695.316288</td>\n",
       "      <td>False</td>\n",
       "      <td>{'Imputer': {'categorical_impute_strategy': 'm...</td>\n",
       "    </tr>\n",
       "    <tr>\n",
       "      <th>3</th>\n",
       "      <td>8</td>\n",
       "      <td>Elastic Net Regressor w/ Imputer + One Hot Enc...</td>\n",
       "      <td>0.977581</td>\n",
       "      <td>0.980287</td>\n",
       "      <td>63387.484278</td>\n",
       "      <td>False</td>\n",
       "      <td>{'Imputer': {'categorical_impute_strategy': 'm...</td>\n",
       "    </tr>\n",
       "    <tr>\n",
       "      <th>4</th>\n",
       "      <td>5</td>\n",
       "      <td>Random Forest Regressor w/ Imputer + One Hot E...</td>\n",
       "      <td>0.977354</td>\n",
       "      <td>0.984730</td>\n",
       "      <td>63372.741029</td>\n",
       "      <td>False</td>\n",
       "      <td>{'Imputer': {'categorical_impute_strategy': 'm...</td>\n",
       "    </tr>\n",
       "    <tr>\n",
       "      <th>5</th>\n",
       "      <td>6</td>\n",
       "      <td>LightGBM Regressor w/ Imputer + One Hot Encoder</td>\n",
       "      <td>0.963305</td>\n",
       "      <td>0.965734</td>\n",
       "      <td>62463.267444</td>\n",
       "      <td>False</td>\n",
       "      <td>{'Imputer': {'categorical_impute_strategy': 'm...</td>\n",
       "    </tr>\n",
       "    <tr>\n",
       "      <th>6</th>\n",
       "      <td>1</td>\n",
       "      <td>Decision Tree Regressor w/ Imputer + One Hot E...</td>\n",
       "      <td>0.949184</td>\n",
       "      <td>0.954437</td>\n",
       "      <td>61549.044124</td>\n",
       "      <td>False</td>\n",
       "      <td>{'Imputer': {'categorical_impute_strategy': 'm...</td>\n",
       "    </tr>\n",
       "    <tr>\n",
       "      <th>7</th>\n",
       "      <td>4</td>\n",
       "      <td>CatBoost Regressor w/ Imputer</td>\n",
       "      <td>0.358700</td>\n",
       "      <td>0.355857</td>\n",
       "      <td>23321.847482</td>\n",
       "      <td>False</td>\n",
       "      <td>{'Imputer': {'categorical_impute_strategy': 'm...</td>\n",
       "    </tr>\n",
       "    <tr>\n",
       "      <th>8</th>\n",
       "      <td>0</td>\n",
       "      <td>Mean Baseline Regression Pipeline</td>\n",
       "      <td>-0.001545</td>\n",
       "      <td>-0.002994</td>\n",
       "      <td>0.000000</td>\n",
       "      <td>True</td>\n",
       "      <td>{'Baseline Regressor': {'strategy': 'mean'}}</td>\n",
       "    </tr>\n",
       "  </tbody>\n",
       "</table>\n",
       "</div>"
      ],
      "text/plain": [
       "   id                                      pipeline_name     score  \\\n",
       "0   7  Linear Regressor w/ Imputer + One Hot Encoder ...  0.988256   \n",
       "1   3     XGBoost Regressor w/ Imputer + One Hot Encoder  0.987822   \n",
       "2   2  Extra Trees Regressor w/ Imputer + One Hot Enc...  0.982336   \n",
       "3   8  Elastic Net Regressor w/ Imputer + One Hot Enc...  0.977581   \n",
       "4   5  Random Forest Regressor w/ Imputer + One Hot E...  0.977354   \n",
       "5   6    LightGBM Regressor w/ Imputer + One Hot Encoder  0.963305   \n",
       "6   1  Decision Tree Regressor w/ Imputer + One Hot E...  0.949184   \n",
       "7   4                      CatBoost Regressor w/ Imputer  0.358700   \n",
       "8   0                  Mean Baseline Regression Pipeline -0.001545   \n",
       "\n",
       "   validation_score  percent_better_than_baseline  high_variance_cv  \\\n",
       "0          0.988311                  64078.516416             False   \n",
       "1          0.990458                  64050.424662             False   \n",
       "2          0.984813                  63695.316288             False   \n",
       "3          0.980287                  63387.484278             False   \n",
       "4          0.984730                  63372.741029             False   \n",
       "5          0.965734                  62463.267444             False   \n",
       "6          0.954437                  61549.044124             False   \n",
       "7          0.355857                  23321.847482             False   \n",
       "8         -0.002994                      0.000000              True   \n",
       "\n",
       "                                          parameters  \n",
       "0  {'Imputer': {'categorical_impute_strategy': 'm...  \n",
       "1  {'Imputer': {'categorical_impute_strategy': 'm...  \n",
       "2  {'Imputer': {'categorical_impute_strategy': 'm...  \n",
       "3  {'Imputer': {'categorical_impute_strategy': 'm...  \n",
       "4  {'Imputer': {'categorical_impute_strategy': 'm...  \n",
       "5  {'Imputer': {'categorical_impute_strategy': 'm...  \n",
       "6  {'Imputer': {'categorical_impute_strategy': 'm...  \n",
       "7  {'Imputer': {'categorical_impute_strategy': 'm...  \n",
       "8       {'Baseline Regressor': {'strategy': 'mean'}}  "
      ]
     },
     "execution_count": 78,
     "metadata": {},
     "output_type": "execute_result"
    }
   ],
   "source": [
    "automl.rankings"
   ]
  },
  {
   "cell_type": "code",
   "execution_count": 79,
   "id": "internal-right",
   "metadata": {},
   "outputs": [],
   "source": [
    "best_pipeline = automl.best_pipeline\n",
    "imp = best_pipeline.feature_importance\n",
    "best_pipeline.save('prosperity_best_pipeline')"
   ]
  },
  {
   "cell_type": "code",
   "execution_count": 80,
   "id": "sonic-proposal",
   "metadata": {},
   "outputs": [],
   "source": [
    "best_pipeline = automl.load('prosperity_best_pipeline')"
   ]
  },
  {
   "cell_type": "code",
   "execution_count": 81,
   "id": "female-husband",
   "metadata": {},
   "outputs": [
    {
     "data": {
      "image/svg+xml": [
       "<?xml version=\"1.0\" encoding=\"UTF-8\" standalone=\"no\"?>\r\n",
       "<!DOCTYPE svg PUBLIC \"-//W3C//DTD SVG 1.1//EN\"\r\n",
       " \"http://www.w3.org/Graphics/SVG/1.1/DTD/svg11.dtd\">\r\n",
       "<!-- Generated by graphviz version 2.38.0 (20140413.2041)\r\n",
       " -->\r\n",
       "<!-- Title: %3 Pages: 1 -->\r\n",
       "<svg width=\"772pt\" height=\"130pt\"\r\n",
       " viewBox=\"0.00 0.00 772.00 130.00\" xmlns=\"http://www.w3.org/2000/svg\" xmlns:xlink=\"http://www.w3.org/1999/xlink\">\r\n",
       "<g id=\"graph0\" class=\"graph\" transform=\"scale(1 1) rotate(0) translate(4 126)\">\r\n",
       "<title>%3</title>\r\n",
       "<polygon fill=\"white\" stroke=\"none\" points=\"-4,4 -4,-126 768,-126 768,4 -4,4\"/>\r\n",
       "<!-- Imputer -->\r\n",
       "<g id=\"node1\" class=\"node\"><title>Imputer</title>\r\n",
       "<polygon fill=\"none\" stroke=\"black\" points=\"0,-15.5 0,-106.5 264,-106.5 264,-15.5 0,-15.5\"/>\r\n",
       "<text text-anchor=\"middle\" x=\"132\" y=\"-91.3\" font-family=\"Times New Roman,serif\" font-size=\"14.00\">Imputer</text>\r\n",
       "<polyline fill=\"none\" stroke=\"black\" points=\"0,-83.5 264,-83.5 \"/>\r\n",
       "<text text-anchor=\"start\" x=\"8\" y=\"-68.3\" font-family=\"Times New Roman,serif\" font-size=\"14.00\">categorical_impute_strategy : most_frequent</text>\r\n",
       "<text text-anchor=\"start\" x=\"8\" y=\"-53.3\" font-family=\"Times New Roman,serif\" font-size=\"14.00\">numeric_impute_strategy : mean</text>\r\n",
       "<text text-anchor=\"start\" x=\"8\" y=\"-38.3\" font-family=\"Times New Roman,serif\" font-size=\"14.00\">categorical_fill_value : None</text>\r\n",
       "<text text-anchor=\"start\" x=\"8\" y=\"-23.3\" font-family=\"Times New Roman,serif\" font-size=\"14.00\">numeric_fill_value : None</text>\r\n",
       "</g>\r\n",
       "<!-- One Hot Encoder -->\r\n",
       "<g id=\"node2\" class=\"node\"><title>One Hot Encoder</title>\r\n",
       "<polygon fill=\"none\" stroke=\"black\" points=\"300,-0.5 300,-121.5 467,-121.5 467,-0.5 300,-0.5\"/>\r\n",
       "<text text-anchor=\"middle\" x=\"383.5\" y=\"-106.3\" font-family=\"Times New Roman,serif\" font-size=\"14.00\">One Hot Encoder</text>\r\n",
       "<polyline fill=\"none\" stroke=\"black\" points=\"300,-98.5 467,-98.5 \"/>\r\n",
       "<text text-anchor=\"start\" x=\"308\" y=\"-83.3\" font-family=\"Times New Roman,serif\" font-size=\"14.00\">top_n : 10</text>\r\n",
       "<text text-anchor=\"start\" x=\"308\" y=\"-68.3\" font-family=\"Times New Roman,serif\" font-size=\"14.00\">features_to_encode : None</text>\r\n",
       "<text text-anchor=\"start\" x=\"308\" y=\"-53.3\" font-family=\"Times New Roman,serif\" font-size=\"14.00\">categories : None</text>\r\n",
       "<text text-anchor=\"start\" x=\"308\" y=\"-38.3\" font-family=\"Times New Roman,serif\" font-size=\"14.00\">drop : None</text>\r\n",
       "<text text-anchor=\"start\" x=\"308\" y=\"-23.3\" font-family=\"Times New Roman,serif\" font-size=\"14.00\">handle_unknown : ignore</text>\r\n",
       "<text text-anchor=\"start\" x=\"308\" y=\"-8.3\" font-family=\"Times New Roman,serif\" font-size=\"14.00\">handle_missing : error</text>\r\n",
       "</g>\r\n",
       "<!-- Imputer&#45;&gt;One Hot Encoder -->\r\n",
       "<g id=\"edge1\" class=\"edge\"><title>Imputer&#45;&gt;One Hot Encoder</title>\r\n",
       "<path fill=\"none\" stroke=\"black\" d=\"M264.011,-61C264.011,-61 289.957,-61 289.957,-61\"/>\r\n",
       "<polygon fill=\"black\" stroke=\"black\" points=\"289.957,-64.5001 299.957,-61 289.957,-57.5001 289.957,-64.5001\"/>\r\n",
       "</g>\r\n",
       "<!-- Standard Scaler -->\r\n",
       "<g id=\"node3\" class=\"node\"><title>Standard Scaler</title>\r\n",
       "<polygon fill=\"none\" stroke=\"black\" points=\"503,-37.5 503,-84.5 608,-84.5 608,-37.5 503,-37.5\"/>\r\n",
       "<text text-anchor=\"middle\" x=\"555.5\" y=\"-69.3\" font-family=\"Times New Roman,serif\" font-size=\"14.00\">Standard Scaler</text>\r\n",
       "<polyline fill=\"none\" stroke=\"black\" points=\"503,-61.5 608,-61.5 \"/>\r\n",
       "</g>\r\n",
       "<!-- One Hot Encoder&#45;&gt;Standard Scaler -->\r\n",
       "<g id=\"edge2\" class=\"edge\"><title>One Hot Encoder&#45;&gt;Standard Scaler</title>\r\n",
       "<path fill=\"none\" stroke=\"black\" d=\"M467.233,-61C467.233,-61 492.842,-61 492.842,-61\"/>\r\n",
       "<polygon fill=\"black\" stroke=\"black\" points=\"492.842,-64.5001 502.842,-61 492.842,-57.5001 492.842,-64.5001\"/>\r\n",
       "</g>\r\n",
       "<!-- Linear Regressor -->\r\n",
       "<g id=\"node4\" class=\"node\"><title>Linear Regressor</title>\r\n",
       "<polygon fill=\"none\" stroke=\"black\" points=\"644,-23 644,-99 764,-99 764,-23 644,-23\"/>\r\n",
       "<text text-anchor=\"middle\" x=\"704\" y=\"-83.8\" font-family=\"Times New Roman,serif\" font-size=\"14.00\">Linear Regressor</text>\r\n",
       "<polyline fill=\"none\" stroke=\"black\" points=\"644,-76 764,-76 \"/>\r\n",
       "<text text-anchor=\"start\" x=\"652\" y=\"-60.8\" font-family=\"Times New Roman,serif\" font-size=\"14.00\">fit_intercept : True</text>\r\n",
       "<text text-anchor=\"start\" x=\"652\" y=\"-45.8\" font-family=\"Times New Roman,serif\" font-size=\"14.00\">normalize : False</text>\r\n",
       "<text text-anchor=\"start\" x=\"652\" y=\"-30.8\" font-family=\"Times New Roman,serif\" font-size=\"14.00\">n_jobs : &#45;1</text>\r\n",
       "</g>\r\n",
       "<!-- Standard Scaler&#45;&gt;Linear Regressor -->\r\n",
       "<g id=\"edge3\" class=\"edge\"><title>Standard Scaler&#45;&gt;Linear Regressor</title>\r\n",
       "<path fill=\"none\" stroke=\"black\" d=\"M608.274,-61C608.274,-61 633.803,-61 633.803,-61\"/>\r\n",
       "<polygon fill=\"black\" stroke=\"black\" points=\"633.803,-64.5001 643.803,-61 633.803,-57.5001 633.803,-64.5001\"/>\r\n",
       "</g>\r\n",
       "</g>\r\n",
       "</svg>\r\n"
      ],
      "text/plain": [
       "<graphviz.dot.Digraph at 0x155c7464130>"
      ]
     },
     "execution_count": 81,
     "metadata": {},
     "output_type": "execute_result"
    }
   ],
   "source": [
    "best_pipeline.graph()"
   ]
  },
  {
   "cell_type": "code",
   "execution_count": 82,
   "id": "major-horse",
   "metadata": {},
   "outputs": [
    {
     "data": {
      "text/html": [
       "<div>\n",
       "<style scoped>\n",
       "    .dataframe tbody tr th:only-of-type {\n",
       "        vertical-align: middle;\n",
       "    }\n",
       "\n",
       "    .dataframe tbody tr th {\n",
       "        vertical-align: top;\n",
       "    }\n",
       "\n",
       "    .dataframe thead th {\n",
       "        text-align: right;\n",
       "    }\n",
       "</style>\n",
       "<table border=\"1\" class=\"dataframe\">\n",
       "  <thead>\n",
       "    <tr style=\"text-align: right;\">\n",
       "      <th></th>\n",
       "      <th>feature</th>\n",
       "      <th>importance</th>\n",
       "    </tr>\n",
       "  </thead>\n",
       "  <tbody>\n",
       "    <tr>\n",
       "      <th>0</th>\n",
       "      <td>isocode_NGA</td>\n",
       "      <td>-6.453449e+11</td>\n",
       "    </tr>\n",
       "    <tr>\n",
       "      <th>1</th>\n",
       "      <td>country_Nigeria</td>\n",
       "      <td>6.453449e+11</td>\n",
       "    </tr>\n",
       "    <tr>\n",
       "      <th>2</th>\n",
       "      <td>isocode_THA</td>\n",
       "      <td>2.749061e+11</td>\n",
       "    </tr>\n",
       "    <tr>\n",
       "      <th>3</th>\n",
       "      <td>country_Thailand</td>\n",
       "      <td>-2.749061e+11</td>\n",
       "    </tr>\n",
       "    <tr>\n",
       "      <th>4</th>\n",
       "      <td>country_Cyprus</td>\n",
       "      <td>1.625626e+11</td>\n",
       "    </tr>\n",
       "    <tr>\n",
       "      <th>...</th>\n",
       "      <td>...</td>\n",
       "      <td>...</td>\n",
       "    </tr>\n",
       "    <tr>\n",
       "      <th>89</th>\n",
       "      <td>isocode_SCG</td>\n",
       "      <td>2.421050e-02</td>\n",
       "    </tr>\n",
       "    <tr>\n",
       "      <th>90</th>\n",
       "      <td>isocode_MDG</td>\n",
       "      <td>-1.473692e-02</td>\n",
       "    </tr>\n",
       "    <tr>\n",
       "      <th>91</th>\n",
       "      <td>country_Tajikistan</td>\n",
       "      <td>-8.091358e-03</td>\n",
       "    </tr>\n",
       "    <tr>\n",
       "      <th>92</th>\n",
       "      <td>polity2</td>\n",
       "      <td>-6.682241e-03</td>\n",
       "    </tr>\n",
       "    <tr>\n",
       "      <th>93</th>\n",
       "      <td>country_Mauritania</td>\n",
       "      <td>1.688004e-03</td>\n",
       "    </tr>\n",
       "  </tbody>\n",
       "</table>\n",
       "<p>94 rows × 2 columns</p>\n",
       "</div>"
      ],
      "text/plain": [
       "               feature    importance\n",
       "0          isocode_NGA -6.453449e+11\n",
       "1      country_Nigeria  6.453449e+11\n",
       "2          isocode_THA  2.749061e+11\n",
       "3     country_Thailand -2.749061e+11\n",
       "4       country_Cyprus  1.625626e+11\n",
       "..                 ...           ...\n",
       "89         isocode_SCG  2.421050e-02\n",
       "90         isocode_MDG -1.473692e-02\n",
       "91  country_Tajikistan -8.091358e-03\n",
       "92             polity2 -6.682241e-03\n",
       "93  country_Mauritania  1.688004e-03\n",
       "\n",
       "[94 rows x 2 columns]"
      ]
     },
     "execution_count": 82,
     "metadata": {},
     "output_type": "execute_result"
    }
   ],
   "source": [
    "best_pipeline.feature_importance"
   ]
  },
  {
   "cell_type": "code",
   "execution_count": 83,
   "id": "surgical-objective",
   "metadata": {},
   "outputs": [
    {
     "data": {
      "application/vnd.plotly.v1+json": {
       "config": {
        "plotlyServerURL": "https://plot.ly"
       },
       "data": [
        {
         "orientation": "h",
         "type": "bar",
         "x": [
          0.001688004129110618,
          0.006682241113767945,
          0.008091357933751375,
          0.01473691698167881,
          0.02421050374464384,
          0.036673847459171516,
          0.040699602804608714,
          0.043108235596878756,
          0.05076185369354061,
          0.06161722580843748,
          0.06395753933668892,
          0.07046283804798581,
          0.07242004974506278,
          0.07407215050972872,
          0.0790310514546737,
          0.07923175442610397,
          0.08318229112283748,
          0.08490070797434407,
          0.08966325030214968,
          0.0904575876802532,
          0.0975150681817431,
          0.10716250233853211,
          0.11351322553866704,
          0.11463224210524675,
          0.11969090591668788,
          0.11975873940269938,
          0.12135460940670392,
          0.12857049194752693,
          0.1300590470768674,
          0.13051236226129825,
          0.1397368653856709,
          0.1430314997324633,
          0.15320375996670665,
          0.15369309693838373,
          0.16949731643465304,
          0.17287868176862786,
          0.17759555124341989,
          0.17810164509543017,
          0.1874436925462572,
          0.1935825954711016,
          0.1965872982841229,
          0.20985947796797175,
          0.21038166899169314,
          0.21878720072863198,
          0.22677872298604518,
          0.23845812106172745,
          0.23882792374648878,
          0.24923930179801715,
          0.27174264159738654,
          0.27457313641466846,
          0.2923942778598423,
          0.30515542948547514,
          0.305859319434097,
          0.30775816343843865,
          0.3091969482501816,
          0.3223656368273279,
          0.32291381359749016,
          0.344507960032454,
          0.35276253046879635,
          0.3684727859901028,
          0.3773332370740799,
          0.3911832091268292,
          0.3933153500624439,
          0.39345621174701917,
          0.3955628421077154,
          0.39588407482860166,
          0.40024436328518687,
          0.4173973820694975,
          0.41772275710197704,
          0.43156138882403133,
          0.44743986750861,
          0.4496363290287272,
          0.45938222153467073,
          0.4717051891774062,
          0.47601276603268183,
          0.476699955309819,
          0.5050421828986429,
          0.5060786361763359,
          0.5111270932999993,
          0.5611656099430746,
          0.5907283585150682,
          0.5913653471837009,
          0.6142613413372565,
          0.6941520386035747,
          0.7013174309501353,
          0.8170446987767495,
          1.0019328680558244,
          1.435961887902275,
          162562561508.65344,
          162562561508.71362,
          274906053921.20917,
          274906053921.34674,
          645344928761.079,
          645344928761.2034
         ],
         "y": [
          "country_Mauritania",
          "polity2",
          "country_Tajikistan",
          "isocode_MDG",
          "isocode_SCG",
          "country_Slovakia",
          "secyrs",
          "country_Spain",
          "tdeathslnl5",
          "mort",
          "litaf",
          "rrsoc",
          "trang",
          "country_Georgia",
          "secvocp",
          "isocode_TZA",
          "bband",
          "gdp5",
          "country_Norway",
          "ippr",
          "wasterwater",
          "vapvt",
          "isonum",
          "country_Uganda",
          "isocode_NIC",
          "elcostlnl",
          "isocode_GAB",
          "barrier",
          "isocode_SLE",
          "terrestprotect",
          "rdeathslnl",
          "prcompc",
          "hifi",
          "bdeathslnl",
          "creddtf",
          "logis",
          "womenparl",
          "redu",
          "teryrs",
          "eqi",
          "civlib",
          "banka",
          "amp",
          "isocode_TCD",
          "pts",
          "propright",
          "Obesity",
          "rrgov",
          "gbrata",
          "elfcr",
          "warcasual",
          "lityf",
          "homilnl",
          "fishstock",
          "pf",
          "impsan",
          "marineprotect",
          "povnahc",
          "stardtf",
          "imeas",
          "parfem",
          "Ginih15",
          "urate",
          "meandiabetes",
          "vtf",
          "edi",
          "improved_drinkwater",
          "insdtf",
          "edqualsc",
          "pestreg",
          "affs",
          "conscription",
          "ticpi",
          "lgbt_rights",
          "airpollution",
          "rqual",
          "povdday",
          "qslnl",
          "lfpr",
          "dpt",
          "polrights",
          "deathpen",
          "refugee_oriln",
          "leb",
          "fwateruse",
          "tblnl",
          "judi",
          "geff",
          "isocode_CYP",
          "country_Cyprus",
          "country_Thailand",
          "isocode_THA",
          "country_Nigeria",
          "isocode_NGA"
         ]
        }
       ],
       "layout": {
        "height": 800,
        "template": {
         "data": {
          "bar": [
           {
            "error_x": {
             "color": "#2a3f5f"
            },
            "error_y": {
             "color": "#2a3f5f"
            },
            "marker": {
             "line": {
              "color": "#E5ECF6",
              "width": 0.5
             }
            },
            "type": "bar"
           }
          ],
          "barpolar": [
           {
            "marker": {
             "line": {
              "color": "#E5ECF6",
              "width": 0.5
             }
            },
            "type": "barpolar"
           }
          ],
          "carpet": [
           {
            "aaxis": {
             "endlinecolor": "#2a3f5f",
             "gridcolor": "white",
             "linecolor": "white",
             "minorgridcolor": "white",
             "startlinecolor": "#2a3f5f"
            },
            "baxis": {
             "endlinecolor": "#2a3f5f",
             "gridcolor": "white",
             "linecolor": "white",
             "minorgridcolor": "white",
             "startlinecolor": "#2a3f5f"
            },
            "type": "carpet"
           }
          ],
          "choropleth": [
           {
            "colorbar": {
             "outlinewidth": 0,
             "ticks": ""
            },
            "type": "choropleth"
           }
          ],
          "contour": [
           {
            "colorbar": {
             "outlinewidth": 0,
             "ticks": ""
            },
            "colorscale": [
             [
              0,
              "#0d0887"
             ],
             [
              0.1111111111111111,
              "#46039f"
             ],
             [
              0.2222222222222222,
              "#7201a8"
             ],
             [
              0.3333333333333333,
              "#9c179e"
             ],
             [
              0.4444444444444444,
              "#bd3786"
             ],
             [
              0.5555555555555556,
              "#d8576b"
             ],
             [
              0.6666666666666666,
              "#ed7953"
             ],
             [
              0.7777777777777778,
              "#fb9f3a"
             ],
             [
              0.8888888888888888,
              "#fdca26"
             ],
             [
              1,
              "#f0f921"
             ]
            ],
            "type": "contour"
           }
          ],
          "contourcarpet": [
           {
            "colorbar": {
             "outlinewidth": 0,
             "ticks": ""
            },
            "type": "contourcarpet"
           }
          ],
          "heatmap": [
           {
            "colorbar": {
             "outlinewidth": 0,
             "ticks": ""
            },
            "colorscale": [
             [
              0,
              "#0d0887"
             ],
             [
              0.1111111111111111,
              "#46039f"
             ],
             [
              0.2222222222222222,
              "#7201a8"
             ],
             [
              0.3333333333333333,
              "#9c179e"
             ],
             [
              0.4444444444444444,
              "#bd3786"
             ],
             [
              0.5555555555555556,
              "#d8576b"
             ],
             [
              0.6666666666666666,
              "#ed7953"
             ],
             [
              0.7777777777777778,
              "#fb9f3a"
             ],
             [
              0.8888888888888888,
              "#fdca26"
             ],
             [
              1,
              "#f0f921"
             ]
            ],
            "type": "heatmap"
           }
          ],
          "heatmapgl": [
           {
            "colorbar": {
             "outlinewidth": 0,
             "ticks": ""
            },
            "colorscale": [
             [
              0,
              "#0d0887"
             ],
             [
              0.1111111111111111,
              "#46039f"
             ],
             [
              0.2222222222222222,
              "#7201a8"
             ],
             [
              0.3333333333333333,
              "#9c179e"
             ],
             [
              0.4444444444444444,
              "#bd3786"
             ],
             [
              0.5555555555555556,
              "#d8576b"
             ],
             [
              0.6666666666666666,
              "#ed7953"
             ],
             [
              0.7777777777777778,
              "#fb9f3a"
             ],
             [
              0.8888888888888888,
              "#fdca26"
             ],
             [
              1,
              "#f0f921"
             ]
            ],
            "type": "heatmapgl"
           }
          ],
          "histogram": [
           {
            "marker": {
             "colorbar": {
              "outlinewidth": 0,
              "ticks": ""
             }
            },
            "type": "histogram"
           }
          ],
          "histogram2d": [
           {
            "colorbar": {
             "outlinewidth": 0,
             "ticks": ""
            },
            "colorscale": [
             [
              0,
              "#0d0887"
             ],
             [
              0.1111111111111111,
              "#46039f"
             ],
             [
              0.2222222222222222,
              "#7201a8"
             ],
             [
              0.3333333333333333,
              "#9c179e"
             ],
             [
              0.4444444444444444,
              "#bd3786"
             ],
             [
              0.5555555555555556,
              "#d8576b"
             ],
             [
              0.6666666666666666,
              "#ed7953"
             ],
             [
              0.7777777777777778,
              "#fb9f3a"
             ],
             [
              0.8888888888888888,
              "#fdca26"
             ],
             [
              1,
              "#f0f921"
             ]
            ],
            "type": "histogram2d"
           }
          ],
          "histogram2dcontour": [
           {
            "colorbar": {
             "outlinewidth": 0,
             "ticks": ""
            },
            "colorscale": [
             [
              0,
              "#0d0887"
             ],
             [
              0.1111111111111111,
              "#46039f"
             ],
             [
              0.2222222222222222,
              "#7201a8"
             ],
             [
              0.3333333333333333,
              "#9c179e"
             ],
             [
              0.4444444444444444,
              "#bd3786"
             ],
             [
              0.5555555555555556,
              "#d8576b"
             ],
             [
              0.6666666666666666,
              "#ed7953"
             ],
             [
              0.7777777777777778,
              "#fb9f3a"
             ],
             [
              0.8888888888888888,
              "#fdca26"
             ],
             [
              1,
              "#f0f921"
             ]
            ],
            "type": "histogram2dcontour"
           }
          ],
          "mesh3d": [
           {
            "colorbar": {
             "outlinewidth": 0,
             "ticks": ""
            },
            "type": "mesh3d"
           }
          ],
          "parcoords": [
           {
            "line": {
             "colorbar": {
              "outlinewidth": 0,
              "ticks": ""
             }
            },
            "type": "parcoords"
           }
          ],
          "pie": [
           {
            "automargin": true,
            "type": "pie"
           }
          ],
          "scatter": [
           {
            "marker": {
             "colorbar": {
              "outlinewidth": 0,
              "ticks": ""
             }
            },
            "type": "scatter"
           }
          ],
          "scatter3d": [
           {
            "line": {
             "colorbar": {
              "outlinewidth": 0,
              "ticks": ""
             }
            },
            "marker": {
             "colorbar": {
              "outlinewidth": 0,
              "ticks": ""
             }
            },
            "type": "scatter3d"
           }
          ],
          "scattercarpet": [
           {
            "marker": {
             "colorbar": {
              "outlinewidth": 0,
              "ticks": ""
             }
            },
            "type": "scattercarpet"
           }
          ],
          "scattergeo": [
           {
            "marker": {
             "colorbar": {
              "outlinewidth": 0,
              "ticks": ""
             }
            },
            "type": "scattergeo"
           }
          ],
          "scattergl": [
           {
            "marker": {
             "colorbar": {
              "outlinewidth": 0,
              "ticks": ""
             }
            },
            "type": "scattergl"
           }
          ],
          "scattermapbox": [
           {
            "marker": {
             "colorbar": {
              "outlinewidth": 0,
              "ticks": ""
             }
            },
            "type": "scattermapbox"
           }
          ],
          "scatterpolar": [
           {
            "marker": {
             "colorbar": {
              "outlinewidth": 0,
              "ticks": ""
             }
            },
            "type": "scatterpolar"
           }
          ],
          "scatterpolargl": [
           {
            "marker": {
             "colorbar": {
              "outlinewidth": 0,
              "ticks": ""
             }
            },
            "type": "scatterpolargl"
           }
          ],
          "scatterternary": [
           {
            "marker": {
             "colorbar": {
              "outlinewidth": 0,
              "ticks": ""
             }
            },
            "type": "scatterternary"
           }
          ],
          "surface": [
           {
            "colorbar": {
             "outlinewidth": 0,
             "ticks": ""
            },
            "colorscale": [
             [
              0,
              "#0d0887"
             ],
             [
              0.1111111111111111,
              "#46039f"
             ],
             [
              0.2222222222222222,
              "#7201a8"
             ],
             [
              0.3333333333333333,
              "#9c179e"
             ],
             [
              0.4444444444444444,
              "#bd3786"
             ],
             [
              0.5555555555555556,
              "#d8576b"
             ],
             [
              0.6666666666666666,
              "#ed7953"
             ],
             [
              0.7777777777777778,
              "#fb9f3a"
             ],
             [
              0.8888888888888888,
              "#fdca26"
             ],
             [
              1,
              "#f0f921"
             ]
            ],
            "type": "surface"
           }
          ],
          "table": [
           {
            "cells": {
             "fill": {
              "color": "#EBF0F8"
             },
             "line": {
              "color": "white"
             }
            },
            "header": {
             "fill": {
              "color": "#C8D4E3"
             },
             "line": {
              "color": "white"
             }
            },
            "type": "table"
           }
          ]
         },
         "layout": {
          "annotationdefaults": {
           "arrowcolor": "#2a3f5f",
           "arrowhead": 0,
           "arrowwidth": 1
          },
          "autotypenumbers": "strict",
          "coloraxis": {
           "colorbar": {
            "outlinewidth": 0,
            "ticks": ""
           }
          },
          "colorscale": {
           "diverging": [
            [
             0,
             "#8e0152"
            ],
            [
             0.1,
             "#c51b7d"
            ],
            [
             0.2,
             "#de77ae"
            ],
            [
             0.3,
             "#f1b6da"
            ],
            [
             0.4,
             "#fde0ef"
            ],
            [
             0.5,
             "#f7f7f7"
            ],
            [
             0.6,
             "#e6f5d0"
            ],
            [
             0.7,
             "#b8e186"
            ],
            [
             0.8,
             "#7fbc41"
            ],
            [
             0.9,
             "#4d9221"
            ],
            [
             1,
             "#276419"
            ]
           ],
           "sequential": [
            [
             0,
             "#0d0887"
            ],
            [
             0.1111111111111111,
             "#46039f"
            ],
            [
             0.2222222222222222,
             "#7201a8"
            ],
            [
             0.3333333333333333,
             "#9c179e"
            ],
            [
             0.4444444444444444,
             "#bd3786"
            ],
            [
             0.5555555555555556,
             "#d8576b"
            ],
            [
             0.6666666666666666,
             "#ed7953"
            ],
            [
             0.7777777777777778,
             "#fb9f3a"
            ],
            [
             0.8888888888888888,
             "#fdca26"
            ],
            [
             1,
             "#f0f921"
            ]
           ],
           "sequentialminus": [
            [
             0,
             "#0d0887"
            ],
            [
             0.1111111111111111,
             "#46039f"
            ],
            [
             0.2222222222222222,
             "#7201a8"
            ],
            [
             0.3333333333333333,
             "#9c179e"
            ],
            [
             0.4444444444444444,
             "#bd3786"
            ],
            [
             0.5555555555555556,
             "#d8576b"
            ],
            [
             0.6666666666666666,
             "#ed7953"
            ],
            [
             0.7777777777777778,
             "#fb9f3a"
            ],
            [
             0.8888888888888888,
             "#fdca26"
            ],
            [
             1,
             "#f0f921"
            ]
           ]
          },
          "colorway": [
           "#636efa",
           "#EF553B",
           "#00cc96",
           "#ab63fa",
           "#FFA15A",
           "#19d3f3",
           "#FF6692",
           "#B6E880",
           "#FF97FF",
           "#FECB52"
          ],
          "font": {
           "color": "#2a3f5f"
          },
          "geo": {
           "bgcolor": "white",
           "lakecolor": "white",
           "landcolor": "#E5ECF6",
           "showlakes": true,
           "showland": true,
           "subunitcolor": "white"
          },
          "hoverlabel": {
           "align": "left"
          },
          "hovermode": "closest",
          "mapbox": {
           "style": "light"
          },
          "paper_bgcolor": "white",
          "plot_bgcolor": "#E5ECF6",
          "polar": {
           "angularaxis": {
            "gridcolor": "white",
            "linecolor": "white",
            "ticks": ""
           },
           "bgcolor": "#E5ECF6",
           "radialaxis": {
            "gridcolor": "white",
            "linecolor": "white",
            "ticks": ""
           }
          },
          "scene": {
           "xaxis": {
            "backgroundcolor": "#E5ECF6",
            "gridcolor": "white",
            "gridwidth": 2,
            "linecolor": "white",
            "showbackground": true,
            "ticks": "",
            "zerolinecolor": "white"
           },
           "yaxis": {
            "backgroundcolor": "#E5ECF6",
            "gridcolor": "white",
            "gridwidth": 2,
            "linecolor": "white",
            "showbackground": true,
            "ticks": "",
            "zerolinecolor": "white"
           },
           "zaxis": {
            "backgroundcolor": "#E5ECF6",
            "gridcolor": "white",
            "gridwidth": 2,
            "linecolor": "white",
            "showbackground": true,
            "ticks": "",
            "zerolinecolor": "white"
           }
          },
          "shapedefaults": {
           "line": {
            "color": "#2a3f5f"
           }
          },
          "ternary": {
           "aaxis": {
            "gridcolor": "white",
            "linecolor": "white",
            "ticks": ""
           },
           "baxis": {
            "gridcolor": "white",
            "linecolor": "white",
            "ticks": ""
           },
           "bgcolor": "#E5ECF6",
           "caxis": {
            "gridcolor": "white",
            "linecolor": "white",
            "ticks": ""
           }
          },
          "title": {
           "x": 0.05
          },
          "xaxis": {
           "automargin": true,
           "gridcolor": "white",
           "linecolor": "white",
           "ticks": "",
           "title": {
            "standoff": 15
           },
           "zerolinecolor": "white",
           "zerolinewidth": 2
          },
          "yaxis": {
           "automargin": true,
           "gridcolor": "white",
           "linecolor": "white",
           "ticks": "",
           "title": {
            "standoff": 15
           },
           "zerolinecolor": "white",
           "zerolinewidth": 2
          }
         }
        },
        "title": {
         "text": "Feature Importance<br><sub>May display fewer features due to feature selection</sub>"
        },
        "xaxis": {
         "title": {
          "text": "Feature Importance"
         }
        },
        "yaxis": {
         "title": {
          "text": "Feature"
         },
         "type": "category"
        }
       }
      },
      "text/html": [
       "<div>                            <div id=\"d927a70a-8675-473f-9d70-0c18bcf77735\" class=\"plotly-graph-div\" style=\"height:800px; width:100%;\"></div>            <script type=\"text/javascript\">                require([\"plotly\"], function(Plotly) {                    window.PLOTLYENV=window.PLOTLYENV || {};                                    if (document.getElementById(\"d927a70a-8675-473f-9d70-0c18bcf77735\")) {                    Plotly.newPlot(                        \"d927a70a-8675-473f-9d70-0c18bcf77735\",                        [{\"orientation\": \"h\", \"type\": \"bar\", \"x\": [0.001688004129110618, 0.006682241113767945, 0.008091357933751375, 0.01473691698167881, 0.02421050374464384, 0.036673847459171516, 0.040699602804608714, 0.043108235596878756, 0.05076185369354061, 0.06161722580843748, 0.06395753933668892, 0.07046283804798581, 0.07242004974506278, 0.07407215050972872, 0.0790310514546737, 0.07923175442610397, 0.08318229112283748, 0.08490070797434407, 0.08966325030214968, 0.0904575876802532, 0.0975150681817431, 0.10716250233853211, 0.11351322553866704, 0.11463224210524675, 0.11969090591668788, 0.11975873940269938, 0.12135460940670392, 0.12857049194752693, 0.1300590470768674, 0.13051236226129825, 0.1397368653856709, 0.1430314997324633, 0.15320375996670665, 0.15369309693838373, 0.16949731643465304, 0.17287868176862786, 0.17759555124341989, 0.17810164509543017, 0.1874436925462572, 0.1935825954711016, 0.1965872982841229, 0.20985947796797175, 0.21038166899169314, 0.21878720072863198, 0.22677872298604518, 0.23845812106172745, 0.23882792374648878, 0.24923930179801715, 0.27174264159738654, 0.27457313641466846, 0.2923942778598423, 0.30515542948547514, 0.305859319434097, 0.30775816343843865, 0.3091969482501816, 0.3223656368273279, 0.32291381359749016, 0.344507960032454, 0.35276253046879635, 0.3684727859901028, 0.3773332370740799, 0.3911832091268292, 0.3933153500624439, 0.39345621174701917, 0.3955628421077154, 0.39588407482860166, 0.40024436328518687, 0.4173973820694975, 0.41772275710197704, 0.43156138882403133, 0.44743986750861, 0.4496363290287272, 0.45938222153467073, 0.4717051891774062, 0.47601276603268183, 0.476699955309819, 0.5050421828986429, 0.5060786361763359, 0.5111270932999993, 0.5611656099430746, 0.5907283585150682, 0.5913653471837009, 0.6142613413372565, 0.6941520386035747, 0.7013174309501353, 0.8170446987767495, 1.0019328680558244, 1.435961887902275, 162562561508.65344, 162562561508.71362, 274906053921.20917, 274906053921.34674, 645344928761.079, 645344928761.2034], \"y\": [\"country_Mauritania\", \"polity2\", \"country_Tajikistan\", \"isocode_MDG\", \"isocode_SCG\", \"country_Slovakia\", \"secyrs\", \"country_Spain\", \"tdeathslnl5\", \"mort\", \"litaf\", \"rrsoc\", \"trang\", \"country_Georgia\", \"secvocp\", \"isocode_TZA\", \"bband\", \"gdp5\", \"country_Norway\", \"ippr\", \"wasterwater\", \"vapvt\", \"isonum\", \"country_Uganda\", \"isocode_NIC\", \"elcostlnl\", \"isocode_GAB\", \"barrier\", \"isocode_SLE\", \"terrestprotect\", \"rdeathslnl\", \"prcompc\", \"hifi\", \"bdeathslnl\", \"creddtf\", \"logis\", \"womenparl\", \"redu\", \"teryrs\", \"eqi\", \"civlib\", \"banka\", \"amp\", \"isocode_TCD\", \"pts\", \"propright\", \"Obesity\", \"rrgov\", \"gbrata\", \"elfcr\", \"warcasual\", \"lityf\", \"homilnl\", \"fishstock\", \"pf\", \"impsan\", \"marineprotect\", \"povnahc\", \"stardtf\", \"imeas\", \"parfem\", \"Ginih15\", \"urate\", \"meandiabetes\", \"vtf\", \"edi\", \"improved_drinkwater\", \"insdtf\", \"edqualsc\", \"pestreg\", \"affs\", \"conscription\", \"ticpi\", \"lgbt_rights\", \"airpollution\", \"rqual\", \"povdday\", \"qslnl\", \"lfpr\", \"dpt\", \"polrights\", \"deathpen\", \"refugee_oriln\", \"leb\", \"fwateruse\", \"tblnl\", \"judi\", \"geff\", \"isocode_CYP\", \"country_Cyprus\", \"country_Thailand\", \"isocode_THA\", \"country_Nigeria\", \"isocode_NGA\"]}],                        {\"height\": 800, \"template\": {\"data\": {\"bar\": [{\"error_x\": {\"color\": \"#2a3f5f\"}, \"error_y\": {\"color\": \"#2a3f5f\"}, \"marker\": {\"line\": {\"color\": \"#E5ECF6\", \"width\": 0.5}}, \"type\": \"bar\"}], \"barpolar\": [{\"marker\": {\"line\": {\"color\": \"#E5ECF6\", \"width\": 0.5}}, \"type\": \"barpolar\"}], \"carpet\": [{\"aaxis\": {\"endlinecolor\": \"#2a3f5f\", \"gridcolor\": \"white\", \"linecolor\": \"white\", \"minorgridcolor\": \"white\", \"startlinecolor\": \"#2a3f5f\"}, \"baxis\": {\"endlinecolor\": \"#2a3f5f\", \"gridcolor\": \"white\", \"linecolor\": \"white\", \"minorgridcolor\": \"white\", \"startlinecolor\": \"#2a3f5f\"}, \"type\": \"carpet\"}], \"choropleth\": [{\"colorbar\": {\"outlinewidth\": 0, \"ticks\": \"\"}, \"type\": \"choropleth\"}], \"contour\": [{\"colorbar\": {\"outlinewidth\": 0, \"ticks\": \"\"}, \"colorscale\": [[0.0, \"#0d0887\"], [0.1111111111111111, \"#46039f\"], [0.2222222222222222, \"#7201a8\"], [0.3333333333333333, \"#9c179e\"], [0.4444444444444444, \"#bd3786\"], [0.5555555555555556, \"#d8576b\"], [0.6666666666666666, \"#ed7953\"], [0.7777777777777778, \"#fb9f3a\"], [0.8888888888888888, \"#fdca26\"], [1.0, \"#f0f921\"]], \"type\": \"contour\"}], \"contourcarpet\": [{\"colorbar\": {\"outlinewidth\": 0, \"ticks\": \"\"}, \"type\": \"contourcarpet\"}], \"heatmap\": [{\"colorbar\": {\"outlinewidth\": 0, \"ticks\": \"\"}, \"colorscale\": [[0.0, \"#0d0887\"], [0.1111111111111111, \"#46039f\"], [0.2222222222222222, \"#7201a8\"], [0.3333333333333333, \"#9c179e\"], [0.4444444444444444, \"#bd3786\"], [0.5555555555555556, \"#d8576b\"], [0.6666666666666666, \"#ed7953\"], [0.7777777777777778, \"#fb9f3a\"], [0.8888888888888888, \"#fdca26\"], [1.0, \"#f0f921\"]], \"type\": \"heatmap\"}], \"heatmapgl\": [{\"colorbar\": {\"outlinewidth\": 0, \"ticks\": \"\"}, \"colorscale\": [[0.0, \"#0d0887\"], [0.1111111111111111, \"#46039f\"], [0.2222222222222222, \"#7201a8\"], [0.3333333333333333, \"#9c179e\"], [0.4444444444444444, \"#bd3786\"], [0.5555555555555556, \"#d8576b\"], [0.6666666666666666, \"#ed7953\"], [0.7777777777777778, \"#fb9f3a\"], [0.8888888888888888, \"#fdca26\"], [1.0, \"#f0f921\"]], \"type\": \"heatmapgl\"}], \"histogram\": [{\"marker\": {\"colorbar\": {\"outlinewidth\": 0, \"ticks\": \"\"}}, \"type\": \"histogram\"}], \"histogram2d\": [{\"colorbar\": {\"outlinewidth\": 0, \"ticks\": \"\"}, \"colorscale\": [[0.0, \"#0d0887\"], [0.1111111111111111, \"#46039f\"], [0.2222222222222222, \"#7201a8\"], [0.3333333333333333, \"#9c179e\"], [0.4444444444444444, \"#bd3786\"], [0.5555555555555556, \"#d8576b\"], [0.6666666666666666, \"#ed7953\"], [0.7777777777777778, \"#fb9f3a\"], [0.8888888888888888, \"#fdca26\"], [1.0, \"#f0f921\"]], \"type\": \"histogram2d\"}], \"histogram2dcontour\": [{\"colorbar\": {\"outlinewidth\": 0, \"ticks\": \"\"}, \"colorscale\": [[0.0, \"#0d0887\"], [0.1111111111111111, \"#46039f\"], [0.2222222222222222, \"#7201a8\"], [0.3333333333333333, \"#9c179e\"], [0.4444444444444444, \"#bd3786\"], [0.5555555555555556, \"#d8576b\"], [0.6666666666666666, \"#ed7953\"], [0.7777777777777778, \"#fb9f3a\"], [0.8888888888888888, \"#fdca26\"], [1.0, \"#f0f921\"]], \"type\": \"histogram2dcontour\"}], \"mesh3d\": [{\"colorbar\": {\"outlinewidth\": 0, \"ticks\": \"\"}, \"type\": \"mesh3d\"}], \"parcoords\": [{\"line\": {\"colorbar\": {\"outlinewidth\": 0, \"ticks\": \"\"}}, \"type\": \"parcoords\"}], \"pie\": [{\"automargin\": true, \"type\": \"pie\"}], \"scatter\": [{\"marker\": {\"colorbar\": {\"outlinewidth\": 0, \"ticks\": \"\"}}, \"type\": \"scatter\"}], \"scatter3d\": [{\"line\": {\"colorbar\": {\"outlinewidth\": 0, \"ticks\": \"\"}}, \"marker\": {\"colorbar\": {\"outlinewidth\": 0, \"ticks\": \"\"}}, \"type\": \"scatter3d\"}], \"scattercarpet\": [{\"marker\": {\"colorbar\": {\"outlinewidth\": 0, \"ticks\": \"\"}}, \"type\": \"scattercarpet\"}], \"scattergeo\": [{\"marker\": {\"colorbar\": {\"outlinewidth\": 0, \"ticks\": \"\"}}, \"type\": \"scattergeo\"}], \"scattergl\": [{\"marker\": {\"colorbar\": {\"outlinewidth\": 0, \"ticks\": \"\"}}, \"type\": \"scattergl\"}], \"scattermapbox\": [{\"marker\": {\"colorbar\": {\"outlinewidth\": 0, \"ticks\": \"\"}}, \"type\": \"scattermapbox\"}], \"scatterpolar\": [{\"marker\": {\"colorbar\": {\"outlinewidth\": 0, \"ticks\": \"\"}}, \"type\": \"scatterpolar\"}], \"scatterpolargl\": [{\"marker\": {\"colorbar\": {\"outlinewidth\": 0, \"ticks\": \"\"}}, \"type\": \"scatterpolargl\"}], \"scatterternary\": [{\"marker\": {\"colorbar\": {\"outlinewidth\": 0, \"ticks\": \"\"}}, \"type\": \"scatterternary\"}], \"surface\": [{\"colorbar\": {\"outlinewidth\": 0, \"ticks\": \"\"}, \"colorscale\": [[0.0, \"#0d0887\"], [0.1111111111111111, \"#46039f\"], [0.2222222222222222, \"#7201a8\"], [0.3333333333333333, \"#9c179e\"], [0.4444444444444444, \"#bd3786\"], [0.5555555555555556, \"#d8576b\"], [0.6666666666666666, \"#ed7953\"], [0.7777777777777778, \"#fb9f3a\"], [0.8888888888888888, \"#fdca26\"], [1.0, \"#f0f921\"]], \"type\": \"surface\"}], \"table\": [{\"cells\": {\"fill\": {\"color\": \"#EBF0F8\"}, \"line\": {\"color\": \"white\"}}, \"header\": {\"fill\": {\"color\": \"#C8D4E3\"}, \"line\": {\"color\": \"white\"}}, \"type\": \"table\"}]}, \"layout\": {\"annotationdefaults\": {\"arrowcolor\": \"#2a3f5f\", \"arrowhead\": 0, \"arrowwidth\": 1}, \"autotypenumbers\": \"strict\", \"coloraxis\": {\"colorbar\": {\"outlinewidth\": 0, \"ticks\": \"\"}}, \"colorscale\": {\"diverging\": [[0, \"#8e0152\"], [0.1, \"#c51b7d\"], [0.2, \"#de77ae\"], [0.3, \"#f1b6da\"], [0.4, \"#fde0ef\"], [0.5, \"#f7f7f7\"], [0.6, \"#e6f5d0\"], [0.7, \"#b8e186\"], [0.8, \"#7fbc41\"], [0.9, \"#4d9221\"], [1, \"#276419\"]], \"sequential\": [[0.0, \"#0d0887\"], [0.1111111111111111, \"#46039f\"], [0.2222222222222222, \"#7201a8\"], [0.3333333333333333, \"#9c179e\"], [0.4444444444444444, \"#bd3786\"], [0.5555555555555556, \"#d8576b\"], [0.6666666666666666, \"#ed7953\"], [0.7777777777777778, \"#fb9f3a\"], [0.8888888888888888, \"#fdca26\"], [1.0, \"#f0f921\"]], \"sequentialminus\": [[0.0, \"#0d0887\"], [0.1111111111111111, \"#46039f\"], [0.2222222222222222, \"#7201a8\"], [0.3333333333333333, \"#9c179e\"], [0.4444444444444444, \"#bd3786\"], [0.5555555555555556, \"#d8576b\"], [0.6666666666666666, \"#ed7953\"], [0.7777777777777778, \"#fb9f3a\"], [0.8888888888888888, \"#fdca26\"], [1.0, \"#f0f921\"]]}, \"colorway\": [\"#636efa\", \"#EF553B\", \"#00cc96\", \"#ab63fa\", \"#FFA15A\", \"#19d3f3\", \"#FF6692\", \"#B6E880\", \"#FF97FF\", \"#FECB52\"], \"font\": {\"color\": \"#2a3f5f\"}, \"geo\": {\"bgcolor\": \"white\", \"lakecolor\": \"white\", \"landcolor\": \"#E5ECF6\", \"showlakes\": true, \"showland\": true, \"subunitcolor\": \"white\"}, \"hoverlabel\": {\"align\": \"left\"}, \"hovermode\": \"closest\", \"mapbox\": {\"style\": \"light\"}, \"paper_bgcolor\": \"white\", \"plot_bgcolor\": \"#E5ECF6\", \"polar\": {\"angularaxis\": {\"gridcolor\": \"white\", \"linecolor\": \"white\", \"ticks\": \"\"}, \"bgcolor\": \"#E5ECF6\", \"radialaxis\": {\"gridcolor\": \"white\", \"linecolor\": \"white\", \"ticks\": \"\"}}, \"scene\": {\"xaxis\": {\"backgroundcolor\": \"#E5ECF6\", \"gridcolor\": \"white\", \"gridwidth\": 2, \"linecolor\": \"white\", \"showbackground\": true, \"ticks\": \"\", \"zerolinecolor\": \"white\"}, \"yaxis\": {\"backgroundcolor\": \"#E5ECF6\", \"gridcolor\": \"white\", \"gridwidth\": 2, \"linecolor\": \"white\", \"showbackground\": true, \"ticks\": \"\", \"zerolinecolor\": \"white\"}, \"zaxis\": {\"backgroundcolor\": \"#E5ECF6\", \"gridcolor\": \"white\", \"gridwidth\": 2, \"linecolor\": \"white\", \"showbackground\": true, \"ticks\": \"\", \"zerolinecolor\": \"white\"}}, \"shapedefaults\": {\"line\": {\"color\": \"#2a3f5f\"}}, \"ternary\": {\"aaxis\": {\"gridcolor\": \"white\", \"linecolor\": \"white\", \"ticks\": \"\"}, \"baxis\": {\"gridcolor\": \"white\", \"linecolor\": \"white\", \"ticks\": \"\"}, \"bgcolor\": \"#E5ECF6\", \"caxis\": {\"gridcolor\": \"white\", \"linecolor\": \"white\", \"ticks\": \"\"}}, \"title\": {\"x\": 0.05}, \"xaxis\": {\"automargin\": true, \"gridcolor\": \"white\", \"linecolor\": \"white\", \"ticks\": \"\", \"title\": {\"standoff\": 15}, \"zerolinecolor\": \"white\", \"zerolinewidth\": 2}, \"yaxis\": {\"automargin\": true, \"gridcolor\": \"white\", \"linecolor\": \"white\", \"ticks\": \"\", \"title\": {\"standoff\": 15}, \"zerolinecolor\": \"white\", \"zerolinewidth\": 2}}}, \"title\": {\"text\": \"Feature Importance<br><sub>May display fewer features due to feature selection</sub>\"}, \"xaxis\": {\"title\": {\"text\": \"Feature Importance\"}}, \"yaxis\": {\"title\": {\"text\": \"Feature\"}, \"type\": \"category\"}},                        {\"responsive\": true}                    ).then(function(){\n",
       "                            \n",
       "var gd = document.getElementById('d927a70a-8675-473f-9d70-0c18bcf77735');\n",
       "var x = new MutationObserver(function (mutations, observer) {{\n",
       "        var display = window.getComputedStyle(gd).display;\n",
       "        if (!display || display === 'none') {{\n",
       "            console.log([gd, 'removed!']);\n",
       "            Plotly.purge(gd);\n",
       "            observer.disconnect();\n",
       "        }}\n",
       "}});\n",
       "\n",
       "// Listen for the removal of the full notebook cells\n",
       "var notebookContainer = gd.closest('#notebook-container');\n",
       "if (notebookContainer) {{\n",
       "    x.observe(notebookContainer, {childList: true});\n",
       "}}\n",
       "\n",
       "// Listen for the clearing of the current output cell\n",
       "var outputEl = gd.closest('.output');\n",
       "if (outputEl) {{\n",
       "    x.observe(outputEl, {childList: true});\n",
       "}}\n",
       "\n",
       "                        })                };                });            </script>        </div>"
      ]
     },
     "metadata": {},
     "output_type": "display_data"
    }
   ],
   "source": [
    "best_pipeline.feature_importance[0:5].to_csv('prosperity_fi.csv', index = False)\n",
    "best_pipeline.graph_feature_importance()"
   ]
  },
  {
   "cell_type": "code",
   "execution_count": 34,
   "id": "filled-height",
   "metadata": {},
   "outputs": [],
   "source": [
    "import os\n",
    "datasets = os.listdir('../Data')\n",
    "train_csvs = [data for data in datasets if \"train\" in data]\n",
    "col = dict()\n",
    "for df in train_csvs:\n",
    "    col[df] = pd.read_csv(\"../Data/{}\".format(df), index_col = 0).columns"
   ]
  },
  {
   "cell_type": "code",
   "execution_count": 32,
   "id": "economic-causing",
   "metadata": {},
   "outputs": [],
   "source": [
    "def find_csv(col_name):\n",
    "    for key in col.keys():\n",
    "        if col_name in col[key]:\n",
    "            return key\n",
    "\n",
    "imp['dataset'] = imp['feature'].apply(lambda x: find_csv(x))"
   ]
  },
  {
   "cell_type": "code",
   "execution_count": 35,
   "id": "thorough-ferry",
   "metadata": {},
   "outputs": [],
   "source": [
    "def find_csv(col_name):\n",
    "    for key in col.keys():\n",
    "        if col_name in col[key]:\n",
    "            return key"
   ]
  },
  {
   "cell_type": "code",
   "execution_count": 43,
   "id": "environmental-lawyer",
   "metadata": {},
   "outputs": [
    {
     "data": {
      "text/html": [
       "<div>\n",
       "<style scoped>\n",
       "    .dataframe tbody tr th:only-of-type {\n",
       "        vertical-align: middle;\n",
       "    }\n",
       "\n",
       "    .dataframe tbody tr th {\n",
       "        vertical-align: top;\n",
       "    }\n",
       "\n",
       "    .dataframe thead th {\n",
       "        text-align: right;\n",
       "    }\n",
       "</style>\n",
       "<table border=\"1\" class=\"dataframe\">\n",
       "  <thead>\n",
       "    <tr style=\"text-align: right;\">\n",
       "      <th></th>\n",
       "      <th>importance</th>\n",
       "    </tr>\n",
       "    <tr>\n",
       "      <th>dataset</th>\n",
       "      <th></th>\n",
       "    </tr>\n",
       "  </thead>\n",
       "  <tbody>\n",
       "    <tr>\n",
       "      <th>gove_train.csv</th>\n",
       "      <td>0.518028</td>\n",
       "    </tr>\n",
       "    <tr>\n",
       "      <th>pers_train.csv</th>\n",
       "      <td>0.156088</td>\n",
       "    </tr>\n",
       "    <tr>\n",
       "      <th>econ_train.csv</th>\n",
       "      <td>0.129436</td>\n",
       "    </tr>\n",
       "    <tr>\n",
       "      <th>educ_train.csv</th>\n",
       "      <td>0.081465</td>\n",
       "    </tr>\n",
       "    <tr>\n",
       "      <th>heal_train.csv</th>\n",
       "      <td>0.065779</td>\n",
       "    </tr>\n",
       "    <tr>\n",
       "      <th>safe_train.csv</th>\n",
       "      <td>0.024753</td>\n",
       "    </tr>\n",
       "    <tr>\n",
       "      <th>busi_train.csv</th>\n",
       "      <td>0.015170</td>\n",
       "    </tr>\n",
       "    <tr>\n",
       "      <th>envi_train.csv</th>\n",
       "      <td>0.007281</td>\n",
       "    </tr>\n",
       "    <tr>\n",
       "      <th>soci_train.csv</th>\n",
       "      <td>0.002000</td>\n",
       "    </tr>\n",
       "  </tbody>\n",
       "</table>\n",
       "</div>"
      ],
      "text/plain": [
       "                importance\n",
       "dataset                   \n",
       "gove_train.csv    0.518028\n",
       "pers_train.csv    0.156088\n",
       "econ_train.csv    0.129436\n",
       "educ_train.csv    0.081465\n",
       "heal_train.csv    0.065779\n",
       "safe_train.csv    0.024753\n",
       "busi_train.csv    0.015170\n",
       "envi_train.csv    0.007281\n",
       "soci_train.csv    0.002000"
      ]
     },
     "execution_count": 43,
     "metadata": {},
     "output_type": "execute_result"
    }
   ],
   "source": [
    "pd.DataFrame(imp.groupby('dataset')['importance'].sum().sort_values(ascending = False))"
   ]
  },
  {
   "cell_type": "code",
   "execution_count": 84,
   "id": "rural-comfort",
   "metadata": {},
   "outputs": [],
   "source": [
    "predictions = best_pipeline.predict(X_test)\n",
    "predictions = predictions.to_series()"
   ]
  },
  {
   "cell_type": "code",
   "execution_count": 85,
   "id": "ranging-wiring",
   "metadata": {},
   "outputs": [
    {
     "name": "stdout",
     "output_type": "stream",
     "text": [
      "R2: 0.9906533836261187\n",
      "MSE: 0.9420516534433115\n",
      "RMSE: 0.9705934542553394\n",
      "MAE: 0.7876269589655882\n"
     ]
    }
   ],
   "source": [
    "print('R2: ' + str(r2_score(y_test,  predictions)))\n",
    "print('MSE: ' + str(mean_squared_error(y_test, predictions, squared = True)))\n",
    "print('RMSE: ' + str(mean_squared_error(y_test, predictions, squared = False)))\n",
    "print('MAE: ' + str(mean_absolute_error(y_test, predictions)))\n",
    "\n",
    "metrics = pd.DataFrame()\n",
    "\n",
    "metrics.at[0, 'R2'] = r2_score(y_test,  predictions)\n",
    "metrics.at[0, 'MSE'] = mean_squared_error(y_test, predictions, squared = True)\n",
    "metrics.at[0, 'RMSE'] = mean_squared_error(y_test, predictions, squared = False)\n",
    "metrics.at[0, 'MAE'] = mean_absolute_error(y_test, predictions)\n",
    "\n",
    "metrics.to_csv('prosperity_metrics.csv', index = False)"
   ]
  },
  {
   "cell_type": "code",
   "execution_count": 86,
   "id": "historic-reynolds",
   "metadata": {},
   "outputs": [
    {
     "data": {
      "text/html": [
       "<div>\n",
       "<style scoped>\n",
       "    .dataframe tbody tr th:only-of-type {\n",
       "        vertical-align: middle;\n",
       "    }\n",
       "\n",
       "    .dataframe tbody tr th {\n",
       "        vertical-align: top;\n",
       "    }\n",
       "\n",
       "    .dataframe thead th {\n",
       "        text-align: right;\n",
       "    }\n",
       "</style>\n",
       "<table border=\"1\" class=\"dataframe\">\n",
       "  <thead>\n",
       "    <tr style=\"text-align: right;\">\n",
       "      <th></th>\n",
       "      <th>country</th>\n",
       "      <th>isonum</th>\n",
       "      <th>isocode</th>\n",
       "      <th>year</th>\n",
       "      <th>qslnl</th>\n",
       "      <th>secvocp</th>\n",
       "      <th>teryrs</th>\n",
       "      <th>edqualsc</th>\n",
       "      <th>gbrata</th>\n",
       "      <th>secyrs</th>\n",
       "      <th>...</th>\n",
       "      <th>logis</th>\n",
       "      <th>bband</th>\n",
       "      <th>redu</th>\n",
       "      <th>hifi</th>\n",
       "      <th>affs</th>\n",
       "      <th>ippr</th>\n",
       "      <th>insdtf</th>\n",
       "      <th>creddtf</th>\n",
       "      <th>elcostlnl</th>\n",
       "      <th>stardtf</th>\n",
       "    </tr>\n",
       "  </thead>\n",
       "  <tbody>\n",
       "    <tr>\n",
       "      <th>1192</th>\n",
       "      <td>Afghanistan</td>\n",
       "      <td>4</td>\n",
       "      <td>AFG</td>\n",
       "      <td>2015</td>\n",
       "      <td>-7.178585</td>\n",
       "      <td>0.961258</td>\n",
       "      <td>0.210655</td>\n",
       "      <td>337.589355</td>\n",
       "      <td>0.341660</td>\n",
       "      <td>0.998107</td>\n",
       "      <td>...</td>\n",
       "      <td>2.069573</td>\n",
       "      <td>0.004795</td>\n",
       "      <td>26.472107</td>\n",
       "      <td>3.633919</td>\n",
       "      <td>3.852955</td>\n",
       "      <td>2.457773</td>\n",
       "      <td>23.62</td>\n",
       "      <td>45.0</td>\n",
       "      <td>8.151823</td>\n",
       "      <td>93.05</td>\n",
       "    </tr>\n",
       "    <tr>\n",
       "      <th>1193</th>\n",
       "      <td>Angola</td>\n",
       "      <td>24</td>\n",
       "      <td>AGO</td>\n",
       "      <td>2015</td>\n",
       "      <td>-7.178585</td>\n",
       "      <td>45.228603</td>\n",
       "      <td>0.099019</td>\n",
       "      <td>280.802673</td>\n",
       "      <td>0.360500</td>\n",
       "      <td>1.820329</td>\n",
       "      <td>...</td>\n",
       "      <td>2.542980</td>\n",
       "      <td>0.412784</td>\n",
       "      <td>31.007937</td>\n",
       "      <td>2.593719</td>\n",
       "      <td>3.236488</td>\n",
       "      <td>2.257915</td>\n",
       "      <td>0.00</td>\n",
       "      <td>5.0</td>\n",
       "      <td>6.421622</td>\n",
       "      <td>76.79</td>\n",
       "    </tr>\n",
       "    <tr>\n",
       "      <th>1194</th>\n",
       "      <td>Albania</td>\n",
       "      <td>8</td>\n",
       "      <td>ALB</td>\n",
       "      <td>2015</td>\n",
       "      <td>-7.178585</td>\n",
       "      <td>8.005317</td>\n",
       "      <td>0.050267</td>\n",
       "      <td>425.420013</td>\n",
       "      <td>0.056140</td>\n",
       "      <td>3.402170</td>\n",
       "      <td>...</td>\n",
       "      <td>2.770000</td>\n",
       "      <td>6.573716</td>\n",
       "      <td>20.825397</td>\n",
       "      <td>3.888581</td>\n",
       "      <td>3.737438</td>\n",
       "      <td>2.896221</td>\n",
       "      <td>63.42</td>\n",
       "      <td>65.0</td>\n",
       "      <td>6.197258</td>\n",
       "      <td>90.09</td>\n",
       "    </tr>\n",
       "    <tr>\n",
       "      <th>1195</th>\n",
       "      <td>United Arab Emirates</td>\n",
       "      <td>784</td>\n",
       "      <td>ARE</td>\n",
       "      <td>2015</td>\n",
       "      <td>-7.178585</td>\n",
       "      <td>1.820017</td>\n",
       "      <td>0.458515</td>\n",
       "      <td>480.829529</td>\n",
       "      <td>0.034651</td>\n",
       "      <td>3.531861</td>\n",
       "      <td>...</td>\n",
       "      <td>3.539098</td>\n",
       "      <td>11.558400</td>\n",
       "      <td>4.285714</td>\n",
       "      <td>5.053419</td>\n",
       "      <td>5.424749</td>\n",
       "      <td>5.475348</td>\n",
       "      <td>43.74</td>\n",
       "      <td>45.0</td>\n",
       "      <td>3.157000</td>\n",
       "      <td>89.98</td>\n",
       "    </tr>\n",
       "    <tr>\n",
       "      <th>1196</th>\n",
       "      <td>Argentina</td>\n",
       "      <td>32</td>\n",
       "      <td>ARG</td>\n",
       "      <td>2015</td>\n",
       "      <td>-3.770851</td>\n",
       "      <td>13.699941</td>\n",
       "      <td>0.280885</td>\n",
       "      <td>421.549591</td>\n",
       "      <td>0.030080</td>\n",
       "      <td>2.664423</td>\n",
       "      <td>...</td>\n",
       "      <td>2.986475</td>\n",
       "      <td>15.573113</td>\n",
       "      <td>30.333333</td>\n",
       "      <td>2.583314</td>\n",
       "      <td>2.923875</td>\n",
       "      <td>2.424609</td>\n",
       "      <td>42.87</td>\n",
       "      <td>50.0</td>\n",
       "      <td>3.214868</td>\n",
       "      <td>73.36</td>\n",
       "    </tr>\n",
       "  </tbody>\n",
       "</table>\n",
       "<p>5 rows × 78 columns</p>\n",
       "</div>"
      ],
      "text/plain": [
       "                   country  isonum isocode  year     qslnl    secvocp  \\\n",
       "1192           Afghanistan       4     AFG  2015 -7.178585   0.961258   \n",
       "1193                Angola      24     AGO  2015 -7.178585  45.228603   \n",
       "1194               Albania       8     ALB  2015 -7.178585   8.005317   \n",
       "1195  United Arab Emirates     784     ARE  2015 -7.178585   1.820017   \n",
       "1196             Argentina      32     ARG  2015 -3.770851  13.699941   \n",
       "\n",
       "        teryrs    edqualsc    gbrata    secyrs  ...     logis      bband  \\\n",
       "1192  0.210655  337.589355  0.341660  0.998107  ...  2.069573   0.004795   \n",
       "1193  0.099019  280.802673  0.360500  1.820329  ...  2.542980   0.412784   \n",
       "1194  0.050267  425.420013  0.056140  3.402170  ...  2.770000   6.573716   \n",
       "1195  0.458515  480.829529  0.034651  3.531861  ...  3.539098  11.558400   \n",
       "1196  0.280885  421.549591  0.030080  2.664423  ...  2.986475  15.573113   \n",
       "\n",
       "           redu      hifi      affs      ippr  insdtf  creddtf  elcostlnl  \\\n",
       "1192  26.472107  3.633919  3.852955  2.457773   23.62     45.0   8.151823   \n",
       "1193  31.007937  2.593719  3.236488  2.257915    0.00      5.0   6.421622   \n",
       "1194  20.825397  3.888581  3.737438  2.896221   63.42     65.0   6.197258   \n",
       "1195   4.285714  5.053419  5.424749  5.475348   43.74     45.0   3.157000   \n",
       "1196  30.333333  2.583314  2.923875  2.424609   42.87     50.0   3.214868   \n",
       "\n",
       "      stardtf  \n",
       "1192    93.05  \n",
       "1193    76.79  \n",
       "1194    90.09  \n",
       "1195    89.98  \n",
       "1196    73.36  \n",
       "\n",
       "[5 rows x 78 columns]"
      ]
     },
     "execution_count": 86,
     "metadata": {},
     "output_type": "execute_result"
    }
   ],
   "source": [
    "test = pd.read_csv('test.csv', index_col = 0)\n",
    "test.head()"
   ]
  },
  {
   "cell_type": "code",
   "execution_count": 87,
   "id": "aging-anniversary",
   "metadata": {},
   "outputs": [],
   "source": [
    "drop = ['year']\n",
    "df = test.copy()\n",
    "df = df.drop(drop, axis = 1)\n",
    "\n",
    "df = remove_low_information_features(df)\n",
    "\n",
    "df = remove_highly_null_features(df)\n",
    "\n",
    "df = remove_single_value_features(df)\n",
    "\n",
    "df = remove_highly_correlated_features(df)\n",
    "\n",
    "X = df"
   ]
  },
  {
   "cell_type": "code",
   "execution_count": 88,
   "id": "aging-license",
   "metadata": {},
   "outputs": [
    {
     "data": {
      "text/html": [
       "<div>\n",
       "<style scoped>\n",
       "    .dataframe tbody tr th:only-of-type {\n",
       "        vertical-align: middle;\n",
       "    }\n",
       "\n",
       "    .dataframe tbody tr th {\n",
       "        vertical-align: top;\n",
       "    }\n",
       "\n",
       "    .dataframe thead th {\n",
       "        text-align: right;\n",
       "    }\n",
       "</style>\n",
       "<table border=\"1\" class=\"dataframe\">\n",
       "  <thead>\n",
       "    <tr style=\"text-align: right;\">\n",
       "      <th></th>\n",
       "      <th>prosperity</th>\n",
       "    </tr>\n",
       "  </thead>\n",
       "  <tbody>\n",
       "    <tr>\n",
       "      <th>0</th>\n",
       "      <td>382.478457</td>\n",
       "    </tr>\n",
       "    <tr>\n",
       "      <th>1</th>\n",
       "      <td>320.412058</td>\n",
       "    </tr>\n",
       "    <tr>\n",
       "      <th>2</th>\n",
       "      <td>265.937746</td>\n",
       "    </tr>\n",
       "    <tr>\n",
       "      <th>3</th>\n",
       "      <td>284.269793</td>\n",
       "    </tr>\n",
       "    <tr>\n",
       "      <th>4</th>\n",
       "      <td>345.357981</td>\n",
       "    </tr>\n",
       "  </tbody>\n",
       "</table>\n",
       "</div>"
      ],
      "text/plain": [
       "   prosperity\n",
       "0  382.478457\n",
       "1  320.412058\n",
       "2  265.937746\n",
       "3  284.269793\n",
       "4  345.357981"
      ]
     },
     "execution_count": 88,
     "metadata": {},
     "output_type": "execute_result"
    }
   ],
   "source": [
    "predictions = best_pipeline.predict(X)\n",
    "\n",
    "predictions = predictions.to_series()\n",
    "\n",
    "result = pd.DataFrame()\n",
    "\n",
    "result['prosperity'] = predictions\n",
    "\n",
    "result.head()"
   ]
  },
  {
   "cell_type": "code",
   "execution_count": 89,
   "id": "passive-algorithm",
   "metadata": {},
   "outputs": [
    {}
   ],
   "source": [
    "df = pd.read_csv('test.csv')\n",
    "temp = df[['country', 'year']]\n",
    "\n",
    "result = pd.merge(left = temp, right = result, how=\"left\", on=[temp.index, result.index])\n",
    "result = result.drop(['key_0', 'key_1'], axis = 1)\n",
    "\n",
    "result['rank_prosperity'] = result.groupby(\"year\")[\"prosperity\"].rank(\"dense\", ascending=False)\n",
    "result['rank_prosperity'] = result['rank_prosperity'].astype('int')\n",
    "\n",
    "result = result[result['country'].isin(['Chad', 'Togo', 'Zimbabwe', 'Ivory Coast', 'Georgia'])]\n",
    "\n",
    "result.head()"
   ]
  },
  {
   "cell_type": "code",
   "execution_count": 90,
   "id": "residential-coordinate",
   "metadata": {},
   "outputs": [],
   "source": [
    "result.to_csv('prosperity_predictions.csv', index=False)"
   ]
  },
  {
   "cell_type": "code",
   "execution_count": 45,
   "id": "cross-greece",
   "metadata": {},
   "outputs": [],
   "source": [
    "def model(country):    \n",
    "    df2 = df[df['country'] == country]\n",
    "    \n",
    "    y = df2['prosperity_score']\n",
    "\n",
    "    df2 = df2.drop(drop, axis = 1)\n",
    "\n",
    "    df2 = remove_low_information_features(df2)\n",
    "\n",
    "    df2 = remove_highly_null_features(df2)\n",
    "\n",
    "    df2 = remove_single_value_features(df2)\n",
    "\n",
    "    df2 = remove_highly_correlated_features(df2)\n",
    "\n",
    "    X = df2\n",
    "        \n",
    "    problem_type = 'regression'\n",
    "    objective =  'auto'\n",
    "\n",
    "    X_train, X_test, y_train, y_test = train_test_split(X, y, test_size=0.25, random_state=42)\n",
    "\n",
    "\n",
    "    automl = evalml.automl.AutoMLSearch(X_train, y_train, problem_type=problem_type, objective = objective)\n",
    "    \n",
    "    automl.search()\n",
    "    \n",
    "    print(automl.rankings)\n",
    "    \n",
    "    best_pipeline = automl.best_pipeline\n",
    "    \n",
    "    importances = pd.DataFrame(best_pipeline.feature_importance)\n",
    "    \n",
    "    importances['dataset'] = importances['feature'].apply(lambda x: find_csv(x))\n",
    "\n",
    "    return importances"
   ]
  },
  {
   "cell_type": "code",
   "execution_count": 48,
   "id": "proof-biotechnology",
   "metadata": {},
   "outputs": [
    {
     "name": "stdout",
     "output_type": "stream",
     "text": [
      "Chad \n",
      "\n",
      "\n",
      "Using default limit of max_batches=1.\n",
      "\n",
      "Generating pipelines to search over...\n",
      "*****************************\n",
      "* Beginning pipeline search *\n",
      "*****************************\n",
      "\n",
      "Optimizing for R2. \n",
      "Greater score is better.\n",
      "\n",
      "Using SequentialEngine to train and score pipelines.\n",
      "Searching up to 1 batches for a total of 9 pipelines. \n",
      "Allowed model families: decision_tree, random_forest, lightgbm, extra_trees, xgboost, catboost, linear_model\n",
      "\n"
     ]
    },
    {
     "data": {
      "application/vnd.jupyter.widget-view+json": {
       "model_id": "2f4dfa0286cb408bbc3a8a79a8bc74b1",
       "version_major": 2,
       "version_minor": 0
      },
      "text/plain": [
       "FigureWidget({\n",
       "    'data': [{'mode': 'lines+markers',\n",
       "              'name': 'Best Score',\n",
       "              'type'…"
      ]
     },
     "metadata": {},
     "output_type": "display_data"
    },
    {
     "name": "stdout",
     "output_type": "stream",
     "text": [
      "Batch 1: (1/9) Mean Baseline Regression Pipeline        Elapsed:00:00\n",
      "\tStarting cross validation\n",
      "\tFinished cross validation - mean R2: -156.079\n",
      "High coefficient of variation (cv >= 0.2) within cross validation scores. Mean Baseline Regression Pipeline may not perform as estimated on unseen data.\n",
      "Batch 1: (2/9) Decision Tree Regressor w/ Imputer       Elapsed:00:00\n",
      "\tStarting cross validation\n",
      "\tFinished cross validation - mean R2: -65.923\n",
      "High coefficient of variation (cv >= 0.2) within cross validation scores. Decision Tree Regressor w/ Imputer may not perform as estimated on unseen data.\n",
      "Batch 1: (3/9) Extra Trees Regressor w/ Imputer         Elapsed:00:01\n",
      "\tStarting cross validation\n",
      "\tFinished cross validation - mean R2: -65.399\n",
      "High coefficient of variation (cv >= 0.2) within cross validation scores. Extra Trees Regressor w/ Imputer may not perform as estimated on unseen data.\n",
      "Batch 1: (4/9) XGBoost Regressor w/ Imputer             Elapsed:00:02\n",
      "\tStarting cross validation\n",
      "\tFinished cross validation - mean R2: -11.758\n",
      "High coefficient of variation (cv >= 0.2) within cross validation scores. XGBoost Regressor w/ Imputer may not perform as estimated on unseen data.\n",
      "Batch 1: (5/9) CatBoost Regressor w/ Imputer            Elapsed:00:04\n",
      "\tStarting cross validation\n",
      "\tFinished cross validation - mean R2: -153.405\n",
      "High coefficient of variation (cv >= 0.2) within cross validation scores. CatBoost Regressor w/ Imputer may not perform as estimated on unseen data.\n",
      "Batch 1: (6/9) Random Forest Regressor w/ Imputer       Elapsed:00:05\n",
      "\tStarting cross validation\n",
      "\tFinished cross validation - mean R2: -96.579\n",
      "High coefficient of variation (cv >= 0.2) within cross validation scores. Random Forest Regressor w/ Imputer may not perform as estimated on unseen data.\n",
      "Batch 1: (7/9) LightGBM Regressor w/ Imputer            Elapsed:00:08\n",
      "\tStarting cross validation\n",
      "\tFinished cross validation - mean R2: -156.079\n",
      "High coefficient of variation (cv >= 0.2) within cross validation scores. LightGBM Regressor w/ Imputer may not perform as estimated on unseen data.\n",
      "Batch 1: (8/9) Linear Regressor w/ Imputer + Standar... Elapsed:00:09\n",
      "\tStarting cross validation\n",
      "\tFinished cross validation - mean R2: -37.885\n",
      "High coefficient of variation (cv >= 0.2) within cross validation scores. Linear Regressor w/ Imputer + Standard Scaler may not perform as estimated on unseen data.\n",
      "Batch 1: (9/9) Elastic Net Regressor w/ Imputer + St... Elapsed:00:11\n",
      "\tStarting cross validation\n",
      "\tFinished cross validation - mean R2: -94.178\n",
      "High coefficient of variation (cv >= 0.2) within cross validation scores. Elastic Net Regressor w/ Imputer + Standard Scaler may not perform as estimated on unseen data.\n",
      "\n",
      "Search finished after 00:12            \n",
      "Best pipeline: XGBoost Regressor w/ Imputer\n",
      "Best pipeline R2: -11.757975\n",
      "   id                                      pipeline_name       score  \\\n",
      "0   3                       XGBoost Regressor w/ Imputer  -11.757975   \n",
      "1   7      Linear Regressor w/ Imputer + Standard Scaler  -37.885013   \n",
      "2   2                   Extra Trees Regressor w/ Imputer  -65.399234   \n",
      "3   1                 Decision Tree Regressor w/ Imputer  -65.923095   \n",
      "4   8  Elastic Net Regressor w/ Imputer + Standard Sc...  -94.178128   \n",
      "5   5                 Random Forest Regressor w/ Imputer  -96.579201   \n",
      "6   4                      CatBoost Regressor w/ Imputer -153.404909   \n",
      "7   6                      LightGBM Regressor w/ Imputer -156.078972   \n",
      "8   0                  Mean Baseline Regression Pipeline -156.078977   \n",
      "\n",
      "   validation_score  percent_better_than_baseline  high_variance_cv  \\\n",
      "0          0.180414                     92.466651              True   \n",
      "1          0.474008                     75.727024              True   \n",
      "2          0.886818                     58.098627              True   \n",
      "3          0.623645                     57.762989              True   \n",
      "4          0.501455                     39.659953              True   \n",
      "5          0.833052                     38.121583              True   \n",
      "6          0.126206                      1.713279              True   \n",
      "7         -0.011112                      0.000003              True   \n",
      "8         -0.011112                      0.000000              True   \n",
      "\n",
      "                                          parameters  \n",
      "0  {'Imputer': {'categorical_impute_strategy': 'm...  \n",
      "1  {'Imputer': {'categorical_impute_strategy': 'm...  \n",
      "2  {'Imputer': {'categorical_impute_strategy': 'm...  \n",
      "3  {'Imputer': {'categorical_impute_strategy': 'm...  \n",
      "4  {'Imputer': {'categorical_impute_strategy': 'm...  \n",
      "5  {'Imputer': {'categorical_impute_strategy': 'm...  \n",
      "6  {'Imputer': {'categorical_impute_strategy': 'm...  \n",
      "7  {'Imputer': {'categorical_impute_strategy': 'm...  \n",
      "8       {'Baseline Regressor': {'strategy': 'mean'}}  \n",
      "        feature  importance\n",
      "0       secvocp    0.477587\n",
      "1       prcompc    0.363222\n",
      "2          ippr    0.142348\n",
      "3         lityf    0.016843\n",
      "4         litaf    0.000000\n",
      "5           vtf    0.000000\n",
      "6           dpt    0.000000\n",
      "7         rrgov    0.000000\n",
      "8         rrsoc    0.000000\n",
      "9            pf    0.000000\n",
      "10        logis    0.000000\n",
      "11        bband    0.000000\n",
      "12         redu    0.000000\n",
      "13         hifi    0.000000\n",
      "14         affs    0.000000\n",
      "15      creddtf    0.000000\n",
      "16    elcostlnl    0.000000\n",
      "17      barrier    0.000000\n",
      "18          amp    0.000000\n",
      "19        urate    0.000000\n",
      "20          eqi    0.000000\n",
      "21          edi    0.000000\n",
      "22    warcasual    0.000000\n",
      "23  tdeathslnl5    0.000000\n",
      "24        elfcr    0.000000\n",
      "25        trang    0.000000\n",
      "26         geff    0.000000\n",
      "27        rqual    0.000000\n",
      "28        ticpi    0.000000\n",
      "29         judi    0.000000\n",
      "30         rlaw    0.000000\n",
      "\n",
      "\n",
      "Togo \n",
      "\n",
      "\n",
      "Using default limit of max_batches=1.\n",
      "\n",
      "Generating pipelines to search over...\n",
      "*****************************\n",
      "* Beginning pipeline search *\n",
      "*****************************\n",
      "\n",
      "Optimizing for R2. \n",
      "Greater score is better.\n",
      "\n",
      "Using SequentialEngine to train and score pipelines.\n",
      "Searching up to 1 batches for a total of 9 pipelines. \n",
      "Allowed model families: decision_tree, random_forest, lightgbm, extra_trees, xgboost, catboost, linear_model\n",
      "\n"
     ]
    },
    {
     "data": {
      "application/vnd.jupyter.widget-view+json": {
       "model_id": "f817dda799e24e40a5b7efc2145ec3b7",
       "version_major": 2,
       "version_minor": 0
      },
      "text/plain": [
       "FigureWidget({\n",
       "    'data': [{'mode': 'lines+markers',\n",
       "              'name': 'Best Score',\n",
       "              'type'…"
      ]
     },
     "metadata": {},
     "output_type": "display_data"
    },
    {
     "name": "stdout",
     "output_type": "stream",
     "text": [
      "Batch 1: (1/9) Mean Baseline Regression Pipeline        Elapsed:00:00\n",
      "\tStarting cross validation\n",
      "\tFinished cross validation - mean R2: -8.141\n",
      "High coefficient of variation (cv >= 0.2) within cross validation scores. Mean Baseline Regression Pipeline may not perform as estimated on unseen data.\n",
      "Batch 1: (2/9) Decision Tree Regressor w/ Imputer       Elapsed:00:00\n",
      "\tStarting cross validation\n",
      "\tFinished cross validation - mean R2: -7.193\n",
      "High coefficient of variation (cv >= 0.2) within cross validation scores. Decision Tree Regressor w/ Imputer may not perform as estimated on unseen data.\n",
      "Batch 1: (3/9) Extra Trees Regressor w/ Imputer         Elapsed:00:02\n",
      "\tStarting cross validation\n",
      "\tFinished cross validation - mean R2: -3.110\n",
      "High coefficient of variation (cv >= 0.2) within cross validation scores. Extra Trees Regressor w/ Imputer may not perform as estimated on unseen data.\n",
      "Batch 1: (4/9) XGBoost Regressor w/ Imputer             Elapsed:00:04\n",
      "\tStarting cross validation\n",
      "\tFinished cross validation - mean R2: 0.150\n",
      "High coefficient of variation (cv >= 0.2) within cross validation scores. XGBoost Regressor w/ Imputer may not perform as estimated on unseen data.\n",
      "Batch 1: (5/9) CatBoost Regressor w/ Imputer            Elapsed:00:06\n",
      "\tStarting cross validation\n",
      "\tFinished cross validation - mean R2: -7.910\n",
      "High coefficient of variation (cv >= 0.2) within cross validation scores. CatBoost Regressor w/ Imputer may not perform as estimated on unseen data.\n",
      "Batch 1: (6/9) Random Forest Regressor w/ Imputer       Elapsed:00:07\n",
      "\tStarting cross validation\n",
      "\tFinished cross validation - mean R2: -3.560\n",
      "High coefficient of variation (cv >= 0.2) within cross validation scores. Random Forest Regressor w/ Imputer may not perform as estimated on unseen data.\n",
      "Batch 1: (7/9) LightGBM Regressor w/ Imputer            Elapsed:00:09\n",
      "\tStarting cross validation\n",
      "\tFinished cross validation - mean R2: -8.141\n",
      "High coefficient of variation (cv >= 0.2) within cross validation scores. LightGBM Regressor w/ Imputer may not perform as estimated on unseen data.\n",
      "Batch 1: (8/9) Linear Regressor w/ Imputer + Standar... Elapsed:00:11\n",
      "\tStarting cross validation\n",
      "\tFinished cross validation - mean R2: -3.559\n",
      "High coefficient of variation (cv >= 0.2) within cross validation scores. Linear Regressor w/ Imputer + Standard Scaler may not perform as estimated on unseen data.\n",
      "Batch 1: (9/9) Elastic Net Regressor w/ Imputer + St... Elapsed:00:13\n",
      "\tStarting cross validation\n",
      "\tFinished cross validation - mean R2: -3.269\n",
      "High coefficient of variation (cv >= 0.2) within cross validation scores. Elastic Net Regressor w/ Imputer + Standard Scaler may not perform as estimated on unseen data.\n",
      "\n",
      "Search finished after 00:15            \n",
      "Best pipeline: XGBoost Regressor w/ Imputer\n",
      "Best pipeline R2: 0.149684\n",
      "   id                                      pipeline_name     score  \\\n",
      "0   3                       XGBoost Regressor w/ Imputer  0.149684   \n",
      "1   2                   Extra Trees Regressor w/ Imputer -3.110198   \n",
      "2   8  Elastic Net Regressor w/ Imputer + Standard Sc... -3.268648   \n",
      "3   7      Linear Regressor w/ Imputer + Standard Scaler -3.558835   \n",
      "4   5                 Random Forest Regressor w/ Imputer -3.559772   \n",
      "5   1                 Decision Tree Regressor w/ Imputer -7.192638   \n",
      "6   4                      CatBoost Regressor w/ Imputer -7.909988   \n",
      "7   6                      LightGBM Regressor w/ Imputer -8.140740   \n",
      "8   0                  Mean Baseline Regression Pipeline -8.140740   \n",
      "\n",
      "   validation_score  percent_better_than_baseline  high_variance_cv  \\\n",
      "0          0.905591                    101.838706              True   \n",
      "1          0.914168                     61.794658              True   \n",
      "2          0.902881                     59.848274              True   \n",
      "3          0.620913                     56.283641              True   \n",
      "4          0.783361                     56.272136              True   \n",
      "5          0.625900                     11.646385              True   \n",
      "6          0.078018                      2.834539              True   \n",
      "7         -0.027411                      0.000003              True   \n",
      "8         -0.027411                      0.000000              True   \n",
      "\n",
      "                                          parameters  \n",
      "0  {'Imputer': {'categorical_impute_strategy': 'm...  \n",
      "1  {'Imputer': {'categorical_impute_strategy': 'm...  \n",
      "2  {'Imputer': {'categorical_impute_strategy': 'm...  \n",
      "3  {'Imputer': {'categorical_impute_strategy': 'm...  \n",
      "4  {'Imputer': {'categorical_impute_strategy': 'm...  \n",
      "5  {'Imputer': {'categorical_impute_strategy': 'm...  \n",
      "6  {'Imputer': {'categorical_impute_strategy': 'm...  \n",
      "7  {'Imputer': {'categorical_impute_strategy': 'm...  \n",
      "8       {'Baseline Regressor': {'strategy': 'mean'}}  \n",
      "         feature  importance\n",
      "0        secvocp    0.700618\n",
      "1         teryrs    0.201309\n",
      "2        prcompc    0.089940\n",
      "3   meandiabetes    0.008133\n",
      "4          lityf    0.000000\n",
      "5          litaf    0.000000\n",
      "6            vtf    0.000000\n",
      "7        Obesity    0.000000\n",
      "8            dpt    0.000000\n",
      "9          imeas    0.000000\n",
      "10        impsan    0.000000\n",
      "11         rrgov    0.000000\n",
      "12        civlib    0.000000\n",
      "13            pf    0.000000\n",
      "14         logis    0.000000\n",
      "15        insdtf    0.000000\n",
      "16       creddtf    0.000000\n",
      "17     elcostlnl    0.000000\n",
      "18       stardtf    0.000000\n",
      "19         urate    0.000000\n",
      "20           eqi    0.000000\n",
      "21           edi    0.000000\n",
      "22          gdp5    0.000000\n",
      "23           pts    0.000000\n",
      "24     womenparl    0.000000\n",
      "25         vapvt    0.000000\n",
      "26         rqual    0.000000\n",
      "27         ticpi    0.000000\n",
      "28          rlaw    0.000000\n",
      "29  airpollution    0.000000\n",
      "\n",
      "\n",
      "Zimbabwe \n",
      "\n",
      "\n",
      "Using default limit of max_batches=1.\n",
      "\n",
      "Generating pipelines to search over...\n",
      "*****************************\n",
      "* Beginning pipeline search *\n",
      "*****************************\n",
      "\n",
      "Optimizing for R2. \n",
      "Greater score is better.\n",
      "\n",
      "Using SequentialEngine to train and score pipelines.\n",
      "Searching up to 1 batches for a total of 9 pipelines. \n",
      "Allowed model families: decision_tree, random_forest, lightgbm, extra_trees, xgboost, catboost, linear_model\n",
      "\n"
     ]
    },
    {
     "data": {
      "application/vnd.jupyter.widget-view+json": {
       "model_id": "f8769f9690ad4cd58815c6a0648a2e91",
       "version_major": 2,
       "version_minor": 0
      },
      "text/plain": [
       "FigureWidget({\n",
       "    'data': [{'mode': 'lines+markers',\n",
       "              'name': 'Best Score',\n",
       "              'type'…"
      ]
     },
     "metadata": {},
     "output_type": "display_data"
    },
    {
     "name": "stdout",
     "output_type": "stream",
     "text": [
      "Batch 1: (1/9) Mean Baseline Regression Pipeline        Elapsed:00:00\n",
      "\tStarting cross validation\n",
      "\tFinished cross validation - mean R2: -19.760\n",
      "High coefficient of variation (cv >= 0.2) within cross validation scores. Mean Baseline Regression Pipeline may not perform as estimated on unseen data.\n",
      "Batch 1: (2/9) Decision Tree Regressor w/ Imputer       Elapsed:00:00\n",
      "\tStarting cross validation\n",
      "\tFinished cross validation - mean R2: -4.492\n",
      "High coefficient of variation (cv >= 0.2) within cross validation scores. Decision Tree Regressor w/ Imputer may not perform as estimated on unseen data.\n",
      "Batch 1: (3/9) Extra Trees Regressor w/ Imputer         Elapsed:00:01\n",
      "\tStarting cross validation\n",
      "\tFinished cross validation - mean R2: -3.620\n",
      "High coefficient of variation (cv >= 0.2) within cross validation scores. Extra Trees Regressor w/ Imputer may not perform as estimated on unseen data.\n",
      "Batch 1: (4/9) XGBoost Regressor w/ Imputer             Elapsed:00:02\n",
      "\tStarting cross validation\n",
      "\tFinished cross validation - mean R2: -2.840\n",
      "High coefficient of variation (cv >= 0.2) within cross validation scores. XGBoost Regressor w/ Imputer may not perform as estimated on unseen data.\n",
      "Batch 1: (5/9) CatBoost Regressor w/ Imputer            Elapsed:00:04\n",
      "\tStarting cross validation\n",
      "\tFinished cross validation - mean R2: -17.689\n",
      "High coefficient of variation (cv >= 0.2) within cross validation scores. CatBoost Regressor w/ Imputer may not perform as estimated on unseen data.\n",
      "Batch 1: (6/9) Random Forest Regressor w/ Imputer       Elapsed:00:05\n",
      "\tStarting cross validation\n",
      "\tFinished cross validation - mean R2: -7.428\n",
      "High coefficient of variation (cv >= 0.2) within cross validation scores. Random Forest Regressor w/ Imputer may not perform as estimated on unseen data.\n",
      "Batch 1: (7/9) LightGBM Regressor w/ Imputer            Elapsed:00:08\n",
      "\tStarting cross validation\n",
      "\tFinished cross validation - mean R2: -19.760\n",
      "High coefficient of variation (cv >= 0.2) within cross validation scores. LightGBM Regressor w/ Imputer may not perform as estimated on unseen data.\n",
      "Batch 1: (8/9) Linear Regressor w/ Imputer + Standar... Elapsed:00:09\n",
      "\tStarting cross validation\n",
      "\tFinished cross validation - mean R2: 0.297\n",
      "High coefficient of variation (cv >= 0.2) within cross validation scores. Linear Regressor w/ Imputer + Standard Scaler may not perform as estimated on unseen data.\n",
      "Batch 1: (9/9) Elastic Net Regressor w/ Imputer + St... Elapsed:00:10\n",
      "\tStarting cross validation\n",
      "\tFinished cross validation - mean R2: -1.403\n",
      "High coefficient of variation (cv >= 0.2) within cross validation scores. Elastic Net Regressor w/ Imputer + Standard Scaler may not perform as estimated on unseen data.\n",
      "\n",
      "Search finished after 00:11            \n",
      "Best pipeline: Linear Regressor w/ Imputer + Standard Scaler\n",
      "Best pipeline R2: 0.297422\n",
      "   id                                      pipeline_name      score  \\\n",
      "0   7      Linear Regressor w/ Imputer + Standard Scaler   0.297422   \n",
      "1   8  Elastic Net Regressor w/ Imputer + Standard Sc...  -1.403007   \n",
      "2   3                       XGBoost Regressor w/ Imputer  -2.840333   \n",
      "3   2                   Extra Trees Regressor w/ Imputer  -3.619947   \n",
      "4   1                 Decision Tree Regressor w/ Imputer  -4.491982   \n",
      "5   5                 Random Forest Regressor w/ Imputer  -7.428276   \n",
      "6   4                      CatBoost Regressor w/ Imputer -17.688521   \n",
      "7   0                  Mean Baseline Regression Pipeline -19.759919   \n",
      "8   6                      LightGBM Regressor w/ Imputer -19.759927   \n",
      "\n",
      "   validation_score  percent_better_than_baseline  high_variance_cv  \\\n",
      "0          0.986104                    101.505180              True   \n",
      "1          0.961848                     92.899735              True   \n",
      "2          0.831758                     85.625788              True   \n",
      "3          0.599461                     81.680354              True   \n",
      "4         -0.208808                     77.267203              True   \n",
      "5          0.408106                     62.407357              True   \n",
      "6          0.048448                     10.482828              True   \n",
      "7         -0.000234                      0.000000              True   \n",
      "8         -0.000234                     -0.000039              True   \n",
      "\n",
      "                                          parameters  \n",
      "0  {'Imputer': {'categorical_impute_strategy': 'm...  \n",
      "1  {'Imputer': {'categorical_impute_strategy': 'm...  \n",
      "2  {'Imputer': {'categorical_impute_strategy': 'm...  \n",
      "3  {'Imputer': {'categorical_impute_strategy': 'm...  \n",
      "4  {'Imputer': {'categorical_impute_strategy': 'm...  \n",
      "5  {'Imputer': {'categorical_impute_strategy': 'm...  \n",
      "6  {'Imputer': {'categorical_impute_strategy': 'm...  \n",
      "7       {'Baseline Regressor': {'strategy': 'mean'}}  \n",
      "8  {'Imputer': {'categorical_impute_strategy': 'm...  \n",
      "          feature  importance\n",
      "0           rqual    0.361269\n",
      "1          teryrs   -0.346670\n",
      "2             eqi    0.275188\n",
      "3    meandiabetes    0.273370\n",
      "4             vtf    0.254022\n",
      "5            ippr    0.250811\n",
      "6          insdtf    0.250634\n",
      "7           logis    0.235341\n",
      "8           lityf    0.215860\n",
      "9            redu   -0.211682\n",
      "10        homilnl   -0.210376\n",
      "11          vapvt   -0.200894\n",
      "12           geff    0.196808\n",
      "13          ticpi   -0.193743\n",
      "14          urate   -0.182768\n",
      "15          bband    0.165508\n",
      "16          trang    0.148204\n",
      "17    tdeathslnl5    0.096907\n",
      "18          rrsoc    0.093913\n",
      "19  refugee_oriln    0.082495\n",
      "20          rrgov   -0.078982\n",
      "21        Obesity    0.045714\n",
      "22           hifi   -0.035912\n",
      "23            edi    0.025947\n",
      "\n",
      "\n",
      "Ivory Coast \n",
      "\n",
      "\n",
      "Using default limit of max_batches=1.\n",
      "\n",
      "Generating pipelines to search over...\n",
      "*****************************\n",
      "* Beginning pipeline search *\n",
      "*****************************\n",
      "\n",
      "Optimizing for R2. \n",
      "Greater score is better.\n",
      "\n",
      "Using SequentialEngine to train and score pipelines.\n",
      "Searching up to 1 batches for a total of 9 pipelines. \n",
      "Allowed model families: decision_tree, random_forest, lightgbm, extra_trees, xgboost, catboost, linear_model\n",
      "\n"
     ]
    },
    {
     "data": {
      "application/vnd.jupyter.widget-view+json": {
       "model_id": "254f36562ffc4beeba32dbda57d3e51d",
       "version_major": 2,
       "version_minor": 0
      },
      "text/plain": [
       "FigureWidget({\n",
       "    'data': [{'mode': 'lines+markers',\n",
       "              'name': 'Best Score',\n",
       "              'type'…"
      ]
     },
     "metadata": {},
     "output_type": "display_data"
    },
    {
     "name": "stdout",
     "output_type": "stream",
     "text": [
      "Batch 1: (1/9) Mean Baseline Regression Pipeline        Elapsed:00:00\n",
      "\tStarting cross validation\n",
      "\tFinished cross validation - mean R2: -29.770\n",
      "High coefficient of variation (cv >= 0.2) within cross validation scores. Mean Baseline Regression Pipeline may not perform as estimated on unseen data.\n",
      "Batch 1: (2/9) Decision Tree Regressor w/ Imputer       Elapsed:00:01\n",
      "\tStarting cross validation\n",
      "\tFinished cross validation - mean R2: -2.615\n",
      "High coefficient of variation (cv >= 0.2) within cross validation scores. Decision Tree Regressor w/ Imputer may not perform as estimated on unseen data.\n",
      "Batch 1: (3/9) Extra Trees Regressor w/ Imputer         Elapsed:00:02\n",
      "\tStarting cross validation\n",
      "\tFinished cross validation - mean R2: -1.975\n",
      "High coefficient of variation (cv >= 0.2) within cross validation scores. Extra Trees Regressor w/ Imputer may not perform as estimated on unseen data.\n",
      "Batch 1: (4/9) XGBoost Regressor w/ Imputer             Elapsed:00:04\n",
      "\tStarting cross validation\n",
      "\tFinished cross validation - mean R2: -2.563\n",
      "High coefficient of variation (cv >= 0.2) within cross validation scores. XGBoost Regressor w/ Imputer may not perform as estimated on unseen data.\n",
      "Batch 1: (5/9) CatBoost Regressor w/ Imputer            Elapsed:00:06\n",
      "\tStarting cross validation\n",
      "\tFinished cross validation - mean R2: -25.603\n",
      "High coefficient of variation (cv >= 0.2) within cross validation scores. CatBoost Regressor w/ Imputer may not perform as estimated on unseen data.\n",
      "Batch 1: (6/9) Random Forest Regressor w/ Imputer       Elapsed:00:08\n",
      "\tStarting cross validation\n",
      "\tFinished cross validation - mean R2: -7.576\n",
      "High coefficient of variation (cv >= 0.2) within cross validation scores. Random Forest Regressor w/ Imputer may not perform as estimated on unseen data.\n",
      "Batch 1: (7/9) LightGBM Regressor w/ Imputer            Elapsed:00:12\n",
      "\tStarting cross validation\n",
      "\tFinished cross validation - mean R2: -29.770\n",
      "High coefficient of variation (cv >= 0.2) within cross validation scores. LightGBM Regressor w/ Imputer may not perform as estimated on unseen data.\n",
      "Batch 1: (8/9) Linear Regressor w/ Imputer + Standar... Elapsed:00:14\n",
      "\tStarting cross validation\n",
      "\tFinished cross validation - mean R2: -22.716\n",
      "High coefficient of variation (cv >= 0.2) within cross validation scores. Linear Regressor w/ Imputer + Standard Scaler may not perform as estimated on unseen data.\n",
      "Batch 1: (9/9) Elastic Net Regressor w/ Imputer + St... Elapsed:00:17\n",
      "\tStarting cross validation\n",
      "\tFinished cross validation - mean R2: -23.034\n",
      "High coefficient of variation (cv >= 0.2) within cross validation scores. Elastic Net Regressor w/ Imputer + Standard Scaler may not perform as estimated on unseen data.\n",
      "\n",
      "Search finished after 00:23            \n",
      "Best pipeline: Extra Trees Regressor w/ Imputer\n",
      "Best pipeline R2: -1.974970\n",
      "   id                                      pipeline_name      score  \\\n",
      "0   2                   Extra Trees Regressor w/ Imputer  -1.974970   \n",
      "1   3                       XGBoost Regressor w/ Imputer  -2.563022   \n",
      "2   1                 Decision Tree Regressor w/ Imputer  -2.615002   \n",
      "3   5                 Random Forest Regressor w/ Imputer  -7.576034   \n",
      "4   7      Linear Regressor w/ Imputer + Standard Scaler -22.716103   \n",
      "5   8  Elastic Net Regressor w/ Imputer + Standard Sc... -23.034043   \n",
      "6   4                      CatBoost Regressor w/ Imputer -25.603460   \n",
      "7   0                  Mean Baseline Regression Pipeline -29.769665   \n",
      "8   6                      LightGBM Regressor w/ Imputer -29.769670   \n",
      "\n",
      "   validation_score  percent_better_than_baseline  high_variance_cv  \\\n",
      "0          0.142452                     93.365830              True   \n",
      "1         -1.941316                     91.390490              True   \n",
      "2         -1.492227                     91.215884              True   \n",
      "3          0.307003                     74.551161              True   \n",
      "4          0.948658                     23.693790              True   \n",
      "5          0.805852                     22.625789              True   \n",
      "6         -0.344511                     13.994800              True   \n",
      "7         -0.521764                      0.000000              True   \n",
      "8         -0.521765                     -0.000019              True   \n",
      "\n",
      "                                          parameters  \n",
      "0  {'Imputer': {'categorical_impute_strategy': 'm...  \n",
      "1  {'Imputer': {'categorical_impute_strategy': 'm...  \n",
      "2  {'Imputer': {'categorical_impute_strategy': 'm...  \n",
      "3  {'Imputer': {'categorical_impute_strategy': 'm...  \n",
      "4  {'Imputer': {'categorical_impute_strategy': 'm...  \n",
      "5  {'Imputer': {'categorical_impute_strategy': 'm...  \n",
      "6  {'Imputer': {'categorical_impute_strategy': 'm...  \n",
      "7       {'Baseline Regressor': {'strategy': 'mean'}}  \n",
      "8  {'Imputer': {'categorical_impute_strategy': 'm...  \n",
      "          feature  importance\n",
      "0            redu    0.456567\n",
      "1              pf    0.126854\n",
      "2         barrier    0.116907\n",
      "3           rrgov    0.106886\n",
      "4             pts    0.075066\n",
      "5           lityf    0.058611\n",
      "6    airpollution    0.039064\n",
      "7             vtf    0.008247\n",
      "8             dpt    0.002860\n",
      "9           ticpi    0.001879\n",
      "10          imeas    0.000853\n",
      "11           hifi    0.000617\n",
      "12          rrsoc    0.000556\n",
      "13   meandiabetes    0.000531\n",
      "14          bband    0.000497\n",
      "15            amp    0.000411\n",
      "16        prcompc    0.000411\n",
      "17         insdtf    0.000405\n",
      "18        Obesity    0.000387\n",
      "19        creddtf    0.000349\n",
      "20           geff    0.000347\n",
      "21           affs    0.000276\n",
      "22           lfpr    0.000275\n",
      "23      womenparl    0.000250\n",
      "24         teryrs    0.000249\n",
      "25            eqi    0.000198\n",
      "26    tdeathslnl5    0.000166\n",
      "27          trang    0.000166\n",
      "28  refugee_oriln    0.000087\n",
      "29      warcasual    0.000018\n",
      "30      polrights    0.000012\n",
      "31         civlib    0.000000\n",
      "\n",
      "\n",
      "Georgia \n",
      "\n",
      "\n",
      "Using default limit of max_batches=1.\n",
      "\n",
      "Generating pipelines to search over...\n",
      "*****************************\n",
      "* Beginning pipeline search *\n",
      "*****************************\n",
      "\n",
      "Optimizing for R2. \n",
      "Greater score is better.\n",
      "\n",
      "Using SequentialEngine to train and score pipelines.\n",
      "Searching up to 1 batches for a total of 9 pipelines. \n",
      "Allowed model families: decision_tree, random_forest, lightgbm, extra_trees, xgboost, catboost, linear_model\n",
      "\n"
     ]
    },
    {
     "data": {
      "application/vnd.jupyter.widget-view+json": {
       "model_id": "cd9e58eb5650447a908da8b2de0baf1e",
       "version_major": 2,
       "version_minor": 0
      },
      "text/plain": [
       "FigureWidget({\n",
       "    'data': [{'mode': 'lines+markers',\n",
       "              'name': 'Best Score',\n",
       "              'type'…"
      ]
     },
     "metadata": {},
     "output_type": "display_data"
    },
    {
     "name": "stdout",
     "output_type": "stream",
     "text": [
      "Batch 1: (1/9) Mean Baseline Regression Pipeline        Elapsed:00:00\n",
      "\tStarting cross validation\n",
      "\tFinished cross validation - mean R2: -4.780\n",
      "High coefficient of variation (cv >= 0.2) within cross validation scores. Mean Baseline Regression Pipeline may not perform as estimated on unseen data.\n",
      "Batch 1: (2/9) Decision Tree Regressor w/ Imputer       Elapsed:00:00\n",
      "\tStarting cross validation\n",
      "\tFinished cross validation - mean R2: -1.410\n",
      "High coefficient of variation (cv >= 0.2) within cross validation scores. Decision Tree Regressor w/ Imputer may not perform as estimated on unseen data.\n",
      "Batch 1: (3/9) Extra Trees Regressor w/ Imputer         Elapsed:00:02\n",
      "\tStarting cross validation\n",
      "\tFinished cross validation - mean R2: -0.517\n",
      "High coefficient of variation (cv >= 0.2) within cross validation scores. Extra Trees Regressor w/ Imputer may not perform as estimated on unseen data.\n",
      "Batch 1: (4/9) XGBoost Regressor w/ Imputer             Elapsed:00:04\n",
      "\tStarting cross validation\n",
      "\tFinished cross validation - mean R2: -1.061\n",
      "High coefficient of variation (cv >= 0.2) within cross validation scores. XGBoost Regressor w/ Imputer may not perform as estimated on unseen data.\n",
      "Batch 1: (5/9) CatBoost Regressor w/ Imputer            Elapsed:00:06\n",
      "\tStarting cross validation\n",
      "\tFinished cross validation - mean R2: -4.371\n",
      "High coefficient of variation (cv >= 0.2) within cross validation scores. CatBoost Regressor w/ Imputer may not perform as estimated on unseen data.\n",
      "Batch 1: (6/9) Random Forest Regressor w/ Imputer       Elapsed:00:10\n",
      "\tStarting cross validation\n",
      "\tFinished cross validation - mean R2: -1.927\n",
      "High coefficient of variation (cv >= 0.2) within cross validation scores. Random Forest Regressor w/ Imputer may not perform as estimated on unseen data.\n",
      "Batch 1: (7/9) LightGBM Regressor w/ Imputer            Elapsed:00:14\n",
      "\tStarting cross validation\n",
      "\tFinished cross validation - mean R2: -4.780\n",
      "High coefficient of variation (cv >= 0.2) within cross validation scores. LightGBM Regressor w/ Imputer may not perform as estimated on unseen data.\n",
      "Batch 1: (8/9) Linear Regressor w/ Imputer + Standar... Elapsed:00:16\n",
      "\tStarting cross validation\n",
      "\tFinished cross validation - mean R2: -0.737\n",
      "High coefficient of variation (cv >= 0.2) within cross validation scores. Linear Regressor w/ Imputer + Standard Scaler may not perform as estimated on unseen data.\n",
      "Batch 1: (9/9) Elastic Net Regressor w/ Imputer + St... Elapsed:00:18\n",
      "\tStarting cross validation\n",
      "\tFinished cross validation - mean R2: -2.998\n",
      "High coefficient of variation (cv >= 0.2) within cross validation scores. Elastic Net Regressor w/ Imputer + Standard Scaler may not perform as estimated on unseen data.\n",
      "\n",
      "Search finished after 00:20            \n",
      "Best pipeline: Extra Trees Regressor w/ Imputer\n",
      "Best pipeline R2: -0.516867\n",
      "   id                                      pipeline_name     score  \\\n",
      "0   2                   Extra Trees Regressor w/ Imputer -0.516867   \n",
      "1   7      Linear Regressor w/ Imputer + Standard Scaler -0.737331   \n",
      "2   3                       XGBoost Regressor w/ Imputer -1.060540   \n",
      "3   1                 Decision Tree Regressor w/ Imputer -1.409869   \n",
      "4   5                 Random Forest Regressor w/ Imputer -1.927272   \n",
      "5   8  Elastic Net Regressor w/ Imputer + Standard Sc... -2.998051   \n",
      "6   4                      CatBoost Regressor w/ Imputer -4.371426   \n",
      "7   0                  Mean Baseline Regression Pipeline -4.780480   \n",
      "8   6                      LightGBM Regressor w/ Imputer -4.780483   \n",
      "\n",
      "   validation_score  percent_better_than_baseline  high_variance_cv  \\\n",
      "0          0.745981                     89.187978              True   \n",
      "1          0.474966                     84.576224              True   \n",
      "2         -1.201152                     77.815207              True   \n",
      "3          0.485867                     70.507789              True   \n",
      "4          0.221630                     59.684555              True   \n",
      "5          0.698439                     37.285577              True   \n",
      "6         -0.063842                      8.556768              True   \n",
      "7         -0.086973                      0.000000              True   \n",
      "8         -0.086974                     -0.000060              True   \n",
      "\n",
      "                                          parameters  \n",
      "0  {'Imputer': {'categorical_impute_strategy': 'm...  \n",
      "1  {'Imputer': {'categorical_impute_strategy': 'm...  \n",
      "2  {'Imputer': {'categorical_impute_strategy': 'm...  \n",
      "3  {'Imputer': {'categorical_impute_strategy': 'm...  \n",
      "4  {'Imputer': {'categorical_impute_strategy': 'm...  \n",
      "5  {'Imputer': {'categorical_impute_strategy': 'm...  \n",
      "6  {'Imputer': {'categorical_impute_strategy': 'm...  \n",
      "7       {'Baseline Regressor': {'strategy': 'mean'}}  \n",
      "8  {'Imputer': {'categorical_impute_strategy': 'm...  \n",
      "         feature  importance\n",
      "0          litaf    0.304966\n",
      "1         civlib    0.154792\n",
      "2            edi    0.087420\n",
      "3          elfcr    0.054725\n",
      "4            amp    0.051402\n",
      "5         insdtf    0.048154\n",
      "6            eqi    0.041745\n",
      "7   meandiabetes    0.029210\n",
      "8        creddtf    0.024682\n",
      "9      womenparl    0.020921\n",
      "10       povdday    0.019445\n",
      "11        gbrata    0.019439\n",
      "12           vtf    0.016891\n",
      "13         vapvt    0.014997\n",
      "14         ticpi    0.011875\n",
      "15       polity2    0.010622\n",
      "16       secvocp    0.009543\n",
      "17          hifi    0.008582\n",
      "18       povnahc    0.007490\n",
      "19   tdeathslnl5    0.006987\n",
      "20           pts    0.006887\n",
      "21         rrgov    0.005596\n",
      "22       barrier    0.005407\n",
      "23       stardtf    0.004998\n",
      "24         urate    0.004343\n",
      "25    rdeathslnl    0.004332\n",
      "26         lityf    0.003937\n",
      "27          geff    0.003577\n",
      "28          ippr    0.003564\n",
      "29         imeas    0.003270\n",
      "30           dpt    0.002514\n",
      "31          mort    0.002474\n",
      "32  airpollution    0.002089\n",
      "33         rrsoc    0.001983\n",
      "34       prcompc    0.000762\n",
      "35         tblnl    0.000307\n",
      "36         logis    0.000071\n",
      "37    bdeathslnl    0.000000\n",
      "\n",
      "\n"
     ]
    }
   ],
   "source": [
    "countries  = ['Chad', 'Togo', 'Zimbabwe', 'Ivory Coast', 'Georgia']\n",
    "\n",
    "for country in countries:\n",
    "    print(country, '\\n\\n')\n",
    "    (pd.DataFrame(model(country).groupby('dataset')['importance'].sum().sort_values(ascending = False))).to_csv('{}.csv'.format(country))\n",
    "    print('\\n')"
   ]
  }
 ],
 "metadata": {
  "kernelspec": {
   "display_name": "Python 3",
   "language": "python",
   "name": "python3"
  },
  "language_info": {
   "codemirror_mode": {
    "name": "ipython",
    "version": 3
   },
   "file_extension": ".py",
   "mimetype": "text/x-python",
   "name": "python",
   "nbconvert_exporter": "python",
   "pygments_lexer": "ipython3",
   "version": "3.8.8"
  }
 },
 "nbformat": 4,
 "nbformat_minor": 5
}
